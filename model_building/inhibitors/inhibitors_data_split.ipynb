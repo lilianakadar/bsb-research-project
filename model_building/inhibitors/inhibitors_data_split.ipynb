{
 "cells": [
  {
   "cell_type": "code",
   "execution_count": null,
   "metadata": {},
   "outputs": [],
   "source": [
    "import pandas as pd\n",
    "import matplotlib.pyplot as plt\n",
    "import numpy as np\n",
    "import seaborn as sns\n"
   ]
  },
  {
   "cell_type": "markdown",
   "metadata": {},
   "source": [
    "READ ME\n",
    "\n",
    "This file is used to make train-test split for the inhibitor dataset\n",
    "\n",
    "- temporal: keep the more recent 30% for validation, and use the older 70% for training\n",
    "- cluster split: keep the 30% less similar molecules for validation, train on the 70% that are closer to each other (how good is the generalization of the model? )"
   ]
  },
  {
   "cell_type": "markdown",
   "metadata": {},
   "source": [
    "MCL - Temporal"
   ]
  },
  {
   "cell_type": "code",
   "execution_count": null,
   "metadata": {},
   "outputs": [],
   "source": [
    "df_raw_mcl = pd.read_csv('../../data_preparation/inhibitors/mcl/mcl1_raw.csv')\n"
   ]
  },
  {
   "cell_type": "code",
   "execution_count": null,
   "metadata": {},
   "outputs": [],
   "source": [
    "df_raw_mcl['Year'] = df_raw_mcl['Year'].astype(int)\n",
    "\n",
    "plt.figure(figsize=(10, 8))\n",
    "ecdf_plot = sns.ecdfplot(data=df_raw_mcl, x=\"Year\", stat='proportion')\n",
    "\n",
    "plt.axhline(y=0.7, color='blue', linestyle='--', label='Horizontal Line at y=0.7')\n",
    "plt.show()"
   ]
  },
  {
   "cell_type": "code",
   "execution_count": null,
   "metadata": {},
   "outputs": [],
   "source": [
    "df_mcl = df_raw_mcl[['SMILES','InChIKey','connectivity','pchembl_value_Mean','Year']]\n",
    "df_mcl = df_mcl.rename(columns={'connectivity':'inchi_connectivity'})\n"
   ]
  },
  {
   "cell_type": "code",
   "execution_count": null,
   "metadata": {},
   "outputs": [],
   "source": [
    "mcl_test = df_mcl[df_mcl['Year'] >= 2019]\n",
    "mcl_test = mcl_test.reset_index(drop=True)\n",
    "        \n",
    "mcl_train = df_mcl[df_mcl['Year'] < 2019]\n",
    "mcl_train = mcl_train.reset_index(drop=True)\n"
   ]
  },
  {
   "cell_type": "code",
   "execution_count": null,
   "metadata": {},
   "outputs": [],
   "source": [
    "print(f'All: {len(df_mcl)}')\n",
    "print(f'Test: {len(mcl_test)}')\n",
    "perc = len(mcl_test) / len(df_mcl)\n",
    "print(f'Percentage: {perc}')"
   ]
  },
  {
   "cell_type": "code",
   "execution_count": null,
   "metadata": {},
   "outputs": [],
   "source": [
    "mcl_test.to_csv('splitting/mcl_temporal_test.csv', index=True)\n",
    "mcl_train.to_csv('splitting/mcl_temporal_train.csv', index=True)"
   ]
  },
  {
   "cell_type": "markdown",
   "metadata": {},
   "source": [
    "BCL - Temporal"
   ]
  },
  {
   "cell_type": "code",
   "execution_count": null,
   "metadata": {},
   "outputs": [],
   "source": [
    "df_raw_bcl = pd.read_csv('../../data_preparation/inhibitors/bcl/bcl2_raw.csv')"
   ]
  },
  {
   "cell_type": "code",
   "execution_count": null,
   "metadata": {},
   "outputs": [],
   "source": [
    "df_raw_bcl['Year'] = df_raw_bcl['Year'].astype(int)\n",
    "\n",
    "plt.figure(figsize=(10, 8))\n",
    "ecdf_plot = sns.ecdfplot(data=df_raw_bcl, x=\"Year\", stat='proportion')\n",
    "\n",
    "plt.axhline(y=0.7, color='blue', linestyle='--', label='Horizontal Line at y=0.7')\n",
    "plt.show()"
   ]
  },
  {
   "cell_type": "code",
   "execution_count": null,
   "metadata": {},
   "outputs": [],
   "source": [
    "df_bcl = df_raw_bcl[['SMILES','InChIKey','connectivity','pchembl_value_Mean','Year']]\n",
    "df_bcl = df_bcl.rename(columns={'connectivity':'inchi_connectivity'})\n"
   ]
  },
  {
   "cell_type": "code",
   "execution_count": null,
   "metadata": {},
   "outputs": [],
   "source": [
    "bcl_test = df_bcl[df_bcl['Year'] >= 2017]\n",
    "bcl_test = bcl_test.reset_index(drop=True)\n",
    "        \n",
    "bcl_train = df_bcl[df_bcl['Year'] < 2017]\n",
    "bcl_train = bcl_train.reset_index(drop=True)"
   ]
  },
  {
   "cell_type": "code",
   "execution_count": null,
   "metadata": {},
   "outputs": [],
   "source": [
    "print(f'All: {len(df_bcl)}')\n",
    "print(f'Test: {len(bcl_test)}')\n",
    "perc = len(bcl_test) / len(df_bcl)\n",
    "print(f'Percentage: {perc}')"
   ]
  },
  {
   "cell_type": "code",
   "execution_count": null,
   "metadata": {},
   "outputs": [],
   "source": [
    "bcl_test.to_csv('splitting/bcl_temporal_test.csv', index=True)\n",
    "bcl_train.to_csv('splitting/bcl_temporal_train.csv', index=True)"
   ]
  },
  {
   "cell_type": "code",
   "execution_count": null,
   "metadata": {},
   "outputs": [],
   "source": [
    "df_bcl.head()"
   ]
  },
  {
   "cell_type": "markdown",
   "metadata": {},
   "source": [
    "Mcl - Cluster"
   ]
  },
  {
   "cell_type": "code",
   "execution_count": null,
   "metadata": {},
   "outputs": [],
   "source": [
    "!python clustering_split.py -i ../../data_preparation/inhibitors/mcl/mcl_molecules.csv -o splitting/mcl_cluster_split.csv -b True -f 0.7 -s 1"
   ]
  },
  {
   "cell_type": "code",
   "execution_count": null,
   "metadata": {},
   "outputs": [],
   "source": [
    "mcl_cluster = pd.read_csv('splitting/mcl_cluster_split.csv')\n",
    "mcl_cluster = mcl_cluster.drop(columns='Unnamed: 0')\n",
    "mcl_cluster = mcl_cluster.rename(columns={'connectivity':'inchi_connectivity'})\n",
    "mcl_cluster.tail()"
   ]
  },
  {
   "cell_type": "code",
   "execution_count": null,
   "metadata": {},
   "outputs": [],
   "source": [
    "mcl_cluster_train = mcl_cluster[mcl_cluster['Group'] == \"Training\"]\n",
    "mcl_cluster_test = mcl_cluster[mcl_cluster['Group'] == \"Testing\"]\n"
   ]
  },
  {
   "cell_type": "code",
   "execution_count": null,
   "metadata": {},
   "outputs": [],
   "source": [
    "mcl_cluster_train.to_csv('splitting/mcl_cluster_train.csv', index=True)\n",
    "mcl_cluster_test.to_csv('splitting/mcl_cluster_test.csv', index=True)"
   ]
  },
  {
   "cell_type": "markdown",
   "metadata": {},
   "source": [
    "BCL - Cluster"
   ]
  },
  {
   "cell_type": "code",
   "execution_count": null,
   "metadata": {},
   "outputs": [],
   "source": [
    "!python clustering_split.py -i ../../data_preparation/inhibitors/bcl/bcl_molecules.csv -o splitting/bcl_cluster_split.csv -b True -f 0.7 -s 1"
   ]
  },
  {
   "cell_type": "code",
   "execution_count": null,
   "metadata": {},
   "outputs": [],
   "source": [
    "bcl_cluster = pd.read_csv('splitting/bcl_cluster_split.csv')\n",
    "bcl_cluster = bcl_cluster.drop(columns='Unnamed: 0')\n",
    "bcl_cluster = bcl_cluster.rename(columns={'connectivity':'inchi_connectivity'})\n",
    "bcl_cluster.tail()"
   ]
  },
  {
   "cell_type": "code",
   "execution_count": null,
   "metadata": {},
   "outputs": [],
   "source": [
    "bcl_cluster_train = bcl_cluster[bcl_cluster['Group'] == \"Training\"]\n",
    "bcl_cluster_test = bcl_cluster[bcl_cluster['Group'] == \"Testing\"]"
   ]
  },
  {
   "cell_type": "code",
   "execution_count": null,
   "metadata": {},
   "outputs": [],
   "source": [
    "bcl_cluster_train.to_csv('splitting//bcl_cluster_train.csv', index=True)\n",
    "bcl_cluster_test.to_csv('splitting/bcl_cluster_test.csv', index=True)"
   ]
  },
  {
   "cell_type": "code",
   "execution_count": null,
   "metadata": {},
   "outputs": [],
   "source": []
  }
 ],
 "metadata": {
  "kernelspec": {
   "display_name": "lily",
   "language": "python",
   "name": "python3"
  },
  "language_info": {
   "codemirror_mode": {
    "name": "ipython",
    "version": 3
   },
   "file_extension": ".py",
   "mimetype": "text/x-python",
   "name": "python",
   "nbconvert_exporter": "python",
   "pygments_lexer": "ipython3",
   "version": "3.9.18"
  }
 },
 "nbformat": 4,
 "nbformat_minor": 2
}
