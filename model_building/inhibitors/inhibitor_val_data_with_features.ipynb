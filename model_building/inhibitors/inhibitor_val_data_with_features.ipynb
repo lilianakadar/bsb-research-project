{
 "cells": [
  {
   "cell_type": "code",
   "execution_count": 1,
   "metadata": {},
   "outputs": [],
   "source": [
    "import pandas as pd\n",
    "import matplotlib.pyplot as plt\n",
    "import numpy as np\n",
    "import seaborn as sns"
   ]
  },
  {
   "cell_type": "markdown",
   "metadata": {},
   "source": [
    "READ ME\n",
    "\n",
    "This file is used to create the timely and cluster split inhibitor validation data: \n",
    "filtering out the compound + feature datasets for the corresponding train:val set"
   ]
  },
  {
   "cell_type": "code",
   "execution_count": 9,
   "metadata": {},
   "outputs": [],
   "source": [
    "itargets = ['bcl','mcl']\n",
    "split_methods = ['cluster','temporal']\n",
    "features = ['md','fp']\n",
    "datasets = ['test','train']"
   ]
  },
  {
   "cell_type": "code",
   "execution_count": 10,
   "metadata": {},
   "outputs": [],
   "source": [
    "def load_file(itarget,split,feature,dataset):\n",
    "    all_mol_file = f'../../data_preparation/variable_{feature}_generation/inhibitors_{feature}/inhibitors_{itarget}_{feature}_sub.csv'\n",
    "    split_mol_file = f'splitting/{itarget}_{split}_{dataset}.csv'\n",
    "\n",
    "    all_mol = pd.read_csv(all_mol_file,index_col=0)\n",
    "    split_mol = pd.read_csv(split_mol_file, index_col=0)\n",
    "\n",
    "    return all_mol, split_mol"
   ]
  },
  {
   "cell_type": "code",
   "execution_count": 11,
   "metadata": {},
   "outputs": [],
   "source": [
    "def filter_all(df_all,df_split):\n",
    "    filtered_df = df_all[df_all['connectivity'].isin(df_split['inchi_connectivity'])]\n",
    "    filtered_df = filtered_df.reset_index(drop=True)\n",
    "\n",
    "    return filtered_df"
   ]
  },
  {
   "cell_type": "code",
   "execution_count": 12,
   "metadata": {},
   "outputs": [],
   "source": [
    "def fix_columns(df):\n",
    "    df = df.rename(columns={'connectivity': 'inchi_connectivity'})\n",
    "\n",
    "    columns_to_drop = ['Unnamed: 0']\n",
    "    df = df.drop(columns=columns_to_drop)\n",
    "\n",
    "    return df"
   ]
  },
  {
   "cell_type": "code",
   "execution_count": 13,
   "metadata": {},
   "outputs": [],
   "source": [
    "for it in itargets:\n",
    "    for split in split_methods:\n",
    "        for f in features:\n",
    "            for d in datasets:\n",
    "                df_all, df_split = load_file(it,split,f,d)\n",
    "                df_filter = filter_all(df_all,df_split)\n",
    "                df_filter = fix_columns(df_filter)\n",
    "\n",
    "                save_file_name = f'splitted_data/inhibitors_{it}_{split}_{f}_{d}.csv'\n",
    "                df_filter.to_csv(save_file_name,index=True)"
   ]
  },
  {
   "cell_type": "code",
   "execution_count": null,
   "metadata": {},
   "outputs": [],
   "source": []
  }
 ],
 "metadata": {
  "kernelspec": {
   "display_name": "lily",
   "language": "python",
   "name": "python3"
  },
  "language_info": {
   "codemirror_mode": {
    "name": "ipython",
    "version": 3
   },
   "file_extension": ".py",
   "mimetype": "text/x-python",
   "name": "python",
   "nbconvert_exporter": "python",
   "pygments_lexer": "ipython3",
   "version": "3.9.18"
  }
 },
 "nbformat": 4,
 "nbformat_minor": 2
}
