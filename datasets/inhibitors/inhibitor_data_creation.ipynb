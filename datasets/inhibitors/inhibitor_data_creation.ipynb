{
 "cells": [
  {
   "cell_type": "code",
   "execution_count": null,
   "metadata": {},
   "outputs": [],
   "source": [
    "import pandas as pd\n",
    "import matplotlib.pyplot as plt\n",
    "import numpy as np\n",
    "import seaborn as sns\n",
    "\n",
    "import openpyxl\n",
    "import xlrd\n",
    "from rdkit import Chem\n",
    "from rdkit.Chem import inchi\n",
    "from chembl_structure_pipeline import standardizer as ChEMBL_standardizer\n",
    "from papyrus_structure_pipeline import standardizer as Papyrus_standardizer\n",
    "from papyrus_structure_pipeline import standardize\n",
    "\n",
    "from papyrus_scripts import *"
   ]
  },
  {
   "cell_type": "code",
   "execution_count": null,
   "metadata": {},
   "outputs": [],
   "source": [
    "#Download the papyrus database\n",
    "download_papyrus(only_pp=False)"
   ]
  },
  {
   "cell_type": "code",
   "execution_count": null,
   "metadata": {},
   "outputs": [],
   "source": [
    "#Define Bcl-2 as target to filter for\n",
    "bcl_ac = ['P10415','A0A1L4AQQ4','A0A1L4AQQ5','A0A1L4AQQ8','A0A1L4AQR0', 'A0A1L4AQR6','A0A7I2V3S7','A0A7I2V5Q7']\n",
    "\n",
    "#Define Mcl-2 as target to filter for\n",
    "mcl_ac = ['Q07820','C8YZ26','A0A7I2V2W2','A0A089WT64']"
   ]
  },
  {
   "cell_type": "markdown",
   "metadata": {},
   "source": [
    "Bc-2 data"
   ]
  },
  {
   "cell_type": "code",
   "execution_count": null,
   "metadata": {},
   "outputs": [],
   "source": [
    "data = read_papyrus(plusplus=True,chunksize=1_000_000)"
   ]
  },
  {
   "cell_type": "code",
   "execution_count": null,
   "metadata": {},
   "outputs": [],
   "source": [
    "#Read the protein data\n",
    "protein_data = read_protein_set()"
   ]
  },
  {
   "cell_type": "code",
   "execution_count": null,
   "metadata": {},
   "outputs": [],
   "source": [
    "#Keep only high quality data\n",
    "filter1=keep_quality(data,'High')"
   ]
  },
  {
   "cell_type": "code",
   "execution_count": null,
   "metadata": {},
   "outputs": [],
   "source": [
    "#Filter the data\n",
    "filter_bcl=keep_accession(filter1, bcl_ac)\n"
   ]
  },
  {
   "cell_type": "code",
   "execution_count": null,
   "metadata": {},
   "outputs": [],
   "source": [
    "#Create the dataset\n",
    "bcl = consume_chunks(filter_bcl)"
   ]
  },
  {
   "cell_type": "code",
   "execution_count": null,
   "metadata": {},
   "outputs": [],
   "source": [
    "#Save the raw query result\n",
    "bcl.to_csv('bcl/bcl2_raw.csv',index=True)"
   ]
  },
  {
   "cell_type": "markdown",
   "metadata": {},
   "source": [
    "Mcl-1 data"
   ]
  },
  {
   "cell_type": "code",
   "execution_count": null,
   "metadata": {},
   "outputs": [],
   "source": [
    "data = read_papyrus(plusplus=True,chunksize=1_000_000)"
   ]
  },
  {
   "cell_type": "code",
   "execution_count": null,
   "metadata": {},
   "outputs": [],
   "source": [
    "#Read the protein data\n",
    "protein_data = read_protein_set()"
   ]
  },
  {
   "cell_type": "code",
   "execution_count": null,
   "metadata": {},
   "outputs": [],
   "source": [
    "#Keep only high quality data\n",
    "filter1=keep_quality(data,'High')"
   ]
  },
  {
   "cell_type": "code",
   "execution_count": null,
   "metadata": {},
   "outputs": [],
   "source": [
    "#Filter the data\n",
    "filter_mcl=keep_accession(filter1, mcl_ac)"
   ]
  },
  {
   "cell_type": "code",
   "execution_count": null,
   "metadata": {},
   "outputs": [],
   "source": [
    "#Create the dataset\n",
    "mcl = consume_chunks(filter_mcl)"
   ]
  },
  {
   "cell_type": "code",
   "execution_count": null,
   "metadata": {},
   "outputs": [],
   "source": [
    "#Save the raw query result\n",
    "mcl.to_csv('mcl/mcl1_raw.csv',index=True)"
   ]
  },
  {
   "cell_type": "markdown",
   "metadata": {},
   "source": [
    "Clean"
   ]
  },
  {
   "cell_type": "code",
   "execution_count": null,
   "metadata": {},
   "outputs": [],
   "source": [
    "#keep only the relevant columns \n",
    "df_bcl = bcl[['SMILES','InChIKey','connectivity','pchembl_value_Mean']]\n",
    "df_mcl = mcl[['SMILES','InChIKey','connectivity','pchembl_value_Mean']]"
   ]
  },
  {
   "cell_type": "code",
   "execution_count": null,
   "metadata": {},
   "outputs": [],
   "source": [
    "#Classify compounds\n",
    "\n",
    "def classification(row):\n",
    "    if row['pchembl_value_Mean'] < 6.5:\n",
    "        return 'Non-inhibitor'\n",
    "    elif row['pchembl_value_Mean'] >= 6.5:\n",
    "        return 'Inhibitor'\n",
    "    else:\n",
    "        return '??'\n",
    "\n",
    "df_bcl['Class'] = df_bcl.apply(classification, axis=1)\n",
    "df_mcl['Class'] = df_mcl.apply(classification, axis=1)\n"
   ]
  },
  {
   "cell_type": "code",
   "execution_count": null,
   "metadata": {},
   "outputs": [],
   "source": [
    "#Check for duplicates \n",
    "\n",
    "df = df_bcl #Change the dataset here, to check for duplicates\n",
    "\n",
    "print(len(df))\n",
    "print(df['connectivity'].nunique())\n",
    "print(df['connectivity'].value_counts())\n",
    "\n",
    "#Check for contradicting duplicates\n",
    "unique_counts_log = df.groupby('connectivity')['Class'].nunique()\n",
    "duplicates_diff_class_log = unique_counts_log[unique_counts_log > 1].index\n",
    "\n",
    "print(duplicates_diff_class_log)\n",
    "print(f'Contradicting duplicates: {len(duplicates_diff_class_log)}')\n",
    "\n",
    "df = df.reset_index(drop=True)\n",
    "\n",
    "#Save final datasets without duplicates: Change filenames!\n",
    "df.to_csv('bcl/bcl_molecules.csv', index=True)"
   ]
  }
 ],
 "metadata": {
  "kernelspec": {
   "display_name": "lily",
   "language": "python",
   "name": "python3"
  },
  "language_info": {
   "codemirror_mode": {
    "name": "ipython",
    "version": 3
   },
   "file_extension": ".py",
   "mimetype": "text/x-python",
   "name": "python",
   "nbconvert_exporter": "python",
   "pygments_lexer": "ipython3",
   "version": "3.9.0"
  }
 },
 "nbformat": 4,
 "nbformat_minor": 2
}
