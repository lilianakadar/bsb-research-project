{
 "cells": [
  {
   "cell_type": "code",
   "execution_count": null,
   "metadata": {},
   "outputs": [],
   "source": [
    "import pandas as pd\n",
    "import matplotlib.pyplot as plt\n",
    "import numpy as np\n",
    "import seaborn as sns\n",
    "\n",
    "import openpyxl\n",
    "import xlrd\n",
    "from rdkit import Chem\n",
    "from rdkit.Chem import inchi\n",
    "import papyrus_scripts\n",
    "from chembl_structure_pipeline import standardizer as ChEMBL_standardizer\n",
    "from papyrus_structure_pipeline import standardizer as Papyrus_standardizer\n",
    "from papyrus_structure_pipeline import standardize"
   ]
  },
  {
   "cell_type": "code",
   "execution_count": null,
   "metadata": {},
   "outputs": [],
   "source": [
    "\n",
    "from tqdm import tqdm\n",
    "from time import sleep\n",
    "from tqdm.notebook import tqdm"
   ]
  },
  {
   "cell_type": "markdown",
   "metadata": {},
   "source": [
    "Query data from Papyrus"
   ]
  },
  {
   "cell_type": "code",
   "execution_count": null,
   "metadata": {},
   "outputs": [],
   "source": [
    "from papyrus_scripts import download_papyrus\n",
    "download_papyrus(only_pp=False)"
   ]
  },
  {
   "cell_type": "code",
   "execution_count": null,
   "metadata": {},
   "outputs": [],
   "source": [
    "from papyrus_scripts import read_papyrus\n",
    "data = read_papyrus(plusplus=False,chunksize=1_000_000)"
   ]
  },
  {
   "cell_type": "code",
   "execution_count": null,
   "metadata": {},
   "outputs": [],
   "source": [
    "influx_ac_list = ['O76082','Q96FL8','P46721','O94956','Q9NYB5','Q6ZNC8','Q6ZWT7','Q95T53','Q01650']"
   ]
  },
  {
   "cell_type": "code",
   "execution_count": null,
   "metadata": {},
   "outputs": [],
   "source": [
    "from papyrus_scripts import read_protein_set\n",
    "protein_data = read_protein_set()"
   ]
  },
  {
   "cell_type": "code",
   "execution_count": null,
   "metadata": {},
   "outputs": [],
   "source": [
    "from papyrus_scripts import keep_quality\n",
    "from papyrus_scripts import keep_accession\n",
    "filter1=keep_quality(data,'High')\n",
    "filter2=keep_accession(filter1, influx_ac_list)"
   ]
  },
  {
   "cell_type": "code",
   "execution_count": null,
   "metadata": {},
   "outputs": [],
   "source": [
    "from papyrus_scripts import consume_chunks\n",
    "influx = consume_chunks(filter2)"
   ]
  },
  {
   "cell_type": "code",
   "execution_count": null,
   "metadata": {},
   "outputs": [],
   "source": [
    "len(influx)"
   ]
  },
  {
   "cell_type": "code",
   "execution_count": null,
   "metadata": {},
   "outputs": [],
   "source": [
    "#Check for molecules that are present both in training and validation dataset: remove from validation\n",
    "\n",
    "train = pd.read_csv('train_data/kadar_influx_train.csv', delimiter=',', index_col=0)"
   ]
  },
  {
   "cell_type": "code",
   "execution_count": null,
   "metadata": {},
   "outputs": [],
   "source": [
    "mask = influx['connectivity'].isin(train['inchi_connectivity'])\n",
    "common_values_list = influx[mask]['connectivity'].tolist()\n",
    "print(f'Common: {len(common_values_list)}')\n",
    "\n",
    "influx_val = influx[~mask]\n",
    "print(f'Final: {len(influx_val)}')"
   ]
  },
  {
   "cell_type": "code",
   "execution_count": null,
   "metadata": {},
   "outputs": [],
   "source": [
    "#Keep the instance with the highest pchembl\n",
    "\n",
    "val_influx = influx_val.loc[influx_val.groupby('InChIKey')['pchembl_value_Mean'].idxmax()]"
   ]
  },
  {
   "cell_type": "code",
   "execution_count": null,
   "metadata": {},
   "outputs": [],
   "source": [
    "#Assign classes\n",
    "\n",
    "def compare_values(row):\n",
    "    if row['pchembl_value_Mean'] <= 5:\n",
    "        return 'Non-substrate'\n",
    "    elif row['pchembl_value_Mean'] > 5:\n",
    "        return 'Substrate'\n",
    "    else:\n",
    "        return '??'\n",
    "\n",
    "val_influx['Class'] = val_influx.apply(compare_values, axis=1)"
   ]
  },
  {
   "cell_type": "code",
   "execution_count": null,
   "metadata": {},
   "outputs": [],
   "source": [
    "#Keep only the relevant columns, code classes, and rename column\n",
    "\n",
    "val_influx = val_influx[['SMILES','connectivity','InChIKey','pchembl_value_Mean','Class']]\n",
    "val_influx['Class'] = val_influx['Class'].replace({'Substrate':1, 'Non-substrate':0})\n",
    "val_influx.rename(columns={'Class': 'status_influx', 'connectivity': 'inchi_connectivity','SMILES':'papyrus_SMILES'}, inplace=True)"
   ]
  },
  {
   "cell_type": "code",
   "execution_count": null,
   "metadata": {},
   "outputs": [],
   "source": [
    "#Reset index\n",
    "val_influx = val_influx.reset_index(drop=True)"
   ]
  },
  {
   "cell_type": "code",
   "execution_count": null,
   "metadata": {},
   "outputs": [],
   "source": [
    "#Save the influx molecules\n",
    "val_influx.to_csv('val_data/kadar_val_influx.csv', index=True)"
   ]
  },
  {
   "cell_type": "code",
   "execution_count": null,
   "metadata": {},
   "outputs": [],
   "source": []
  }
 ],
 "metadata": {
  "kernelspec": {
   "display_name": "lily",
   "language": "python",
   "name": "python3"
  },
  "language_info": {
   "codemirror_mode": {
    "name": "ipython",
    "version": 3
   },
   "file_extension": ".py",
   "mimetype": "text/x-python",
   "name": "python",
   "nbconvert_exporter": "python",
   "pygments_lexer": "ipython3",
   "version": "3.9.0"
  }
 },
 "nbformat": 4,
 "nbformat_minor": 2
}
