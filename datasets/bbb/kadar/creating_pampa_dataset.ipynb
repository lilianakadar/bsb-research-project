{
 "cells": [
  {
   "cell_type": "code",
   "execution_count": null,
   "metadata": {},
   "outputs": [],
   "source": [
    "import pandas as pd\n",
    "import matplotlib.pyplot as plt\n",
    "import numpy as np\n",
    "import seaborn as sns\n",
    "from rdkit import Chem\n",
    "from rdkit.Chem import inchi\n",
    "from tqdm import tqdm\n",
    "from time import sleep\n",
    "from tqdm.notebook import tqdm\n",
    "\n",
    "from chembl_structure_pipeline import standardizer as ChEMBL_standardizer\n",
    "from papyrus_structure_pipeline import standardize"
   ]
  },
  {
   "cell_type": "code",
   "execution_count": null,
   "metadata": {},
   "outputs": [],
   "source": [
    "#Read the PAMPA data\n",
    "\n",
    "pampa_train = pd.read_csv('raw_data/pampa/pampa_papp_from_article.csv')\n",
    "\n",
    "pampa_val_bi = pd.read_csv('raw_data/pampa/papp_pampa_high_low.csv', delimiter = ',')\n",
    "pampa_val_cont= pd.read_csv('raw_data/pampa/papp_pampa_speed.csv', delimiter=',')"
   ]
  },
  {
   "cell_type": "code",
   "execution_count": null,
   "metadata": {},
   "outputs": [],
   "source": [
    "#Select columns we need\n",
    "pampa_train = pampa_train[['PUBCHEM_EXT_DATASOURCE_SMILES','Phenotype','Permeability']]\n",
    "pampa_val_bi = pampa_val_bi[['SMILES','Papp(PAMPA)(qualitative)']]\n",
    "pampa_val_cont = pampa_val_cont[['SMILES','Papp(PAMPA) {measured, converted}']]"
   ]
  },
  {
   "cell_type": "code",
   "execution_count": null,
   "metadata": {},
   "outputs": [],
   "source": [
    "#Categorize cont_bbb data as high or low permeable\n",
    "\n",
    "def compare_values_val(row):\n",
    "    if row['Papp(PAMPA) {measured, converted}'] > 4:\n",
    "        return 'high'\n",
    "    elif row['Papp(PAMPA) {measured, converted}'] < 2:\n",
    "        return 'low'\n",
    "    else:\n",
    "        return '?'\n",
    "\n",
    "pampa_val_cont['status_pampa'] = pampa_val_cont.apply(compare_values_val, axis=1)\n"
   ]
  },
  {
   "cell_type": "code",
   "execution_count": null,
   "metadata": {},
   "outputs": [],
   "source": [
    "#Categorize training data as high or low permeable\n",
    "\n",
    "def compare_values_train(row):\n",
    "\n",
    "    if row['Permeability'] > 4:\n",
    "        return 'high'\n",
    "    elif row['Permeability'] < 2:\n",
    "        return 'low'\n",
    "    else:\n",
    "        return '?'\n",
    "\n",
    "pampa_train['Permeability'] = pampa_train['Permeability'].astype(float)\n",
    "pampa_train['status_pampa'] = pampa_train.apply(compare_values_train, axis=1)\n"
   ]
  },
  {
   "cell_type": "code",
   "execution_count": null,
   "metadata": {},
   "outputs": [],
   "source": [
    "#Rename columns\n",
    "pampa_train.rename(columns={'PUBCHEM_EXT_DATASOURCE_SMILES':'SMILES_raw'}, inplace=True)\n",
    "pampa_val_cont.rename(columns={'SMILES':'SMILES_raw'}, inplace=True)\n",
    "pampa_val_bi.rename(columns={'SMILES':'SMILES_raw','Papp(PAMPA)(qualitative)':\"status_pampa\"}, inplace=True)"
   ]
  },
  {
   "cell_type": "code",
   "execution_count": null,
   "metadata": {},
   "outputs": [],
   "source": [
    "#Keep only compounds with class\n",
    "print(f'Full dataset: {len(pampa_train)}')\n",
    "pampa_train_filt = pampa_train[pampa_train['status_pampa'].isin(['high', 'low'])]\n",
    "print(f'Compounds with class: {len(pampa_train_filt)}')"
   ]
  },
  {
   "cell_type": "code",
   "execution_count": null,
   "metadata": {},
   "outputs": [],
   "source": [
    "#Remove rows without SMILES\n",
    "\n",
    "def remove_nan_smiles(df):\n",
    "\n",
    "    df = df[~(df['SMILES_raw'].isna())]\n",
    "    df = df.reset_index(drop=True)\n",
    "\n",
    "    return df"
   ]
  },
  {
   "cell_type": "code",
   "execution_count": null,
   "metadata": {},
   "outputs": [],
   "source": [
    "#Papyrus Standardization\n",
    "\n",
    "def create_sd_smiles(sd_mol):\n",
    "    try:\n",
    "        standardized_smiles =  Chem.MolToSmiles(sd_mol)\n",
    "        return standardized_smiles\n",
    "    except Exception as e:\n",
    "        print(f\"An sd_smiles error occurred: {str(e)}\")\n",
    "        return None\n",
    "    \n",
    "#Create InChI keys from standardized molecules\n",
    "def mol_to_inchi_key(sd_mol):\n",
    "    if sd_mol is not None:\n",
    "\n",
    "        inchi_str = inchi.MolToInchi(sd_mol)\n",
    "        inchi_key = inchi.InchiToInchiKey(inchi_str)\n",
    "    else:\n",
    "        inchi_key = None   \n",
    "    return inchi_key\n",
    "\n",
    "def standardize_molecule(mol):\n",
    "    standardized_mol =  standardize(mol,raise_error=False )\n",
    "    return standardized_mol\n",
    "\n",
    "#Standardize \n",
    "\n",
    "def standardize_workflow(df_raw):\n",
    "    for i in range(0,len(df_raw)):\n",
    "        smiles =df_raw.at[i,'SMILES_raw']\n",
    "        mol = Chem.MolFromSmiles(smiles)\n",
    "        sd_mol =  standardize_molecule(mol)\n",
    "        sd_smiles = create_sd_smiles(sd_mol)\n",
    "        sd_inchi_key = mol_to_inchi_key(sd_mol)\n",
    "        df_raw.at[i,'papyrus_SMILES'] = sd_smiles\n",
    "        df_raw.at[i,'papyrus_inchi_key'] = sd_inchi_key\n",
    "\n",
    "    print(f'df length after standardization: {len(df_raw)}')\n",
    "\n",
    "    return df_raw"
   ]
  },
  {
   "cell_type": "code",
   "execution_count": null,
   "metadata": {},
   "outputs": [],
   "source": [
    "#Check for missing inchi key\n",
    "\n",
    "def missing_inchi(df_raw):\n",
    "    smiles_nan = df_raw['papyrus_SMILES'].isna().sum()\n",
    "    inchikey_nan =df_raw['papyrus_inchi_key'].isna().sum()\n",
    "    print(f'DB length: {len(df_raw)},        SMILES nan: {smiles_nan},        inchi key nan: {inchikey_nan}')\n",
    "\n",
    "    #Remove rows with missing inchikey\n",
    "    df_valid_inchi= df_raw[((df_raw['papyrus_inchi_key'].notna()))]\n",
    "    print('-----remove missing inchikey----')\n",
    "    print(f'updated length: {len(df_valid_inchi)}')\n",
    "\n",
    "    return df_valid_inchi"
   ]
  },
  {
   "cell_type": "code",
   "execution_count": null,
   "metadata": {},
   "outputs": [],
   "source": [
    "#Create connectivity inchi\n",
    "\n",
    "def inchi_first_part(inchi):\n",
    "    return inchi.split('-')[0]\n",
    "\n",
    "def create_connectivity_inchi(df):\n",
    "    df['inchi_connectivity'] = df['papyrus_inchi_key'].apply(inchi_first_part)\n",
    "    \n",
    "    return df"
   ]
  },
  {
   "cell_type": "code",
   "execution_count": null,
   "metadata": {},
   "outputs": [],
   "source": [
    "#Check for duplicates\n",
    "\n",
    "def remove_duplicates(df):\n",
    "    print(f'length: {len(df)}')\n",
    "    inchi_un = df['inchi_connectivity'].nunique()\n",
    "    print(f'unique_inchi: {inchi_un}')\n",
    "\n",
    "\n",
    "    unique_counts = df.groupby('inchi_connectivity')['status_pampa'].nunique()\n",
    "    duplicates_diff_class = unique_counts[unique_counts > 1].index\n",
    "\n",
    "    print(f'Contradicting duplicates: {len(duplicates_diff_class)}')\n",
    "\n",
    "    #Remove duplicates\n",
    "    df = df[~(df['inchi_connectivity'].isin(duplicates_diff_class))]\n",
    "    print(f'After contradicting removed: {len(df)}')\n",
    "    print(df['inchi_connectivity'].nunique())\n",
    "\n",
    "    df=df.drop_duplicates(subset=['inchi_connectivity'], keep=\"first\").reset_index(drop=True)\n",
    "    print(f'After duplicated removed: {len(df)}')\n",
    "    #df['inchi_stereo'].values_counts\n",
    "\n",
    "    return df"
   ]
  },
  {
   "cell_type": "code",
   "execution_count": null,
   "metadata": {},
   "outputs": [],
   "source": [
    "def class_code(df):\n",
    "    df['status_pampa'] = df['status_pampa'].replace({'high': 1, 'low': 0})\n",
    "\n",
    "    return df"
   ]
  },
  {
   "cell_type": "code",
   "execution_count": null,
   "metadata": {},
   "outputs": [],
   "source": [
    "#Prepare training data\n",
    "\n",
    "df = pampa_train_filt\n",
    "\n",
    "df = remove_nan_smiles(df)\n",
    "\n",
    "df_sd = standardize_workflow(df)\n",
    "df_valid = missing_inchi(df_sd)\n",
    "df_connectivity_inchi = create_connectivity_inchi(df_valid)\n",
    "df_no_duplicates = remove_duplicates(df_connectivity_inchi)\n",
    "df_class_coded = class_code(df_no_duplicates)\n",
    "\n",
    "df_class_coded.to_csv('train_data/kadar_pampa_train.csv')\n"
   ]
  },
  {
   "cell_type": "code",
   "execution_count": null,
   "metadata": {},
   "outputs": [],
   "source": [
    "#Prepare binary validation data\n",
    "\n",
    "pampa_val_bi = remove_nan_smiles(pampa_val_bi)\n",
    "\n",
    "pampa_val_bi_sd = standardize_workflow(pampa_val_bi)\n",
    "pampa_val_bi_valid = missing_inchi(pampa_val_bi_sd)\n",
    "pampa_val_bi_connectivity_inchi = create_connectivity_inchi(pampa_val_bi_valid)\n",
    "pampa_val_bi_no_duplicates = remove_duplicates(pampa_val_bi_connectivity_inchi)\n",
    "pampa_val_bi_class_coded = class_code(pampa_val_bi_no_duplicates)\n"
   ]
  },
  {
   "cell_type": "code",
   "execution_count": null,
   "metadata": {},
   "outputs": [],
   "source": [
    "#Prepare continous validation data\n",
    "\n",
    "pampa_val_cont = remove_nan_smiles(pampa_val_cont)\n",
    "\n",
    "pampa_val_cont_sd = standardize_workflow(pampa_val_cont)\n",
    "pampa_val_cont_valid = missing_inchi(pampa_val_cont_sd)\n",
    "pampa_val_cont_connectivity_inchi = create_connectivity_inchi(pampa_val_cont_valid)\n",
    "pampa_val_cont_no_duplicates = remove_duplicates(pampa_val_cont_connectivity_inchi)\n",
    "filtered_cont_pampa = pampa_val_cont_no_duplicates[~(pampa_val_cont_no_duplicates['status_pampa'] == '?')]\n",
    "\n",
    "pampa_val_cont_class_coded = class_code(filtered_cont_pampa)\n",
    "\n"
   ]
  },
  {
   "cell_type": "markdown",
   "metadata": {},
   "source": [
    "Combining validation sets"
   ]
  },
  {
   "cell_type": "code",
   "execution_count": null,
   "metadata": {},
   "outputs": [],
   "source": [
    "df_combined_val = pd.concat([pampa_val_bi_class_coded,pampa_val_cont_class_coded], ignore_index=True, join=\"inner\")"
   ]
  },
  {
   "cell_type": "code",
   "execution_count": null,
   "metadata": {},
   "outputs": [],
   "source": [
    "df_val_no_dup = remove_duplicates(df_combined_val)\n",
    "df_val_no_dup.to_csv('val_data/kadar_pampa_val.csv', index=True)"
   ]
  },
  {
   "cell_type": "code",
   "execution_count": null,
   "metadata": {},
   "outputs": [],
   "source": []
  }
 ],
 "metadata": {
  "kernelspec": {
   "display_name": "Python 3",
   "language": "python",
   "name": "python3"
  },
  "language_info": {
   "codemirror_mode": {
    "name": "ipython",
    "version": 3
   },
   "file_extension": ".py",
   "mimetype": "text/x-python",
   "name": "python",
   "nbconvert_exporter": "python",
   "pygments_lexer": "ipython3",
   "version": "3.9.0"
  },
  "orig_nbformat": 4
 },
 "nbformat": 4,
 "nbformat_minor": 2
}
