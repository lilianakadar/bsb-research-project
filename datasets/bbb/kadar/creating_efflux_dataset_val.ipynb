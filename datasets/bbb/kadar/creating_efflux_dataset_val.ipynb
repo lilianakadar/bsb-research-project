{
 "cells": [
  {
   "cell_type": "code",
   "execution_count": null,
   "metadata": {},
   "outputs": [],
   "source": [
    "import pandas as pd\n",
    "import matplotlib.pyplot as plt\n",
    "import numpy as np\n",
    "import seaborn as sns\n",
    "\n",
    "import openpyxl\n",
    "import xlrd\n",
    "from rdkit import Chem\n",
    "from rdkit.Chem import inchi\n",
    "import papyrus_scripts\n",
    "from chembl_structure_pipeline import standardizer as ChEMBL_standardizer\n",
    "from papyrus_structure_pipeline import standardizer as Papyrus_standardizer\n",
    "from papyrus_structure_pipeline import standardize"
   ]
  },
  {
   "cell_type": "code",
   "execution_count": null,
   "metadata": {},
   "outputs": [],
   "source": [
    "\n",
    "from tqdm import tqdm\n",
    "from time import sleep\n",
    "from tqdm.notebook import tqdm"
   ]
  },
  {
   "cell_type": "markdown",
   "metadata": {},
   "source": [
    "Query data from Papyrus"
   ]
  },
  {
   "cell_type": "code",
   "execution_count": null,
   "metadata": {},
   "outputs": [],
   "source": [
    "\n",
    "from papyrus_scripts import download_papyrus\n",
    "download_papyrus(only_pp=False)"
   ]
  },
  {
   "cell_type": "code",
   "execution_count": null,
   "metadata": {},
   "outputs": [],
   "source": [
    "from papyrus_scripts import read_papyrus\n",
    "data = read_papyrus(plusplus=False,chunksize=1_000_000)"
   ]
  },
  {
   "cell_type": "code",
   "execution_count": null,
   "metadata": {},
   "outputs": [],
   "source": [
    "efflux_ac_list = ['P08183','Q9UNQ0','P33527','Q92887','015438','015439','015440','095255']"
   ]
  },
  {
   "cell_type": "code",
   "execution_count": null,
   "metadata": {},
   "outputs": [],
   "source": [
    "from papyrus_scripts import read_protein_set\n",
    "protein_data = read_protein_set()"
   ]
  },
  {
   "cell_type": "code",
   "execution_count": null,
   "metadata": {},
   "outputs": [],
   "source": [
    "from papyrus_scripts import keep_quality\n",
    "from papyrus_scripts import keep_accession\n",
    "\n",
    "filter1=keep_quality(data,'High')\n",
    "filter2=keep_accession(filter1, efflux_ac_list)"
   ]
  },
  {
   "cell_type": "code",
   "execution_count": null,
   "metadata": {},
   "outputs": [],
   "source": [
    "from papyrus_scripts import consume_chunks\n",
    "efflux = consume_chunks(filter2)"
   ]
  },
  {
   "cell_type": "code",
   "execution_count": null,
   "metadata": {},
   "outputs": [],
   "source": [
    "print(len(efflux))\n",
    "efflux.head()"
   ]
  },
  {
   "cell_type": "markdown",
   "metadata": {},
   "source": [
    "#Check for molecules that are present both in training and validation dataset: remove from validation"
   ]
  },
  {
   "cell_type": "code",
   "execution_count": null,
   "metadata": {},
   "outputs": [],
   "source": [
    "train = pd.read_csv('train_data/kadar_efflux_train.csv', delimiter=',', index_col=0)\n",
    "mask = efflux['connectivity'].isin(train['inchi_connectivity'])\n",
    "common_values_list = efflux[mask]['connectivity'].tolist()\n",
    "print(f'Common: {len(common_values_list)}')\n",
    "\n",
    "efflux_val = efflux[~mask]\n",
    "print(f'Final validation: {len(efflux_val)}')"
   ]
  },
  {
   "cell_type": "code",
   "execution_count": null,
   "metadata": {},
   "outputs": [],
   "source": [
    "#Keep the item with the highest pchembl value\n",
    "val_efflux = efflux_val.loc[efflux_val.groupby('InChIKey')['pchembl_value_Mean'].idxmax()]"
   ]
  },
  {
   "cell_type": "code",
   "execution_count": null,
   "metadata": {},
   "outputs": [],
   "source": [
    "#Classify\n",
    "\n",
    "def compare_values(row):\n",
    "    if row['pchembl_value_Mean'] <= 5:\n",
    "        return 'Non-substrate'\n",
    "    elif row['pchembl_value_Mean'] > 5:\n",
    "        return 'Substrate'\n",
    "    else:\n",
    "        return '??'\n",
    "\n",
    "val_efflux['status_efflux'] = val_efflux.apply(compare_values, axis=1)\n"
   ]
  },
  {
   "cell_type": "code",
   "execution_count": null,
   "metadata": {},
   "outputs": [],
   "source": [
    "#Keep only the relevant column, rename them\n",
    "val_efflux = val_efflux[['SMILES','connectivity','InChIKey','pchembl_value_Mean','status_efflux']]\n",
    "val_efflux = val_efflux.rename(columns={'connectivity': 'inchi_connectivity','SMILES':'papyrus_SMILES'})"
   ]
  },
  {
   "cell_type": "code",
   "execution_count": null,
   "metadata": {},
   "outputs": [],
   "source": [
    "#Code classes\n",
    "val_efflux['status_efflux'] = val_efflux['status_efflux'].replace({'Substrate':1, 'Non-substrate':0})\n"
   ]
  },
  {
   "cell_type": "code",
   "execution_count": null,
   "metadata": {},
   "outputs": [],
   "source": [
    "#Reset index\n",
    "val_efflux = val_efflux.reset_index(drop=True)"
   ]
  },
  {
   "cell_type": "code",
   "execution_count": null,
   "metadata": {},
   "outputs": [],
   "source": [
    "#Save the influx molecules\n",
    "val_efflux.to_csv('val_data/kadar_efflux_val.csv', index=True)"
   ]
  },
  {
   "cell_type": "code",
   "execution_count": null,
   "metadata": {},
   "outputs": [],
   "source": []
  }
 ],
 "metadata": {
  "kernelspec": {
   "display_name": "lily",
   "language": "python",
   "name": "python3"
  },
  "language_info": {
   "codemirror_mode": {
    "name": "ipython",
    "version": 3
   },
   "file_extension": ".py",
   "mimetype": "text/x-python",
   "name": "python",
   "nbconvert_exporter": "python",
   "pygments_lexer": "ipython3",
   "version": "3.9.0"
  }
 },
 "nbformat": 4,
 "nbformat_minor": 2
}
