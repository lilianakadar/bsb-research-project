{
 "cells": [
  {
   "cell_type": "code",
   "execution_count": null,
   "metadata": {},
   "outputs": [],
   "source": [
    "import pandas as pd\n",
    "import matplotlib.pyplot as plt\n",
    "import numpy as np\n",
    "import seaborn as sns\n",
    "from rdkit import Chem\n",
    "from rdkit.Chem import inchi\n",
    "from tqdm import tqdm\n",
    "from time import sleep\n",
    "from tqdm.notebook import tqdm\n",
    "\n",
    "from chembl_structure_pipeline import standardizer as ChEMBL_standardizer\n",
    "from papyrus_structure_pipeline import standardize"
   ]
  },
  {
   "cell_type": "code",
   "execution_count": null,
   "metadata": {},
   "outputs": [],
   "source": [
    "#Read the raw efflux data (S: substrate, NS: non-substrate)\n",
    "efflux_chembl =  pd.read_csv('raw_data/efflux/efflux_ChEMBL_query.csv', delimiter = ',')\n",
    "\n",
    "BCRP1_S = Chem.SDMolSupplier('raw_data/efflux/BCRP1_efflux_metrabase_S.sdf')\n",
    "MDR1_S = Chem.SDMolSupplier('raw_data/efflux/MDR1_efflux_metrabase_S.sdf')\n",
    "MRP1_S = Chem.SDMolSupplier('raw_data/efflux/MRP1_efflux_metrabase_S.sdf')\n",
    "MRP2_S = Chem.SDMolSupplier('raw_data/efflux/MRP2_efflux_metrabase_S.sdf')\n",
    "MRP3_S = Chem.SDMolSupplier('raw_data//efflux/MRP3_efflux_metrabase_S.sdf')\n",
    "MRP4_S = Chem.SDMolSupplier('raw_data/efflux/MRP4_efflux_metrabase_S.sdf')\n",
    "\n",
    "BCRP1_NS = Chem.SDMolSupplier('raw_data/efflux/BCRP1_efflux_metrabase_NS.sdf')\n",
    "MDR1_NS = Chem.SDMolSupplier('raw_data/efflux/MDR1_efflux_metrabase_nonS.sdf')\n",
    "MRP1_NS = Chem.SDMolSupplier('raw_data/efflux/MRP1_efflux_metrabase_nonS.sdf')\n",
    "MRP2_NS = Chem.SDMolSupplier('raw_data/efflux/MRP2_efflux_metrabase_nonS.sdf')\n",
    "MRP3_NS = Chem.SDMolSupplier('raw_data/efflux//MRP3_efflux_metrabase_nonS.sdf')\n",
    "MRP4_NS = Chem.SDMolSupplier('raw_data/efflux/MRP4_efflux_metrabase_nonS.sdf')"
   ]
  },
  {
   "cell_type": "code",
   "execution_count": null,
   "metadata": {},
   "outputs": [],
   "source": [
    "#Create target lists for data and UniProt Accession\n",
    "efflux_targets_S_data = [BCRP1_S, MDR1_S, MRP1_S, MRP2_S, MRP3_S, MRP4_S]\n",
    "efflux_targets_NS_data = [BCRP1_NS, MDR1_NS, MRP1_NS, MRP2_NS, MRP3_NS, MRP4_NS]\n",
    "efflux_targets_UniProt= ['Q9UNQ0','P08183','P33527','Q92887','O15438','O15439']"
   ]
  },
  {
   "cell_type": "code",
   "execution_count": null,
   "metadata": {},
   "outputs": [],
   "source": []
  },
  {
   "cell_type": "code",
   "execution_count": null,
   "metadata": {},
   "outputs": [],
   "source": [
    "#Classify compounds based on pchembl value (if >5 then substrate) and standard_Value (if > 10 000 nM)\n",
    "\n",
    "efflux_chembl['status_efflux'] = efflux_chembl['pchembl_value'].apply(lambda pchembl: 'Substrate' if pchembl > 5 else 'Non-substrate')\n",
    "\n",
    "efflux_chembl.head(10)"
   ]
  },
  {
   "cell_type": "code",
   "execution_count": null,
   "metadata": {},
   "outputs": [],
   "source": [
    "efflux_df = efflux_chembl\n",
    "\n",
    "#Add substrates\n",
    "for i in range(len(efflux_targets_S_data)):\n",
    "    try:\n",
    "        for mol in efflux_targets_S_data[i]:\n",
    "            if mol is not None:\n",
    "                \n",
    "                smiles = Chem.MolToSmiles(mol)\n",
    "                inchi_str = inchi.MolToInchi(mol)\n",
    "                inchi_key = inchi.InchiToInchiKey(inchi_str)\n",
    "\n",
    "                new_row = {'Molregno': 'Unknown', 'pchembl_value': 'Unknown', \n",
    "                           'canonical_smiles': smiles, 'standard_inchi_key': inchi_key, \n",
    "                           'accession': efflux_targets_UniProt[i],'status_efflux': 'Substrate'}\n",
    "                efflux_df.loc[len(efflux_df)] = new_row\n",
    "            \n",
    "    except Exception as e:\n",
    "            print(f\"An error occurred with smile and inchi creation\")\n",
    "            continue \n",
    "\n",
    "#Add non-substrates\n",
    "for i in range(len(efflux_targets_NS_data)):\n",
    "    try: \n",
    "        for mol in efflux_targets_NS_data[i]:\n",
    "            if mol is not None:\n",
    "               \n",
    "                smiles = Chem.MolToSmiles(mol)\n",
    "                inchi_str = inchi.MolToInchi(mol)\n",
    "                inchi_key = inchi.InchiToInchiKey(inchi_str)\n",
    "\n",
    "               \n",
    "                new_row = {'Molregno': 'Unknown', 'pchembl_value': 'Unknown', \n",
    "                           'canonical_smiles': smiles, 'standard_inchi_key': inchi_key, \n",
    "                           'accession': efflux_targets_UniProt[i],'status_efflux': 'Non-substrate'}\n",
    "                efflux_df.loc[len(efflux_df)] = new_row\n",
    "\n",
    "    except Exception as e:\n",
    "            print(f\"An error occurred with smiles and inchikey creation\")\n",
    "            continue "
   ]
  },
  {
   "cell_type": "code",
   "execution_count": null,
   "metadata": {},
   "outputs": [],
   "source": [
    "efflux_df.to_csv(\"raw_data/efflux/efflux_train_merged_query_results.csv\", index=True)"
   ]
  },
  {
   "cell_type": "code",
   "execution_count": null,
   "metadata": {},
   "outputs": [],
   "source": [
    "efflux_df.head()"
   ]
  },
  {
   "cell_type": "code",
   "execution_count": null,
   "metadata": {},
   "outputs": [],
   "source": [
    "#Keep the relevant column\n",
    "\n",
    "df=efflux_df.rename(columns={'canonical_smiles':'SMILES_raw'})\n",
    "df = df[['SMILES_raw','status_efflux']]\n"
   ]
  },
  {
   "cell_type": "code",
   "execution_count": null,
   "metadata": {},
   "outputs": [],
   "source": [
    "#Remove rows without SMILES\n",
    "\n",
    "def remove_nan_smiles(df):\n",
    "\n",
    "    df = df[~(df['SMILES_raw'].isna())]\n",
    "    df = df.reset_index(drop=True)\n",
    "\n",
    "    return df"
   ]
  },
  {
   "cell_type": "code",
   "execution_count": null,
   "metadata": {},
   "outputs": [],
   "source": [
    "#Papyrus Standardization\n",
    "\n",
    "def create_sd_smiles(sd_mol):\n",
    "    try:\n",
    "        standardized_smiles =  Chem.MolToSmiles(sd_mol)\n",
    "        return standardized_smiles\n",
    "    except Exception as e:\n",
    "        print(f\"An sd_smiles error occurred: {str(e)}\")\n",
    "        return None\n",
    "    \n",
    "#Create InChI keys from standardized molecules\n",
    "def mol_to_inchi_key(sd_mol):\n",
    "    if sd_mol is not None:\n",
    "\n",
    "        inchi_str = inchi.MolToInchi(sd_mol)\n",
    "        inchi_key = inchi.InchiToInchiKey(inchi_str)\n",
    "    else:\n",
    "        inchi_key = None   \n",
    "    return inchi_key\n",
    "\n",
    "def standardize_molecule(mol):\n",
    "    standardized_mol =  standardize(mol,raise_error=False )\n",
    "    return standardized_mol\n",
    "\n",
    "#Standardize \n",
    "\n",
    "def standardize_workflow(df_raw):\n",
    "    for i in range(0,len(df_raw)):\n",
    "        smiles =df_raw.at[i,'SMILES_raw']\n",
    "        mol = Chem.MolFromSmiles(smiles)\n",
    "        sd_mol =  standardize_molecule(mol)\n",
    "        sd_smiles = create_sd_smiles(sd_mol)\n",
    "        sd_inchi_key = mol_to_inchi_key(sd_mol)\n",
    "        df_raw.at[i,'papyrus_SMILES'] = sd_smiles\n",
    "        df_raw.at[i,'papyrus_inchi_key'] = sd_inchi_key\n",
    "\n",
    "    print(f'df length after standardization: {len(df_raw)}')\n",
    "\n",
    "    return df_raw"
   ]
  },
  {
   "cell_type": "code",
   "execution_count": null,
   "metadata": {},
   "outputs": [],
   "source": [
    "#Check for missing inchi key\n",
    "\n",
    "def missing_inchi(df_raw):\n",
    "    smiles_nan = df_raw['papyrus_SMILES'].isna().sum()\n",
    "    inchikey_nan =df_raw['papyrus_inchi_key'].isna().sum()\n",
    "    print(f'DB length: {len(df_raw)},        SMILES nan: {smiles_nan},        inchi key nan: {inchikey_nan}')\n",
    "\n",
    "    #Remove rows with missing inchikey\n",
    "    df_valid_inchi= df_raw[((df_raw['papyrus_inchi_key'].notna()))]\n",
    "    print('-----remove missing inchikey----')\n",
    "    print(f'updated length: {len(df_valid_inchi)}')\n",
    "\n",
    "    return df_valid_inchi"
   ]
  },
  {
   "cell_type": "code",
   "execution_count": null,
   "metadata": {},
   "outputs": [],
   "source": [
    "#Create connectivity inchi\n",
    "\n",
    "def inchi_first_part(inchi):\n",
    "    return inchi.split('-')[0]\n",
    "\n",
    "def create_connectivity_inchi(df):\n",
    "    df['inchi_connectivity'] = df['papyrus_inchi_key'].apply(inchi_first_part)\n",
    "    \n",
    "    return df"
   ]
  },
  {
   "cell_type": "code",
   "execution_count": null,
   "metadata": {},
   "outputs": [],
   "source": [
    "#Check for duplicates\n",
    "\n",
    "def remove_duplicates(df):\n",
    "\n",
    "    print(f'length: {len(df)}')\n",
    "    inchi_un = df['inchi_connectivity'].nunique()\n",
    "    print(f'unique_inchi: {inchi_un}')\n",
    "\n",
    "    unique_counts = df.groupby('inchi_connectivity')['status_efflux'].nunique()\n",
    "    duplicates_diff_class = unique_counts[unique_counts > 1].index\n",
    "\n",
    "    print(f'Contradicting duplicates: {len(duplicates_diff_class)}')\n",
    "\n",
    "    #Remove duplicates\n",
    "    df = df[~(df['inchi_connectivity'].isin(duplicates_diff_class))]\n",
    "    print(len(df))\n",
    "    print(df['inchi_connectivity'].nunique())\n",
    "\n",
    "    df=df.drop_duplicates(subset=['inchi_connectivity'], keep=\"first\").reset_index(drop=True)\n",
    "    #df['inchi_stereo'].values_counts\n",
    "\n",
    "    return df"
   ]
  },
  {
   "cell_type": "code",
   "execution_count": null,
   "metadata": {},
   "outputs": [],
   "source": [
    "#Code classes\n",
    "\n",
    "def class_code(df):\n",
    "    df['status_efflux'] = df['status_efflux'].replace({'Substrate': 1, 'Non-substrate': 0})\n",
    "\n",
    "    return df\n"
   ]
  },
  {
   "cell_type": "code",
   "execution_count": null,
   "metadata": {},
   "outputs": [],
   "source": [
    "df = remove_nan_smiles(df)\n",
    "df_sd = standardize_workflow(df)\n",
    "df_valid = missing_inchi(df_sd)\n",
    "df_connectivity_inchi = create_connectivity_inchi(df_valid)\n",
    "df_no_duplicates = remove_duplicates(df_connectivity_inchi)\n",
    "df_class_coded = class_code(df_no_duplicates)\n",
    "\n",
    "df_class_coded.to_csv('train_data/kadar_efflux_train.csv')\n"
   ]
  },
  {
   "cell_type": "code",
   "execution_count": null,
   "metadata": {},
   "outputs": [],
   "source": []
  }
 ],
 "metadata": {
  "kernelspec": {
   "display_name": "Python 3",
   "language": "python",
   "name": "python3"
  },
  "language_info": {
   "codemirror_mode": {
    "name": "ipython",
    "version": 3
   },
   "file_extension": ".py",
   "mimetype": "text/x-python",
   "name": "python",
   "nbconvert_exporter": "python",
   "pygments_lexer": "ipython3",
   "version": "3.9.0"
  },
  "orig_nbformat": 4
 },
 "nbformat": 4,
 "nbformat_minor": 2
}
