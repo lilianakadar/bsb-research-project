{
 "cells": [
  {
   "cell_type": "code",
   "execution_count": null,
   "metadata": {},
   "outputs": [],
   "source": [
    "import pandas as pd\n",
    "import matplotlib.pyplot as plt\n",
    "import numpy as np\n",
    "import seaborn as sns\n",
    "from rdkit import Chem\n",
    "from rdkit.Chem import inchi\n",
    "from tqdm import tqdm\n",
    "from time import sleep\n",
    "from tqdm.notebook import tqdm\n",
    "\n",
    "from chembl_structure_pipeline import standardizer as ChEMBL_standardizer\n",
    "from papyrus_structure_pipeline import standardize"
   ]
  },
  {
   "cell_type": "code",
   "execution_count": null,
   "metadata": {},
   "outputs": [],
   "source": [
    "#Read the BBB data: binary (train) and continuous \"log\" (validation)\n",
    "\n",
    "bi_bbb = pd.read_excel('raw_data/bbb/bbb_permeability.xls')\n",
    "log_bbb = pd.read_excel('raw_data/bbb/logbbb.xls')"
   ]
  },
  {
   "cell_type": "code",
   "execution_count": null,
   "metadata": {},
   "outputs": [],
   "source": [
    "#Categorize log_bbb data as BBB permeable (LogBB ≥ -1) and BBB non-permeable (LogBB < -1)\n",
    "\n",
    "def compare_values(row):\n",
    "    if row['logBB'] < -1:\n",
    "        return 'BBB-'\n",
    "    elif row['logBB'] >= -1:\n",
    "        return 'BBB+'\n",
    "\n",
    "log_bbb['status_bbb'] = log_bbb.apply(compare_values, axis=1)\n"
   ]
  },
  {
   "cell_type": "code",
   "execution_count": null,
   "metadata": {},
   "outputs": [],
   "source": [
    "#Keep only the needed column and rename them\n",
    "bbb_val = log_bbb[['SMILES','logBB','status_bbb']]\n",
    "bbb_train = bi_bbb[['SMILES','BBB permeability (qualitative)']]\n",
    "\n",
    "bbb_val=bbb_val.rename(columns={'SMILES':'SMILES_raw'})\n",
    "bbb_train = bbb_train.rename(columns={'SMILES':'SMILES_raw','BBB permeability (qualitative)':\"status_bbb\"})"
   ]
  },
  {
   "cell_type": "code",
   "execution_count": null,
   "metadata": {},
   "outputs": [],
   "source": [
    "#Remove rows without SMILES\n",
    "\n",
    "def remove_nan_smiles(df):\n",
    "\n",
    "    df = df[~(df['SMILES_raw'].isna())]\n",
    "    df = df.reset_index(drop=True)\n",
    "\n",
    "    return df"
   ]
  },
  {
   "cell_type": "code",
   "execution_count": null,
   "metadata": {},
   "outputs": [],
   "source": [
    "#Papyrus Standardization\n",
    "\n",
    "def create_sd_smiles(sd_mol):\n",
    "    try:\n",
    "        standardized_smiles =  Chem.MolToSmiles(sd_mol)\n",
    "        return standardized_smiles\n",
    "    except Exception as e:\n",
    "        print(f\"An sd_smiles error occurred: {str(e)}\")\n",
    "        return None\n",
    "    \n",
    "#Create InChI keys from standardized molecules\n",
    "def mol_to_inchi_key(sd_mol):\n",
    "    if sd_mol is not None:\n",
    "\n",
    "        inchi_str = inchi.MolToInchi(sd_mol)\n",
    "        inchi_key = inchi.InchiToInchiKey(inchi_str)\n",
    "    else:\n",
    "        inchi_key = None   \n",
    "    return inchi_key\n",
    "\n",
    "def standardize_molecule(mol):\n",
    "    standardized_mol =  standardize(mol,raise_error=False )\n",
    "    return standardized_mol\n",
    "\n",
    "#Standardize \n",
    "\n",
    "def standardize_workflow(df_raw):\n",
    "    for i in range(0,len(df_raw)):\n",
    "        smiles =df_raw.at[i,'SMILES_raw']\n",
    "        mol = Chem.MolFromSmiles(smiles)\n",
    "        sd_mol =  standardize_molecule(mol)\n",
    "        sd_smiles = create_sd_smiles(sd_mol)\n",
    "        sd_inchi_key = mol_to_inchi_key(sd_mol)\n",
    "        df_raw.at[i,'papyrus_SMILES'] = sd_smiles\n",
    "        df_raw.at[i,'papyrus_inchi_key'] = sd_inchi_key\n",
    "\n",
    "    print(f'df length after standardization: {len(df_raw)}')\n",
    "\n",
    "    return df_raw"
   ]
  },
  {
   "cell_type": "code",
   "execution_count": null,
   "metadata": {},
   "outputs": [],
   "source": [
    "#Check for missing inchi key\n",
    "\n",
    "def missing_inchi(df_raw):\n",
    "    smiles_nan = df_raw['papyrus_SMILES'].isna().sum()\n",
    "    inchikey_nan =df_raw['papyrus_inchi_key'].isna().sum()\n",
    "    print(f'DB length: {len(df_raw)},        SMILES nan: {smiles_nan},        inchi key nan: {inchikey_nan}')\n",
    "\n",
    "    #Remove rows with missing inchikey\n",
    "    df_valid_inchi= df_raw[((df_raw['papyrus_inchi_key'].notna()))]\n",
    "    print('-----remove missing inchikey----')\n",
    "    print(f'updated length: {len(df_valid_inchi)}')\n",
    "\n",
    "    return df_valid_inchi"
   ]
  },
  {
   "cell_type": "code",
   "execution_count": null,
   "metadata": {},
   "outputs": [],
   "source": [
    "def inchi_first_part(inchi):\n",
    "    return inchi.split('-')[0]\n",
    "\n",
    "def create_connectivity_inchi(df):\n",
    "    df['inchi_connectivity'] = df['papyrus_inchi_key'].apply(inchi_first_part)\n",
    "    \n",
    "    return df"
   ]
  },
  {
   "cell_type": "code",
   "execution_count": null,
   "metadata": {},
   "outputs": [],
   "source": [
    "#Check for duplicates\n",
    "\n",
    "def remove_duplicates(df):\n",
    "    print(f'length: {len(df)}')\n",
    "    inchi_un = df['inchi_connectivity'].nunique()\n",
    "    print(f'unique_inchi: {inchi_un}')\n",
    "\n",
    "\n",
    "    unique_counts = df.groupby('inchi_connectivity')['status_bbb'].nunique()\n",
    "    duplicates_diff_class = unique_counts[unique_counts > 1].index\n",
    "\n",
    "    print(f'Contradicting duplicates: {len(duplicates_diff_class)}')\n",
    "\n",
    "    #Remove duplicates\n",
    "    df = df[~(df['inchi_connectivity'].isin(duplicates_diff_class))]\n",
    "    print(len(df))\n",
    "    print(df['inchi_connectivity'].nunique())\n",
    "\n",
    "    df=df.drop_duplicates(subset=['inchi_connectivity'], keep=\"first\").reset_index(drop=True)\n",
    "    #df['inchi_stereo'].values_counts\n",
    "\n",
    "    return df"
   ]
  },
  {
   "cell_type": "code",
   "execution_count": null,
   "metadata": {},
   "outputs": [],
   "source": [
    "#Code classes\n",
    "\n",
    "def class_code(df):\n",
    "    df['status_bbb'] = df['status_bbb'].replace({'BBB+': 1, 'BBB-': 0})\n",
    "\n",
    "    return df\n"
   ]
  },
  {
   "cell_type": "code",
   "execution_count": null,
   "metadata": {},
   "outputs": [],
   "source": [
    "#Prepare the training data and save\n",
    "\n",
    "df = bbb_train\n",
    "df = remove_nan_smiles(df)\n",
    "df_sd = standardize_workflow(df)\n",
    "df_valid = missing_inchi(df_sd)\n",
    "df_connectivity_inchi = create_connectivity_inchi(df_valid)\n",
    "df_no_duplicates = remove_duplicates(df_connectivity_inchi)\n",
    "df_class_coded = class_code(df_no_duplicates)\n",
    "\n",
    "df_class_coded.to_csv('train_data/kadar_bbb_train.csv')"
   ]
  },
  {
   "cell_type": "code",
   "execution_count": null,
   "metadata": {},
   "outputs": [],
   "source": [
    "#Prepare the validation data and save\n",
    "df = bbb_val\n",
    "\n",
    "df = remove_nan_smiles(df)\n",
    "df_sd = standardize_workflow(df)\n",
    "df_valid = missing_inchi(df_sd)\n",
    "df_connectivity_inchi = create_connectivity_inchi(df_valid)\n",
    "df_no_duplicates = remove_duplicates(df_connectivity_inchi)\n",
    "df_class_coded = class_code(df_no_duplicates)\n",
    "\n",
    "df_class_coded.to_csv('val_data/kadar_bbb_val.csv')"
   ]
  }
 ],
 "metadata": {
  "kernelspec": {
   "display_name": "Python 3",
   "language": "python",
   "name": "python3"
  },
  "language_info": {
   "codemirror_mode": {
    "name": "ipython",
    "version": 3
   },
   "file_extension": ".py",
   "mimetype": "text/x-python",
   "name": "python",
   "nbconvert_exporter": "python",
   "pygments_lexer": "ipython3",
   "version": "3.9.0"
  },
  "orig_nbformat": 4
 },
 "nbformat": 4,
 "nbformat_minor": 2
}
