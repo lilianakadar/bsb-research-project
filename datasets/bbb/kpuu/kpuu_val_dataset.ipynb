{
 "cells": [
  {
   "cell_type": "code",
   "execution_count": 1,
   "metadata": {},
   "outputs": [
    {
     "name": "stdout",
     "output_type": "stream",
     "text": [
      "[ForwardRef('ExtensionArray'), <class 'numpy.ndarray'>]\n",
      "[ForwardRef('ExtensionArray'), <class 'numpy.ndarray'>, ForwardRef('Index'), ForwardRef('Series')]\n",
      "[<class 'str'>, <class 'float'>, <class 'bool'>]\n",
      "[ForwardRef('Period'), ForwardRef('Timestamp'), ForwardRef('Timedelta')]\n",
      "[ForwardRef('Period'), ForwardRef('Timestamp'), ForwardRef('Timedelta'), ForwardRef('Interval')]\n",
      "[<class 'str'>, <class 'float'>, <class 'bool'>, ForwardRef('Period'), ForwardRef('Timestamp'), ForwardRef('Timedelta'), ForwardRef('Interval'), <class 'numpy.datetime64'>, <class 'numpy.timedelta64'>, <class 'datetime.datetime'>]\n",
      "[ForwardRef('Timestamp'), <class 'datetime.datetime'>, <class 'numpy.datetime64'>, <class 'numpy.int64'>, <class 'float'>, <class 'str'>]\n",
      "[ForwardRef('Timedelta'), <class 'datetime.timedelta'>, <class 'numpy.timedelta64'>, <class 'numpy.int64'>, <class 'float'>, <class 'str'>]\n",
      "[<class 'str'>, <class 'datetime.tzinfo'>]\n",
      "[<class 'str'>, <class 'int'>]\n",
      "[typing.Hashable, typing.Sequence[typing.Hashable]]\n",
      "[<class 'str'>, <class 'float'>, <class 'bool'>, typing.List, typing.Dict]\n",
      "[<class 'str'>, <class 'float'>, <class 'bool'>, typing.List, typing.Dict, <class 'NoneType'>]\n",
      "[<class 'str'>, ForwardRef('BaseOffset')]\n",
      "[ForwardRef('ExtensionArray'), <class 'numpy.ndarray'>, ForwardRef('Index'), ForwardRef('Series'), typing.List, <class 'range'>]\n",
      "[<class 'int'>, ForwardRef('ExtensionArray'), <class 'numpy.ndarray'>, <class 'numpy.random._generator.Generator'>, <class 'numpy.random.bit_generator.BitGenerator'>, <class 'numpy.random.mtrand.RandomState'>]\n",
      "[<class 'str'>, <class 'complex'>, <class 'bool'>, <class 'object'>]\n",
      "[<class 'str'>, <class 'numpy.dtype'>, typing.Type[typing.Union[str, complex, bool, object]]]\n",
      "[ForwardRef('ExtensionDtype'), <class 'str'>, <class 'numpy.dtype'>, typing.Type[typing.Union[str, complex, bool, object]]]\n",
      "[ForwardRef('ExtensionDtype'), ForwardRef('npt.DTypeLike')]\n",
      "[ForwardRef('ExtensionDtype'), <class 'str'>, <class 'numpy.dtype'>, typing.Type[typing.Union[str, complex, bool, object]], typing.Dict[typing.Hashable, typing.Union[ForwardRef('ExtensionDtype'), str, numpy.dtype, typing.Type[typing.Union[str, complex, bool, object]]]]]\n",
      "[<class 'numpy.dtype'>, ForwardRef('ExtensionDtype')]\n",
      "[<class 'bool'>, typing.List[typing.Hashable], typing.List[typing.List[typing.Hashable]], typing.Dict[typing.Hashable, typing.List[typing.Hashable]]]\n",
      "[typing.Mapping[typing.Any, typing.Hashable], typing.Callable[[typing.Any], typing.Hashable]]\n",
      "[ForwardRef('Series'), ForwardRef('ExtensionArray'), <class 'numpy.ndarray'>, ForwardRef('Index'), ForwardRef('Series')]\n",
      "[typing.Callable[[ForwardRef('Series')], typing.Union[ForwardRef('Series'), ForwardRef('ExtensionArray'), numpy.ndarray, ForwardRef('Index')]], <class 'NoneType'>]\n",
      "[ForwardRef('Index'), ForwardRef('ExtensionArray'), <class 'numpy.ndarray'>, ForwardRef('Index'), ForwardRef('Series')]\n",
      "[typing.Callable[[ForwardRef('Index')], typing.Union[ForwardRef('Index'), ForwardRef('ExtensionArray'), numpy.ndarray, ForwardRef('Series')]], <class 'NoneType'>]\n",
      "[typing.Callable, <class 'str'>]\n",
      "[typing.Callable, <class 'str'>, typing.List[typing.Union[typing.Callable, str]]]\n",
      "[typing.Callable, <class 'str'>, typing.List[typing.Union[typing.Callable, str]], typing.Dict[typing.Hashable, typing.Union[typing.Callable, str, typing.List[typing.Union[typing.Callable, str]]]]]\n",
      "[ForwardRef('Series'), ForwardRef('DataFrame'), ForwardRef('GroupBy'), ForwardRef('SeriesGroupBy'), ForwardRef('DataFrameGroupBy'), ForwardRef('BaseWindow'), ForwardRef('Resampler')]\n",
      "[<class 'str'>, ForwardRef('PathLike[str]')]\n",
      "[typing.Dict[str, typing.Any], <class 'NoneType'>]\n",
      "[typing.Literal['infer', 'gzip', 'bz2', 'zip', 'xz', 'zstd', 'tar'], typing.Dict[str, typing.Any]]\n",
      "[typing.Literal['infer', 'gzip', 'bz2', 'zip', 'xz', 'zstd', 'tar'], typing.Dict[str, typing.Any], <class 'NoneType'>]\n",
      "[typing.List[typing.Callable], typing.Tuple[typing.Callable, ...], typing.Mapping[typing.Union[str, int], typing.Callable]]\n",
      "[<class 'str'>, typing.Callable, ForwardRef('EngFormatter')]\n",
      "[<class 'str'>, <class 'int'>, typing.Sequence[typing.Union[str, int]], typing.Mapping[typing.Hashable, typing.Union[str, int]]]\n",
      "[ForwardRef('ArrayManager'), ForwardRef('SingleArrayManager'), ForwardRef('BlockManager'), ForwardRef('SingleBlockManager')]\n",
      "[ForwardRef('SingleArrayManager'), ForwardRef('SingleBlockManager')]\n",
      "[ForwardRef('ArrayManager'), ForwardRef('BlockManager')]\n",
      "[<class 'int'>, <class 'numpy.integer'>]\n",
      "[<class 'slice'>, typing.List[int], <class 'numpy.ndarray'>]\n",
      "[<class 'int'>, <class 'numpy.integer'>, <class 'slice'>, typing.List[int], <class 'numpy.ndarray'>]\n",
      "[<class 'int'>, <class 'numpy.integer'>, <class 'slice'>, typing.List[int], <class 'numpy.ndarray'>, typing.Tuple[typing.Union[int, numpy.integer, slice, typing.List[int], numpy.ndarray], typing.Union[int, numpy.integer, slice, typing.List[int], numpy.ndarray]]]\n",
      "[typing.Literal['left', 'right'], typing.Literal['both', 'neither']]\n",
      "[<class 'datetime.datetime'>, ForwardRef('NaTType')]\n",
      "[typing.Literal['ignore', 'raise'], typing.Literal['coerce']]\n",
      "[<class 'pandas.util.version.InfinityType'>, <class 'pandas.util.version.NegativeInfinityType'>]\n",
      "[<class 'pandas.util.version.InfinityType'>, <class 'pandas.util.version.NegativeInfinityType'>, typing.Tuple[str, int]]\n",
      "[<class 'pandas.util.version.InfinityType'>, <class 'pandas.util.version.NegativeInfinityType'>, <class 'int'>, <class 'str'>]\n",
      "[<class 'pandas.util.version.InfinityType'>, <class 'pandas.util.version.NegativeInfinityType'>, <class 'int'>, <class 'str'>, typing.Tuple[typing.Union[pandas.util.version.InfinityType, pandas.util.version.NegativeInfinityType, int, str], str], typing.Tuple[pandas.util.version.NegativeInfinityType, typing.Union[pandas.util.version.InfinityType, pandas.util.version.NegativeInfinityType, int, str]]]\n",
      "[<class 'pandas.util.version.NegativeInfinityType'>, typing.Tuple[typing.Union[pandas.util.version.InfinityType, pandas.util.version.NegativeInfinityType, int, str, typing.Tuple[typing.Union[pandas.util.version.InfinityType, pandas.util.version.NegativeInfinityType, int, str], str], typing.Tuple[pandas.util.version.NegativeInfinityType, typing.Union[pandas.util.version.InfinityType, pandas.util.version.NegativeInfinityType, int, str]]], ...]]\n",
      "[typing.Tuple[int, typing.Tuple[int, ...], typing.Union[pandas.util.version.InfinityType, pandas.util.version.NegativeInfinityType, typing.Tuple[str, int]], typing.Union[pandas.util.version.InfinityType, pandas.util.version.NegativeInfinityType, typing.Tuple[str, int]], typing.Union[pandas.util.version.InfinityType, pandas.util.version.NegativeInfinityType, typing.Tuple[str, int]], typing.Union[pandas.util.version.NegativeInfinityType, typing.Tuple[typing.Union[pandas.util.version.InfinityType, pandas.util.version.NegativeInfinityType, int, str, typing.Tuple[typing.Union[pandas.util.version.InfinityType, pandas.util.version.NegativeInfinityType, int, str], str], typing.Tuple[pandas.util.version.NegativeInfinityType, typing.Union[pandas.util.version.InfinityType, pandas.util.version.NegativeInfinityType, int, str]]], ...]]], typing.Tuple[int, typing.Tuple[str, ...]]]\n",
      "[ForwardRef('Period'), ForwardRef('Timestamp'), ForwardRef('Timedelta'), <class 'pandas._libs.tslibs.nattype.NaTType'>]\n",
      "[typing.Mapping[str, str], typing.Iterable[str]]\n",
      "[<class 'pandas._libs.interval.Interval'>, <class 'float'>]\n",
      "[<class 'str'>, <class 'pandas._libs.missing.NAType'>]\n",
      "[typing.List, typing.Tuple, ForwardRef('ExtensionArray'), <class 'numpy.ndarray'>, ForwardRef('Index'), ForwardRef('Series')]\n",
      "[<class 'float'>, <class 'str'>]\n",
      "[<class 'float'>, <class 'str'>, <class 'datetime.datetime'>]\n",
      "[<class 'float'>, <class 'str'>, <class 'datetime.datetime'>, typing.List, typing.Tuple, ForwardRef('ExtensionArray'), <class 'numpy.ndarray'>, ForwardRef('Index'), ForwardRef('Series')]\n",
      "[typing.List[typing.Union[float, str]], typing.Tuple[typing.Union[float, str], ...], ForwardRef('ExtensionArray'), <class 'numpy.ndarray'>, ForwardRef('Index'), ForwardRef('Series')]\n",
      "[<class 'pandas.core.tools.datetimes.FulldatetimeDict'>, ForwardRef('DataFrame')]\n",
      "[typing.Hashable, typing.List[typing.Hashable], typing.Callable[[typing.Hashable], typing.Hashable], typing.List[typing.Callable[[typing.Hashable], typing.Hashable]], typing.Mapping[typing.Hashable, typing.Hashable]]\n",
      "[<class 'str'>, typing.Callable[..., typing.Any]]\n",
      "[<class 'str'>, typing.Iterable[str]]\n",
      "[typing.Tuple[int, int], typing.Tuple[int]]\n",
      "[<class 'pyparsing.results.ParseResults'>, typing.Sequence[pyparsing.results.ParseResults]]\n",
      "[typing.Callable[[], typing.Any], typing.Callable[[pyparsing.results.ParseResults], typing.Any], typing.Callable[[int, pyparsing.results.ParseResults], typing.Any], typing.Callable[[str, int, pyparsing.results.ParseResults], typing.Any]]\n",
      "[typing.Callable[[], bool], typing.Callable[[pyparsing.results.ParseResults], bool], typing.Callable[[int, pyparsing.results.ParseResults], bool], typing.Callable[[str, int, pyparsing.results.ParseResults], bool]]\n",
      "[typing.Callable[[str, int, ForwardRef('ParserElement'), bool], NoneType], <class 'NoneType'>]\n",
      "[typing.Callable[[str, int, int, ForwardRef('ParserElement'), pyparsing.results.ParseResults, bool], NoneType], <class 'NoneType'>]\n",
      "[typing.Callable[[str, int, ForwardRef('ParserElement'), Exception, bool], NoneType], <class 'NoneType'>]\n",
      "[<class 'pyparsing.results.ParseResults'>, <class 'Exception'>]\n",
      "[<class 'int'>, <class 'NoneType'>]\n",
      "[typing.Set[str], <class 'str'>]\n",
      "[<class 'str'>, <class 'pathlib.Path'>, <class 'typing.TextIO'>]\n",
      "[<class 'str'>, typing.List[str]]\n",
      "[ForwardRef('ParserElement'), <class 'str'>]\n",
      "[ForwardRef('ParserElement'), <class 'str'>, <class 'NoneType'>]\n",
      "[typing.Callable[[str, pyparsing.results.ParseResults], str], <class 'NoneType'>]\n",
      "[<class 'typing.TextIO'>, <class 'NoneType'>]\n",
      "[<class 'typing.TextIO'>, <class 'pathlib.Path'>, <class 'str'>]\n",
      "[<enum 'RegexFlag'>, <class 'int'>]\n",
      "[<class 'pyparsing.core.ParserElement'>, <class 'str'>]\n",
      "[<class 'str'>, <class 'pyparsing.core.ParserElement'>]\n",
      "[<class 'pyparsing.core.ParserElement'>, <class 'str'>, <class 'NoneType'>]\n",
      "[<class 'pyparsing.core.ParserElement'>, <class 'NoneType'>]\n",
      "[typing.Iterable[str], <class 'str'>]\n",
      "[<class 'pyparsing.core.ParserElement'>, <class 'str'>, typing.Tuple[typing.Union[pyparsing.core.ParserElement, str], typing.Union[pyparsing.core.ParserElement, str]]]\n",
      "[typing.Callable[[], typing.Any], typing.Callable[[pyparsing.results.ParseResults], typing.Any], typing.Callable[[int, pyparsing.results.ParseResults], typing.Any], typing.Callable[[str, int, pyparsing.results.ParseResults], typing.Any], <class 'NoneType'>]\n",
      "[typing.Tuple[typing.Union[pyparsing.core.ParserElement, str, typing.Tuple[typing.Union[pyparsing.core.ParserElement, str], typing.Union[pyparsing.core.ParserElement, str]]], int, pyparsing.helpers.OpAssoc, typing.Union[typing.Callable[[], typing.Any], typing.Callable[[pyparsing.results.ParseResults], typing.Any], typing.Callable[[int, pyparsing.results.ParseResults], typing.Any], typing.Callable[[str, int, pyparsing.results.ParseResults], typing.Any], NoneType]], typing.Tuple[typing.Union[pyparsing.core.ParserElement, str, typing.Tuple[typing.Union[pyparsing.core.ParserElement, str], typing.Union[pyparsing.core.ParserElement, str]]], int, pyparsing.helpers.OpAssoc]]\n",
      "[<class 'str'>, os.PathLike[str]]\n",
      "[<class 'module'>, <class 'str'>]\n",
      "[<class 'module'>, <class 'str'>, <class 'NoneType'>]\n",
      "[<class 'importlib_resources.abc.ResourceReader'>, <class 'NoneType'>]\n",
      "[<class 'seaborn.external.version.InfinityType'>, <class 'seaborn.external.version.NegativeInfinityType'>]\n",
      "[<class 'seaborn.external.version.InfinityType'>, <class 'seaborn.external.version.NegativeInfinityType'>, typing.Tuple[str, int]]\n",
      "[<class 'seaborn.external.version.InfinityType'>, <class 'seaborn.external.version.NegativeInfinityType'>, <class 'int'>, <class 'str'>]\n",
      "[<class 'seaborn.external.version.InfinityType'>, <class 'seaborn.external.version.NegativeInfinityType'>, <class 'int'>, <class 'str'>, typing.Tuple[typing.Union[seaborn.external.version.InfinityType, seaborn.external.version.NegativeInfinityType, int, str], str], typing.Tuple[seaborn.external.version.NegativeInfinityType, typing.Union[seaborn.external.version.InfinityType, seaborn.external.version.NegativeInfinityType, int, str]]]\n",
      "[<class 'seaborn.external.version.NegativeInfinityType'>, typing.Tuple[typing.Union[seaborn.external.version.InfinityType, seaborn.external.version.NegativeInfinityType, int, str, typing.Tuple[typing.Union[seaborn.external.version.InfinityType, seaborn.external.version.NegativeInfinityType, int, str], str], typing.Tuple[seaborn.external.version.NegativeInfinityType, typing.Union[seaborn.external.version.InfinityType, seaborn.external.version.NegativeInfinityType, int, str]]], ...]]\n",
      "[typing.Tuple[int, typing.Tuple[int, ...], typing.Union[seaborn.external.version.InfinityType, seaborn.external.version.NegativeInfinityType, typing.Tuple[str, int]], typing.Union[seaborn.external.version.InfinityType, seaborn.external.version.NegativeInfinityType, typing.Tuple[str, int]], typing.Union[seaborn.external.version.InfinityType, seaborn.external.version.NegativeInfinityType, typing.Tuple[str, int]], typing.Union[seaborn.external.version.NegativeInfinityType, typing.Tuple[typing.Union[seaborn.external.version.InfinityType, seaborn.external.version.NegativeInfinityType, int, str, typing.Tuple[typing.Union[seaborn.external.version.InfinityType, seaborn.external.version.NegativeInfinityType, int, str], str], typing.Tuple[seaborn.external.version.NegativeInfinityType, typing.Union[seaborn.external.version.InfinityType, seaborn.external.version.NegativeInfinityType, int, str]]], ...]]], typing.Tuple[int, typing.Tuple[str, ...]]]\n",
      "[typing.Tuple[str, int], <class 'NoneType'>]\n",
      "[<class 'str'>, <class 'bytes'>, <class 'typing.SupportsInt'>]\n",
      "[<class 'seaborn.external.version.NegativeInfinityType'>, typing.Tuple[typing.Union[seaborn.external.version.InfinityType, seaborn.external.version.NegativeInfinityType, int, str, typing.Tuple[typing.Union[seaborn.external.version.InfinityType, seaborn.external.version.NegativeInfinityType, int, str], str], typing.Tuple[seaborn.external.version.NegativeInfinityType, typing.Union[seaborn.external.version.InfinityType, seaborn.external.version.NegativeInfinityType, int, str]]], ...], <class 'NoneType'>]\n",
      "[typing.Tuple[typing.Union[seaborn.external.version.InfinityType, seaborn.external.version.NegativeInfinityType, int, str]], <class 'NoneType'>]\n",
      "[<class 'float'>, <class 'numpy.floating'>, <class 'numpy.integer'>]\n",
      "[typing.Callable, <class 'NoneType'>]\n",
      "[<class 'str'>, <class 'bytes'>, <class 'datetime.date'>, <class 'datetime.datetime'>, <class 'datetime.timedelta'>, <class 'bool'>, <class 'complex'>, <class 'pandas._libs.tslibs.timestamps.Timestamp'>, <class 'pandas._libs.tslibs.timedeltas.Timedelta'>]\n",
      "[<class 'pandas.core.series.Series'>, <class 'pandas.core.indexes.base.Index'>, <class 'numpy.ndarray'>]\n",
      "[<class 'str'>, <class 'bytes'>, <class 'datetime.date'>, <class 'datetime.datetime'>, <class 'datetime.timedelta'>, <class 'bool'>, <class 'complex'>, <class 'pandas._libs.tslibs.timestamps.Timestamp'>, <class 'pandas._libs.tslibs.timedeltas.Timedelta'>, <class 'pandas.core.series.Series'>, <class 'pandas.core.indexes.base.Index'>, <class 'numpy.ndarray'>, <class 'NoneType'>]\n",
      "[typing.List[typing.Union[str, bytes, datetime.date, datetime.datetime, datetime.timedelta, bool, complex, pandas._libs.tslibs.timestamps.Timestamp, pandas._libs.tslibs.timedeltas.Timedelta, pandas.core.series.Series, pandas.core.indexes.base.Index, numpy.ndarray, NoneType]], <class 'pandas.core.indexes.base.Index'>, <class 'NoneType'>]\n",
      "[<class 'pandas.core.frame.DataFrame'>, typing.Mapping[collections.abc.Hashable, typing.Union[pandas.core.series.Series, pandas.core.indexes.base.Index, numpy.ndarray]], <class 'NoneType'>]\n",
      "[<class 'collections.abc.Iterable'>, <class 'NoneType'>]\n",
      "[<class 'float'>, <class 'NoneType'>]\n",
      "[typing.Tuple[typing.Optional[float], typing.Optional[float]], <class 'matplotlib.colors.Normalize'>, <class 'NoneType'>]\n",
      "[<class 'str'>, <class 'list'>, <class 'dict'>, <class 'matplotlib.colors.Colormap'>, <class 'NoneType'>]\n",
      "[<class 'dict'>, <class 'list'>, <class 'NoneType'>]\n",
      "[typing.Tuple[float, float], typing.List[float], typing.Dict[typing.Any, float], <class 'NoneType'>]\n",
      "[<class 'rdkit.Chem.rdchem.Mol'>, <class 'NoneType'>]\n",
      "[<class 'rdkit.Chem.rdchem.Mol'>, typing.Tuple[typing.Optional[rdkit.Chem.rdchem.Mol], papyrus_structure_pipeline.standardizer.StandardizationResult]]\n",
      "[<class 'bool'>, typing.Tuple[bool, papyrus_structure_pipeline.standardizer.InorganicSubtype]]\n",
      "[<class 'rdkit.Chem.rdchem.Mol'>, typing.Tuple[rdkit.Chem.rdchem.Mol, papyrus_structure_pipeline.standardizer.SaltStrippingResult]]\n"
     ]
    },
    {
     "name": "stderr",
     "output_type": "stream",
     "text": [
      "[14:14:11] Initializing Normalizer\n"
     ]
    }
   ],
   "source": [
    "import pandas as pd\n",
    "import matplotlib.pyplot as plt\n",
    "import numpy as np\n",
    "import seaborn as sns\n",
    "from rdkit import Chem\n",
    "from rdkit.Chem import inchi\n",
    "from tqdm import tqdm\n",
    "from time import sleep\n",
    "from tqdm.notebook import tqdm\n",
    "\n",
    "from chembl_structure_pipeline import standardizer as ChEMBL_standardizer\n",
    "from papyrus_structure_pipeline import standardize"
   ]
  },
  {
   "cell_type": "code",
   "execution_count": 2,
   "metadata": {},
   "outputs": [
    {
     "name": "stdout",
     "output_type": "stream",
     "text": [
      "[typing.List[int], typing.List[str]]\n"
     ]
    }
   ],
   "source": [
    "kpuu_raw =  pd.read_excel('Kpuu_raw.xlsx')"
   ]
  },
  {
   "cell_type": "code",
   "execution_count": 3,
   "metadata": {},
   "outputs": [
    {
     "data": {
      "text/html": [
       "<div>\n",
       "<style scoped>\n",
       "    .dataframe tbody tr th:only-of-type {\n",
       "        vertical-align: middle;\n",
       "    }\n",
       "\n",
       "    .dataframe tbody tr th {\n",
       "        vertical-align: top;\n",
       "    }\n",
       "\n",
       "    .dataframe thead th {\n",
       "        text-align: right;\n",
       "    }\n",
       "</style>\n",
       "<table border=\"1\" class=\"dataframe\">\n",
       "  <thead>\n",
       "    <tr style=\"text-align: right;\">\n",
       "      <th></th>\n",
       "      <th>SMILES</th>\n",
       "      <th>Kp,uu,brain</th>\n",
       "      <th>species</th>\n",
       "      <th>Ref_DOI</th>\n",
       "    </tr>\n",
       "  </thead>\n",
       "  <tbody>\n",
       "    <tr>\n",
       "      <th>0</th>\n",
       "      <td>CCN1N=C(C2=C1C(=O)N(C=C2)C1CCN(C)CC1)C1=CC(OC(...</td>\n",
       "      <td>0.38</td>\n",
       "      <td>mouse</td>\n",
       "      <td>Lawrenz_2023:10.1021/acs.jcim.3c00150</td>\n",
       "    </tr>\n",
       "    <tr>\n",
       "      <th>1</th>\n",
       "      <td>CCN1N=C(C2=C1C(=O)N(C=C2)C1CCN(CC1)C1COC1)C1=C...</td>\n",
       "      <td>0.15</td>\n",
       "      <td>mouse</td>\n",
       "      <td>Lawrenz_2023:10.1021/acs.jcim.3c00150</td>\n",
       "    </tr>\n",
       "    <tr>\n",
       "      <th>2</th>\n",
       "      <td>CCN1N=C(C2=C1C(=O)N(C=C2)C1CCOCC1)C1=CC(OC(F)(...</td>\n",
       "      <td>0.43</td>\n",
       "      <td>mouse</td>\n",
       "      <td>Lawrenz_2023:10.1021/acs.jcim.3c00150</td>\n",
       "    </tr>\n",
       "    <tr>\n",
       "      <th>3</th>\n",
       "      <td>CCN1N=C(C2=C1C(=O)N(C=C2)[C@@H]1CCOC[C@@H]1OC1...</td>\n",
       "      <td>0.22</td>\n",
       "      <td>mouse</td>\n",
       "      <td>Lawrenz_2023:10.1021/acs.jcim.3c00150</td>\n",
       "    </tr>\n",
       "    <tr>\n",
       "      <th>4</th>\n",
       "      <td>CCO[C@H]1COCC[C@H]1N1C=CC2=C(N(CC)N=C2C2=CC(OC...</td>\n",
       "      <td>0.30</td>\n",
       "      <td>mouse</td>\n",
       "      <td>Lawrenz_2023:10.1021/acs.jcim.3c00150</td>\n",
       "    </tr>\n",
       "  </tbody>\n",
       "</table>\n",
       "</div>"
      ],
      "text/plain": [
       "                                              SMILES  Kp,uu,brain species  \\\n",
       "0  CCN1N=C(C2=C1C(=O)N(C=C2)C1CCN(C)CC1)C1=CC(OC(...         0.38   mouse   \n",
       "1  CCN1N=C(C2=C1C(=O)N(C=C2)C1CCN(CC1)C1COC1)C1=C...         0.15   mouse   \n",
       "2  CCN1N=C(C2=C1C(=O)N(C=C2)C1CCOCC1)C1=CC(OC(F)(...         0.43   mouse   \n",
       "3  CCN1N=C(C2=C1C(=O)N(C=C2)[C@@H]1CCOC[C@@H]1OC1...         0.22   mouse   \n",
       "4  CCO[C@H]1COCC[C@H]1N1C=CC2=C(N(CC)N=C2C2=CC(OC...         0.30   mouse   \n",
       "\n",
       "                                 Ref_DOI  \n",
       "0  Lawrenz_2023:10.1021/acs.jcim.3c00150  \n",
       "1  Lawrenz_2023:10.1021/acs.jcim.3c00150  \n",
       "2  Lawrenz_2023:10.1021/acs.jcim.3c00150  \n",
       "3  Lawrenz_2023:10.1021/acs.jcim.3c00150  \n",
       "4  Lawrenz_2023:10.1021/acs.jcim.3c00150  "
      ]
     },
     "execution_count": 3,
     "metadata": {},
     "output_type": "execute_result"
    }
   ],
   "source": [
    "kpuu_raw.head()"
   ]
  },
  {
   "cell_type": "code",
   "execution_count": 4,
   "metadata": {},
   "outputs": [
    {
     "data": {
      "text/html": [
       "<div>\n",
       "<style scoped>\n",
       "    .dataframe tbody tr th:only-of-type {\n",
       "        vertical-align: middle;\n",
       "    }\n",
       "\n",
       "    .dataframe tbody tr th {\n",
       "        vertical-align: top;\n",
       "    }\n",
       "\n",
       "    .dataframe thead th {\n",
       "        text-align: right;\n",
       "    }\n",
       "</style>\n",
       "<table border=\"1\" class=\"dataframe\">\n",
       "  <thead>\n",
       "    <tr style=\"text-align: right;\">\n",
       "      <th></th>\n",
       "      <th>SMILES</th>\n",
       "      <th>Kp,uu,brain</th>\n",
       "      <th>species</th>\n",
       "      <th>Ref_DOI</th>\n",
       "      <th>status_activity</th>\n",
       "    </tr>\n",
       "  </thead>\n",
       "  <tbody>\n",
       "    <tr>\n",
       "      <th>0</th>\n",
       "      <td>CCN1N=C(C2=C1C(=O)N(C=C2)C1CCN(C)CC1)C1=CC(OC(...</td>\n",
       "      <td>0.38</td>\n",
       "      <td>mouse</td>\n",
       "      <td>Lawrenz_2023:10.1021/acs.jcim.3c00150</td>\n",
       "      <td>active</td>\n",
       "    </tr>\n",
       "    <tr>\n",
       "      <th>1</th>\n",
       "      <td>CCN1N=C(C2=C1C(=O)N(C=C2)C1CCN(CC1)C1COC1)C1=C...</td>\n",
       "      <td>0.15</td>\n",
       "      <td>mouse</td>\n",
       "      <td>Lawrenz_2023:10.1021/acs.jcim.3c00150</td>\n",
       "      <td>?</td>\n",
       "    </tr>\n",
       "    <tr>\n",
       "      <th>2</th>\n",
       "      <td>CCN1N=C(C2=C1C(=O)N(C=C2)C1CCOCC1)C1=CC(OC(F)(...</td>\n",
       "      <td>0.43</td>\n",
       "      <td>mouse</td>\n",
       "      <td>Lawrenz_2023:10.1021/acs.jcim.3c00150</td>\n",
       "      <td>active</td>\n",
       "    </tr>\n",
       "    <tr>\n",
       "      <th>3</th>\n",
       "      <td>CCN1N=C(C2=C1C(=O)N(C=C2)[C@@H]1CCOC[C@@H]1OC1...</td>\n",
       "      <td>0.22</td>\n",
       "      <td>mouse</td>\n",
       "      <td>Lawrenz_2023:10.1021/acs.jcim.3c00150</td>\n",
       "      <td>?</td>\n",
       "    </tr>\n",
       "    <tr>\n",
       "      <th>4</th>\n",
       "      <td>CCO[C@H]1COCC[C@H]1N1C=CC2=C(N(CC)N=C2C2=CC(OC...</td>\n",
       "      <td>0.30</td>\n",
       "      <td>mouse</td>\n",
       "      <td>Lawrenz_2023:10.1021/acs.jcim.3c00150</td>\n",
       "      <td>?</td>\n",
       "    </tr>\n",
       "    <tr>\n",
       "      <th>5</th>\n",
       "      <td>CCN1N=C(C2=C1C(=O)N(C=C2)[C@@H]1CCOC[C@@H]1OCC...</td>\n",
       "      <td>0.09</td>\n",
       "      <td>mouse</td>\n",
       "      <td>Lawrenz_2023:10.1021/acs.jcim.3c00150</td>\n",
       "      <td>inactive</td>\n",
       "    </tr>\n",
       "    <tr>\n",
       "      <th>6</th>\n",
       "      <td>CCC1=NC(=C2C=CC(=CN12)[C@H]1CN(C)C(=O)C1)C1=CC...</td>\n",
       "      <td>0.08</td>\n",
       "      <td>mouse</td>\n",
       "      <td>Lawrenz_2023:10.1021/acs.jcim.3c00150</td>\n",
       "      <td>inactive</td>\n",
       "    </tr>\n",
       "    <tr>\n",
       "      <th>7</th>\n",
       "      <td>CCC1=NC(=C2C=CC(=CN12)C1CCN(C)CC1)C1=CN=C(N)C(...</td>\n",
       "      <td>0.18</td>\n",
       "      <td>mouse</td>\n",
       "      <td>Lawrenz_2023:10.1021/acs.jcim.3c00150</td>\n",
       "      <td>?</td>\n",
       "    </tr>\n",
       "    <tr>\n",
       "      <th>8</th>\n",
       "      <td>CCC1=NC(=C2C=CC(=CN12)[C@@H]1COCCN1C)C1=CC(=C(...</td>\n",
       "      <td>0.24</td>\n",
       "      <td>mouse</td>\n",
       "      <td>Lawrenz_2023:10.1021/acs.jcim.3c00150</td>\n",
       "      <td>?</td>\n",
       "    </tr>\n",
       "    <tr>\n",
       "      <th>9</th>\n",
       "      <td>CN1CCCC[C@H]1c1ccc2c(-c3cnc(N)c(C(F)(F)F)c3)nc...</td>\n",
       "      <td>1.20</td>\n",
       "      <td>mouse</td>\n",
       "      <td>Lawrenz_2023:10.1021/acs.jcim.3c00150</td>\n",
       "      <td>active</td>\n",
       "    </tr>\n",
       "  </tbody>\n",
       "</table>\n",
       "</div>"
      ],
      "text/plain": [
       "                                              SMILES  Kp,uu,brain species  \\\n",
       "0  CCN1N=C(C2=C1C(=O)N(C=C2)C1CCN(C)CC1)C1=CC(OC(...         0.38   mouse   \n",
       "1  CCN1N=C(C2=C1C(=O)N(C=C2)C1CCN(CC1)C1COC1)C1=C...         0.15   mouse   \n",
       "2  CCN1N=C(C2=C1C(=O)N(C=C2)C1CCOCC1)C1=CC(OC(F)(...         0.43   mouse   \n",
       "3  CCN1N=C(C2=C1C(=O)N(C=C2)[C@@H]1CCOC[C@@H]1OC1...         0.22   mouse   \n",
       "4  CCO[C@H]1COCC[C@H]1N1C=CC2=C(N(CC)N=C2C2=CC(OC...         0.30   mouse   \n",
       "5  CCN1N=C(C2=C1C(=O)N(C=C2)[C@@H]1CCOC[C@@H]1OCC...         0.09   mouse   \n",
       "6  CCC1=NC(=C2C=CC(=CN12)[C@H]1CN(C)C(=O)C1)C1=CC...         0.08   mouse   \n",
       "7  CCC1=NC(=C2C=CC(=CN12)C1CCN(C)CC1)C1=CN=C(N)C(...         0.18   mouse   \n",
       "8  CCC1=NC(=C2C=CC(=CN12)[C@@H]1COCCN1C)C1=CC(=C(...         0.24   mouse   \n",
       "9  CN1CCCC[C@H]1c1ccc2c(-c3cnc(N)c(C(F)(F)F)c3)nc...         1.20   mouse   \n",
       "\n",
       "                                 Ref_DOI status_activity  \n",
       "0  Lawrenz_2023:10.1021/acs.jcim.3c00150          active  \n",
       "1  Lawrenz_2023:10.1021/acs.jcim.3c00150               ?  \n",
       "2  Lawrenz_2023:10.1021/acs.jcim.3c00150          active  \n",
       "3  Lawrenz_2023:10.1021/acs.jcim.3c00150               ?  \n",
       "4  Lawrenz_2023:10.1021/acs.jcim.3c00150               ?  \n",
       "5  Lawrenz_2023:10.1021/acs.jcim.3c00150        inactive  \n",
       "6  Lawrenz_2023:10.1021/acs.jcim.3c00150        inactive  \n",
       "7  Lawrenz_2023:10.1021/acs.jcim.3c00150               ?  \n",
       "8  Lawrenz_2023:10.1021/acs.jcim.3c00150               ?  \n",
       "9  Lawrenz_2023:10.1021/acs.jcim.3c00150          active  "
      ]
     },
     "execution_count": 4,
     "metadata": {},
     "output_type": "execute_result"
    }
   ],
   "source": [
    "def compare_values(row):\n",
    "    if row['Kp,uu,brain'] > 0.33:\n",
    "        return 'active'\n",
    "    elif row['Kp,uu,brain'] <= 0.1:\n",
    "        return 'inactive'\n",
    "    else:\n",
    "        return '?'\n",
    "\n",
    "kpuu_raw['status_activity'] = kpuu_raw.apply(compare_values, axis=1)\n",
    "\n",
    "kpuu_raw.head(10)"
   ]
  },
  {
   "cell_type": "code",
   "execution_count": 5,
   "metadata": {},
   "outputs": [],
   "source": [
    "kpuu_raw = kpuu_raw.rename(columns={'SMILES': 'SMILES_raw'})\n",
    "\n",
    "columns_to_keep = ['SMILES_raw', 'status_activity', 'species']\n",
    "kpuu = kpuu_raw[columns_to_keep]\n"
   ]
  },
  {
   "cell_type": "code",
   "execution_count": 6,
   "metadata": {},
   "outputs": [],
   "source": [
    "#Remove rows without SMILES\n",
    "\n",
    "def remove_nan_smiles(df):\n",
    "\n",
    "    df = df[~(df['SMILES_raw'].isna())]\n",
    "    df = df.reset_index(drop=True)\n",
    "\n",
    "    return df"
   ]
  },
  {
   "cell_type": "code",
   "execution_count": 7,
   "metadata": {},
   "outputs": [],
   "source": [
    "#Papyrus Standardization\n",
    "\n",
    "def create_sd_smiles(sd_mol):\n",
    "    try:\n",
    "        standardized_smiles =  Chem.MolToSmiles(sd_mol)\n",
    "        return standardized_smiles\n",
    "    except Exception as e:\n",
    "        print(f\"An sd_smiles error occurred: {str(e)}\")\n",
    "        return None\n",
    "    \n",
    "#Create InChI keys from standardized molecules\n",
    "def mol_to_inchi_key(sd_mol):\n",
    "    if sd_mol is not None:\n",
    "\n",
    "        inchi_str = inchi.MolToInchi(sd_mol)\n",
    "        inchi_key = inchi.InchiToInchiKey(inchi_str)\n",
    "    else:\n",
    "        inchi_key = None   \n",
    "    return inchi_key\n",
    "\n",
    "def standardize_molecule(mol):\n",
    "    standardized_mol =  standardize(mol,raise_error=False )\n",
    "    return standardized_mol\n",
    "\n",
    "#Standardize \n",
    "\n",
    "def standardize_workflow(df_raw):\n",
    "    for i in range(0,len(df_raw)):\n",
    "        smiles =df_raw.at[i,'SMILES_raw']\n",
    "        mol = Chem.MolFromSmiles(smiles)\n",
    "        sd_mol =  standardize_molecule(mol)\n",
    "        sd_smiles = create_sd_smiles(sd_mol)\n",
    "        sd_inchi_key = mol_to_inchi_key(sd_mol)\n",
    "        df_raw.at[i,'papyrus_SMILES'] = sd_smiles\n",
    "        df_raw.at[i,'papyrus_inchi_key'] = sd_inchi_key\n",
    "\n",
    "    print(f'df length after standardization: {len(df_raw)}')\n",
    "\n",
    "    return df_raw"
   ]
  },
  {
   "cell_type": "code",
   "execution_count": 8,
   "metadata": {},
   "outputs": [],
   "source": [
    "#Check for missing inchi key\n",
    "\n",
    "def missing_inchi(df_raw):\n",
    "    smiles_nan = df_raw['papyrus_SMILES'].isna().sum()\n",
    "    inchikey_nan =df_raw['papyrus_inchi_key'].isna().sum()\n",
    "    print(f'DB length: {len(df_raw)},        SMILES nan: {smiles_nan},        inchi key nan: {inchikey_nan}')\n",
    "\n",
    "    #Remove rows with missing inchikey\n",
    "    df_valid_inchi= df_raw[((df_raw['papyrus_inchi_key'].notna()))]\n",
    "    print('-----remove missing inchikey----')\n",
    "    print(f'updated length: {len(df_valid_inchi)}')\n",
    "\n",
    "    return df_valid_inchi"
   ]
  },
  {
   "cell_type": "code",
   "execution_count": 9,
   "metadata": {},
   "outputs": [],
   "source": [
    "def inchi_first_part(inchi):\n",
    "    return inchi.split('-')[0]\n",
    "\n",
    "def create_connectivity_inchi(df):\n",
    "    df['inchi_connectivity'] = df['papyrus_inchi_key'].apply(inchi_first_part)\n",
    "    \n",
    "    return df"
   ]
  },
  {
   "cell_type": "code",
   "execution_count": 10,
   "metadata": {},
   "outputs": [],
   "source": [
    "#Check for duplicates\n",
    "\n",
    "def remove_duplicates(df):\n",
    "    print(f'length: {len(df)}')\n",
    "    inchi_un = df['inchi_connectivity'].nunique()\n",
    "    print(f'unique_inchi: {inchi_un}')\n",
    "\n",
    "\n",
    "    unique_counts = df.groupby('inchi_connectivity')['status_activity'].nunique()\n",
    "    contradicting_duplicates = unique_counts[unique_counts > 1].index\n",
    "\n",
    "    print(f'Contradicting duplicates: {len(contradicting_duplicates)}')\n",
    "\n",
    "    # Separate contradicting duplicates into a new dataframe\n",
    "    duplicates_df = df[df['inchi_connectivity'].isin(contradicting_duplicates)].copy()\n",
    "\n",
    "    # Remove contradicting duplicates from the original dataframe\n",
    "    df = df[~df['inchi_connectivity'].isin(contradicting_duplicates)].copy()\n",
    "\n",
    "    print(f'Original dataframe after contradicting duplicates removed: {len(df)}')\n",
    "    print(f'Original dataframe unique_inchi after removal: {df[\"inchi_connectivity\"].nunique()}')\n",
    "\n",
    "    df=df.drop_duplicates(subset=['inchi_connectivity'], keep=\"first\").reset_index(drop=True)\n",
    "    \n",
    "    print(f'Original dataframe after non-contradicting duplicates removed: {len(df)}')\n",
    "\n",
    "    return df, duplicates_df"
   ]
  },
  {
   "cell_type": "code",
   "execution_count": 11,
   "metadata": {},
   "outputs": [
    {
     "name": "stdout",
     "output_type": "stream",
     "text": [
      "An sd_smiles error occurred: Python argument types in\n",
      "    rdkit.Chem.rdmolfiles.MolToSmiles(NoneType)\n",
      "did not match C++ signature:\n",
      "    MolToSmiles(class RDKit::ROMol mol, bool isomericSmiles=True, bool kekuleSmiles=False, int rootedAtAtom=-1, bool canonical=True, bool allBondsExplicit=False, bool allHsExplicit=False, bool doRandom=False)\n",
      "    MolToSmiles(class RDKit::ROMol mol, struct RDKit::SmilesWriteParams params)\n"
     ]
    },
    {
     "name": "stderr",
     "output_type": "stream",
     "text": [
      "[14:14:29] WARNING: Omitted undefined stereo\n",
      "\n",
      "[14:14:29] WARNING: Omitted undefined stereo\n",
      "\n",
      "[14:14:29] WARNING: Omitted undefined stereo\n",
      "\n",
      "[14:14:29] WARNING: Omitted undefined stereo\n",
      "\n",
      "[14:14:30] WARNING: Omitted undefined stereo\n",
      "\n",
      "[14:14:30] WARNING: Omitted undefined stereo\n",
      "\n"
     ]
    },
    {
     "name": "stdout",
     "output_type": "stream",
     "text": [
      "An sd_smiles error occurred: Python argument types in\n",
      "    rdkit.Chem.rdmolfiles.MolToSmiles(NoneType)\n",
      "did not match C++ signature:\n",
      "    MolToSmiles(class RDKit::ROMol mol, bool isomericSmiles=True, bool kekuleSmiles=False, int rootedAtAtom=-1, bool canonical=True, bool allBondsExplicit=False, bool allHsExplicit=False, bool doRandom=False)\n",
      "    MolToSmiles(class RDKit::ROMol mol, struct RDKit::SmilesWriteParams params)\n",
      "An sd_smiles error occurred: Python argument types in\n",
      "    rdkit.Chem.rdmolfiles.MolToSmiles(NoneType)\n",
      "did not match C++ signature:\n",
      "    MolToSmiles(class RDKit::ROMol mol, bool isomericSmiles=True, bool kekuleSmiles=False, int rootedAtAtom=-1, bool canonical=True, bool allBondsExplicit=False, bool allHsExplicit=False, bool doRandom=False)\n",
      "    MolToSmiles(class RDKit::ROMol mol, struct RDKit::SmilesWriteParams params)\n",
      "An sd_smiles error occurred: Python argument types in\n",
      "    rdkit.Chem.rdmolfiles.MolToSmiles(NoneType)\n",
      "did not match C++ signature:\n",
      "    MolToSmiles(class RDKit::ROMol mol, bool isomericSmiles=True, bool kekuleSmiles=False, int rootedAtAtom=-1, bool canonical=True, bool allBondsExplicit=False, bool allHsExplicit=False, bool doRandom=False)\n",
      "    MolToSmiles(class RDKit::ROMol mol, struct RDKit::SmilesWriteParams params)\n"
     ]
    },
    {
     "name": "stderr",
     "output_type": "stream",
     "text": [
      "[14:14:30] WARNING: Omitted undefined stereo\n",
      "\n",
      "[14:14:30] WARNING: Omitted undefined stereo\n",
      "\n",
      "[14:14:30] WARNING: Omitted undefined stereo\n",
      "\n"
     ]
    },
    {
     "name": "stdout",
     "output_type": "stream",
     "text": [
      "An sd_smiles error occurred: Python argument types in\n",
      "    rdkit.Chem.rdmolfiles.MolToSmiles(NoneType)\n",
      "did not match C++ signature:\n",
      "    MolToSmiles(class RDKit::ROMol mol, bool isomericSmiles=True, bool kekuleSmiles=False, int rootedAtAtom=-1, bool canonical=True, bool allBondsExplicit=False, bool allHsExplicit=False, bool doRandom=False)\n",
      "    MolToSmiles(class RDKit::ROMol mol, struct RDKit::SmilesWriteParams params)\n",
      "An sd_smiles error occurred: Python argument types in\n",
      "    rdkit.Chem.rdmolfiles.MolToSmiles(NoneType)\n",
      "did not match C++ signature:\n",
      "    MolToSmiles(class RDKit::ROMol mol, bool isomericSmiles=True, bool kekuleSmiles=False, int rootedAtAtom=-1, bool canonical=True, bool allBondsExplicit=False, bool allHsExplicit=False, bool doRandom=False)\n",
      "    MolToSmiles(class RDKit::ROMol mol, struct RDKit::SmilesWriteParams params)\n"
     ]
    },
    {
     "name": "stderr",
     "output_type": "stream",
     "text": [
      "[14:14:30] WARNING: Omitted undefined stereo\n",
      "\n",
      "[14:14:30] WARNING: Omitted undefined stereo\n",
      "\n",
      "[14:14:30] WARNING: Omitted undefined stereo\n",
      "\n",
      "[14:14:31] WARNING: Omitted undefined stereo\n",
      "\n"
     ]
    },
    {
     "name": "stdout",
     "output_type": "stream",
     "text": [
      "An sd_smiles error occurred: Python argument types in\n",
      "    rdkit.Chem.rdmolfiles.MolToSmiles(NoneType)\n",
      "did not match C++ signature:\n",
      "    MolToSmiles(class RDKit::ROMol mol, bool isomericSmiles=True, bool kekuleSmiles=False, int rootedAtAtom=-1, bool canonical=True, bool allBondsExplicit=False, bool allHsExplicit=False, bool doRandom=False)\n",
      "    MolToSmiles(class RDKit::ROMol mol, struct RDKit::SmilesWriteParams params)\n",
      "An sd_smiles error occurred: Python argument types in\n",
      "    rdkit.Chem.rdmolfiles.MolToSmiles(NoneType)\n",
      "did not match C++ signature:\n",
      "    MolToSmiles(class RDKit::ROMol mol, bool isomericSmiles=True, bool kekuleSmiles=False, int rootedAtAtom=-1, bool canonical=True, bool allBondsExplicit=False, bool allHsExplicit=False, bool doRandom=False)\n",
      "    MolToSmiles(class RDKit::ROMol mol, struct RDKit::SmilesWriteParams params)\n"
     ]
    },
    {
     "name": "stderr",
     "output_type": "stream",
     "text": [
      "[14:14:31] WARNING: Omitted undefined stereo\n",
      "\n"
     ]
    },
    {
     "name": "stdout",
     "output_type": "stream",
     "text": [
      "An sd_smiles error occurred: Python argument types in\n",
      "    rdkit.Chem.rdmolfiles.MolToSmiles(NoneType)\n",
      "did not match C++ signature:\n",
      "    MolToSmiles(class RDKit::ROMol mol, bool isomericSmiles=True, bool kekuleSmiles=False, int rootedAtAtom=-1, bool canonical=True, bool allBondsExplicit=False, bool allHsExplicit=False, bool doRandom=False)\n",
      "    MolToSmiles(class RDKit::ROMol mol, struct RDKit::SmilesWriteParams params)\n"
     ]
    },
    {
     "name": "stderr",
     "output_type": "stream",
     "text": [
      "[14:14:32] WARNING: Omitted undefined stereo\n",
      "\n",
      "[14:14:32] WARNING: Charges were rearranged\n",
      "\n",
      "[14:14:32] WARNING: Omitted undefined stereo\n",
      "\n",
      "[14:14:32] WARNING: Omitted undefined stereo\n",
      "\n",
      "[14:14:32] WARNING: Omitted undefined stereo\n",
      "\n",
      "[14:14:33] WARNING: Omitted undefined stereo\n",
      "\n",
      "[14:14:33] WARNING: Omitted undefined stereo\n",
      "\n",
      "[14:14:33] WARNING: Omitted undefined stereo\n",
      "\n",
      "[14:14:33] WARNING: Omitted undefined stereo\n",
      "\n"
     ]
    },
    {
     "name": "stdout",
     "output_type": "stream",
     "text": [
      "An sd_smiles error occurred: Python argument types in\n",
      "    rdkit.Chem.rdmolfiles.MolToSmiles(NoneType)\n",
      "did not match C++ signature:\n",
      "    MolToSmiles(class RDKit::ROMol mol, bool isomericSmiles=True, bool kekuleSmiles=False, int rootedAtAtom=-1, bool canonical=True, bool allBondsExplicit=False, bool allHsExplicit=False, bool doRandom=False)\n",
      "    MolToSmiles(class RDKit::ROMol mol, struct RDKit::SmilesWriteParams params)\n"
     ]
    },
    {
     "name": "stderr",
     "output_type": "stream",
     "text": [
      "[14:14:33] WARNING: Omitted undefined stereo\n",
      "\n",
      "[14:14:33] WARNING: Omitted undefined stereo\n",
      "\n",
      "[14:14:33] WARNING: Omitted undefined stereo\n",
      "\n",
      "[14:14:33] WARNING: Omitted undefined stereo\n",
      "\n",
      "[14:14:33] WARNING: Omitted undefined stereo\n",
      "\n",
      "[14:14:33] WARNING: Omitted undefined stereo\n",
      "\n",
      "[14:14:33] WARNING: Omitted undefined stereo\n",
      "\n"
     ]
    },
    {
     "name": "stdout",
     "output_type": "stream",
     "text": [
      "An sd_smiles error occurred: Python argument types in\n",
      "    rdkit.Chem.rdmolfiles.MolToSmiles(NoneType)\n",
      "did not match C++ signature:\n",
      "    MolToSmiles(class RDKit::ROMol mol, bool isomericSmiles=True, bool kekuleSmiles=False, int rootedAtAtom=-1, bool canonical=True, bool allBondsExplicit=False, bool allHsExplicit=False, bool doRandom=False)\n",
      "    MolToSmiles(class RDKit::ROMol mol, struct RDKit::SmilesWriteParams params)\n",
      "An sd_smiles error occurred: Python argument types in\n",
      "    rdkit.Chem.rdmolfiles.MolToSmiles(NoneType)\n",
      "did not match C++ signature:\n",
      "    MolToSmiles(class RDKit::ROMol mol, bool isomericSmiles=True, bool kekuleSmiles=False, int rootedAtAtom=-1, bool canonical=True, bool allBondsExplicit=False, bool allHsExplicit=False, bool doRandom=False)\n",
      "    MolToSmiles(class RDKit::ROMol mol, struct RDKit::SmilesWriteParams params)\n"
     ]
    },
    {
     "name": "stderr",
     "output_type": "stream",
     "text": [
      "[14:14:33] WARNING: Omitted undefined stereo\n",
      "\n",
      "[14:14:33] WARNING: Omitted undefined stereo\n",
      "\n",
      "[14:14:33] WARNING: Omitted undefined stereo\n",
      "\n",
      "[14:14:33] WARNING: Omitted undefined stereo\n",
      "\n",
      "[14:14:33] WARNING: Omitted undefined stereo\n",
      "\n"
     ]
    },
    {
     "name": "stdout",
     "output_type": "stream",
     "text": [
      "An sd_smiles error occurred: Python argument types in\n",
      "    rdkit.Chem.rdmolfiles.MolToSmiles(NoneType)\n",
      "did not match C++ signature:\n",
      "    MolToSmiles(class RDKit::ROMol mol, bool isomericSmiles=True, bool kekuleSmiles=False, int rootedAtAtom=-1, bool canonical=True, bool allBondsExplicit=False, bool allHsExplicit=False, bool doRandom=False)\n",
      "    MolToSmiles(class RDKit::ROMol mol, struct RDKit::SmilesWriteParams params)\n",
      "An sd_smiles error occurred: Python argument types in\n",
      "    rdkit.Chem.rdmolfiles.MolToSmiles(NoneType)\n",
      "did not match C++ signature:\n",
      "    MolToSmiles(class RDKit::ROMol mol, bool isomericSmiles=True, bool kekuleSmiles=False, int rootedAtAtom=-1, bool canonical=True, bool allBondsExplicit=False, bool allHsExplicit=False, bool doRandom=False)\n",
      "    MolToSmiles(class RDKit::ROMol mol, struct RDKit::SmilesWriteParams params)\n",
      "An sd_smiles error occurred: Python argument types in\n",
      "    rdkit.Chem.rdmolfiles.MolToSmiles(NoneType)\n",
      "did not match C++ signature:\n",
      "    MolToSmiles(class RDKit::ROMol mol, bool isomericSmiles=True, bool kekuleSmiles=False, int rootedAtAtom=-1, bool canonical=True, bool allBondsExplicit=False, bool allHsExplicit=False, bool doRandom=False)\n",
      "    MolToSmiles(class RDKit::ROMol mol, struct RDKit::SmilesWriteParams params)\n"
     ]
    },
    {
     "name": "stderr",
     "output_type": "stream",
     "text": [
      "[14:14:33] WARNING: Proton(s) added/removed\n",
      "\n",
      "[14:14:34] WARNING: Omitted undefined stereo\n",
      "\n",
      "[14:14:34] WARNING: Omitted undefined stereo\n",
      "\n"
     ]
    },
    {
     "name": "stdout",
     "output_type": "stream",
     "text": [
      "An sd_smiles error occurred: Python argument types in\n",
      "    rdkit.Chem.rdmolfiles.MolToSmiles(NoneType)\n",
      "did not match C++ signature:\n",
      "    MolToSmiles(class RDKit::ROMol mol, bool isomericSmiles=True, bool kekuleSmiles=False, int rootedAtAtom=-1, bool canonical=True, bool allBondsExplicit=False, bool allHsExplicit=False, bool doRandom=False)\n",
      "    MolToSmiles(class RDKit::ROMol mol, struct RDKit::SmilesWriteParams params)\n"
     ]
    },
    {
     "name": "stderr",
     "output_type": "stream",
     "text": [
      "[14:14:34] WARNING: Charges were rearranged\n",
      "\n",
      "[14:14:34] WARNING: Charges were rearranged\n",
      "\n",
      "[14:14:34] WARNING: Charges were rearranged\n",
      "\n",
      "[14:14:34] WARNING: Charges were rearranged; Omitted undefined stereo\n",
      "\n"
     ]
    },
    {
     "name": "stdout",
     "output_type": "stream",
     "text": [
      "An sd_smiles error occurred: Python argument types in\n",
      "    rdkit.Chem.rdmolfiles.MolToSmiles(NoneType)\n",
      "did not match C++ signature:\n",
      "    MolToSmiles(class RDKit::ROMol mol, bool isomericSmiles=True, bool kekuleSmiles=False, int rootedAtAtom=-1, bool canonical=True, bool allBondsExplicit=False, bool allHsExplicit=False, bool doRandom=False)\n",
      "    MolToSmiles(class RDKit::ROMol mol, struct RDKit::SmilesWriteParams params)\n"
     ]
    },
    {
     "name": "stderr",
     "output_type": "stream",
     "text": [
      "[14:14:34] WARNING: Omitted undefined stereo\n",
      "\n",
      "[14:14:35] WARNING: Omitted undefined stereo\n",
      "\n",
      "[14:14:35] WARNING: Omitted undefined stereo\n",
      "\n"
     ]
    },
    {
     "name": "stdout",
     "output_type": "stream",
     "text": [
      "An sd_smiles error occurred: Python argument types in\n",
      "    rdkit.Chem.rdmolfiles.MolToSmiles(NoneType)\n",
      "did not match C++ signature:\n",
      "    MolToSmiles(class RDKit::ROMol mol, bool isomericSmiles=True, bool kekuleSmiles=False, int rootedAtAtom=-1, bool canonical=True, bool allBondsExplicit=False, bool allHsExplicit=False, bool doRandom=False)\n",
      "    MolToSmiles(class RDKit::ROMol mol, struct RDKit::SmilesWriteParams params)\n",
      "An sd_smiles error occurred: Python argument types in\n",
      "    rdkit.Chem.rdmolfiles.MolToSmiles(NoneType)\n",
      "did not match C++ signature:\n",
      "    MolToSmiles(class RDKit::ROMol mol, bool isomericSmiles=True, bool kekuleSmiles=False, int rootedAtAtom=-1, bool canonical=True, bool allBondsExplicit=False, bool allHsExplicit=False, bool doRandom=False)\n",
      "    MolToSmiles(class RDKit::ROMol mol, struct RDKit::SmilesWriteParams params)\n",
      "An sd_smiles error occurred: Python argument types in\n",
      "    rdkit.Chem.rdmolfiles.MolToSmiles(NoneType)\n",
      "did not match C++ signature:\n",
      "    MolToSmiles(class RDKit::ROMol mol, bool isomericSmiles=True, bool kekuleSmiles=False, int rootedAtAtom=-1, bool canonical=True, bool allBondsExplicit=False, bool allHsExplicit=False, bool doRandom=False)\n",
      "    MolToSmiles(class RDKit::ROMol mol, struct RDKit::SmilesWriteParams params)\n"
     ]
    },
    {
     "name": "stderr",
     "output_type": "stream",
     "text": [
      "[14:14:35] WARNING: Omitted undefined stereo\n",
      "\n",
      "[14:14:35] WARNING: Omitted undefined stereo\n",
      "\n",
      "[14:14:35] WARNING: Omitted undefined stereo\n",
      "\n",
      "[14:14:35] WARNING: Omitted undefined stereo\n",
      "\n",
      "[14:14:35] WARNING: Omitted undefined stereo\n",
      "\n",
      "[14:14:35] WARNING: Omitted undefined stereo\n",
      "\n",
      "[14:14:35] WARNING: Omitted undefined stereo\n",
      "\n",
      "[14:14:35] WARNING: Omitted undefined stereo\n",
      "\n",
      "[14:14:35] WARNING: Omitted undefined stereo\n",
      "\n",
      "[14:14:35] WARNING: Omitted undefined stereo\n",
      "\n",
      "[14:14:35] WARNING: Omitted undefined stereo\n",
      "\n",
      "[14:14:36] WARNING: Omitted undefined stereo\n",
      "\n",
      "[14:14:36] WARNING: Omitted undefined stereo\n",
      "\n"
     ]
    },
    {
     "name": "stdout",
     "output_type": "stream",
     "text": [
      "An sd_smiles error occurred: Python argument types in\n",
      "    rdkit.Chem.rdmolfiles.MolToSmiles(NoneType)\n",
      "did not match C++ signature:\n",
      "    MolToSmiles(class RDKit::ROMol mol, bool isomericSmiles=True, bool kekuleSmiles=False, int rootedAtAtom=-1, bool canonical=True, bool allBondsExplicit=False, bool allHsExplicit=False, bool doRandom=False)\n",
      "    MolToSmiles(class RDKit::ROMol mol, struct RDKit::SmilesWriteParams params)\n",
      "An sd_smiles error occurred: Python argument types in\n",
      "    rdkit.Chem.rdmolfiles.MolToSmiles(NoneType)\n",
      "did not match C++ signature:\n",
      "    MolToSmiles(class RDKit::ROMol mol, bool isomericSmiles=True, bool kekuleSmiles=False, int rootedAtAtom=-1, bool canonical=True, bool allBondsExplicit=False, bool allHsExplicit=False, bool doRandom=False)\n",
      "    MolToSmiles(class RDKit::ROMol mol, struct RDKit::SmilesWriteParams params)\n",
      "An sd_smiles error occurred: Python argument types in\n",
      "    rdkit.Chem.rdmolfiles.MolToSmiles(NoneType)\n",
      "did not match C++ signature:\n",
      "    MolToSmiles(class RDKit::ROMol mol, bool isomericSmiles=True, bool kekuleSmiles=False, int rootedAtAtom=-1, bool canonical=True, bool allBondsExplicit=False, bool allHsExplicit=False, bool doRandom=False)\n",
      "    MolToSmiles(class RDKit::ROMol mol, struct RDKit::SmilesWriteParams params)\n"
     ]
    },
    {
     "name": "stderr",
     "output_type": "stream",
     "text": [
      "[14:14:36] WARNING: Omitted undefined stereo\n",
      "\n",
      "[14:14:36] WARNING: Omitted undefined stereo\n",
      "\n",
      "[14:14:37] WARNING: Omitted undefined stereo\n",
      "\n",
      "[14:14:37] WARNING: Omitted undefined stereo\n",
      "\n",
      "[14:14:37] WARNING: Omitted undefined stereo\n",
      "\n",
      "[14:14:37] WARNING: Omitted undefined stereo\n",
      "\n",
      "[14:14:37] WARNING: Omitted undefined stereo\n",
      "\n",
      "[14:14:37] WARNING: Omitted undefined stereo\n",
      "\n",
      "[14:14:37] WARNING: Proton(s) added/removed\n",
      "\n",
      "[14:14:37] WARNING: Omitted undefined stereo\n",
      "\n",
      "[14:14:37] WARNING: Omitted undefined stereo\n",
      "\n"
     ]
    },
    {
     "name": "stdout",
     "output_type": "stream",
     "text": [
      "An sd_smiles error occurred: Python argument types in\n",
      "    rdkit.Chem.rdmolfiles.MolToSmiles(NoneType)\n",
      "did not match C++ signature:\n",
      "    MolToSmiles(class RDKit::ROMol mol, bool isomericSmiles=True, bool kekuleSmiles=False, int rootedAtAtom=-1, bool canonical=True, bool allBondsExplicit=False, bool allHsExplicit=False, bool doRandom=False)\n",
      "    MolToSmiles(class RDKit::ROMol mol, struct RDKit::SmilesWriteParams params)\n",
      "An sd_smiles error occurred: Python argument types in\n",
      "    rdkit.Chem.rdmolfiles.MolToSmiles(NoneType)\n",
      "did not match C++ signature:\n",
      "    MolToSmiles(class RDKit::ROMol mol, bool isomericSmiles=True, bool kekuleSmiles=False, int rootedAtAtom=-1, bool canonical=True, bool allBondsExplicit=False, bool allHsExplicit=False, bool doRandom=False)\n",
      "    MolToSmiles(class RDKit::ROMol mol, struct RDKit::SmilesWriteParams params)\n"
     ]
    },
    {
     "name": "stderr",
     "output_type": "stream",
     "text": [
      "[14:14:38] WARNING: Omitted undefined stereo\n",
      "\n",
      "[14:14:38] WARNING: Proton(s) added/removed; Omitted undefined stereo\n",
      "\n",
      "[14:14:38] WARNING: Omitted undefined stereo\n",
      "\n",
      "[14:14:38] WARNING: Charges were rearranged; Omitted undefined stereo\n",
      "\n",
      "[14:14:38] WARNING: Omitted undefined stereo\n",
      "\n",
      "[14:14:38] WARNING: Omitted undefined stereo\n",
      "\n",
      "[14:14:38] WARNING: Omitted undefined stereo\n",
      "\n",
      "[14:14:38] WARNING: Omitted undefined stereo\n",
      "\n",
      "[14:14:38] WARNING: Omitted undefined stereo\n",
      "\n",
      "[14:14:38] WARNING: Omitted undefined stereo\n",
      "\n",
      "[14:14:38] WARNING: Omitted undefined stereo\n",
      "\n",
      "[14:14:39] WARNING: Omitted undefined stereo\n",
      "\n",
      "[14:14:39] WARNING: Omitted undefined stereo\n",
      "\n"
     ]
    },
    {
     "name": "stdout",
     "output_type": "stream",
     "text": [
      "An sd_smiles error occurred: Python argument types in\n",
      "    rdkit.Chem.rdmolfiles.MolToSmiles(NoneType)\n",
      "did not match C++ signature:\n",
      "    MolToSmiles(class RDKit::ROMol mol, bool isomericSmiles=True, bool kekuleSmiles=False, int rootedAtAtom=-1, bool canonical=True, bool allBondsExplicit=False, bool allHsExplicit=False, bool doRandom=False)\n",
      "    MolToSmiles(class RDKit::ROMol mol, struct RDKit::SmilesWriteParams params)\n",
      "An sd_smiles error occurred: Python argument types in\n",
      "    rdkit.Chem.rdmolfiles.MolToSmiles(NoneType)\n",
      "did not match C++ signature:\n",
      "    MolToSmiles(class RDKit::ROMol mol, bool isomericSmiles=True, bool kekuleSmiles=False, int rootedAtAtom=-1, bool canonical=True, bool allBondsExplicit=False, bool allHsExplicit=False, bool doRandom=False)\n",
      "    MolToSmiles(class RDKit::ROMol mol, struct RDKit::SmilesWriteParams params)\n",
      "An sd_smiles error occurred: Python argument types in\n",
      "    rdkit.Chem.rdmolfiles.MolToSmiles(NoneType)\n",
      "did not match C++ signature:\n",
      "    MolToSmiles(class RDKit::ROMol mol, bool isomericSmiles=True, bool kekuleSmiles=False, int rootedAtAtom=-1, bool canonical=True, bool allBondsExplicit=False, bool allHsExplicit=False, bool doRandom=False)\n",
      "    MolToSmiles(class RDKit::ROMol mol, struct RDKit::SmilesWriteParams params)\n"
     ]
    },
    {
     "name": "stderr",
     "output_type": "stream",
     "text": [
      "[14:14:39] WARNING: Omitted undefined stereo\n",
      "\n",
      "[14:14:39] WARNING: Omitted undefined stereo\n",
      "\n",
      "[14:14:39] WARNING: Omitted undefined stereo\n",
      "\n",
      "[14:14:39] WARNING: Charges were rearranged; Omitted undefined stereo\n",
      "\n",
      "[14:14:39] WARNING: Omitted undefined stereo\n",
      "\n",
      "[14:14:39] WARNING: Charges were rearranged\n",
      "\n",
      "[14:14:39] WARNING: Omitted undefined stereo\n",
      "\n",
      "[14:14:39] WARNING: Omitted undefined stereo\n",
      "\n",
      "[14:14:39] WARNING: Omitted undefined stereo\n",
      "\n"
     ]
    },
    {
     "name": "stdout",
     "output_type": "stream",
     "text": [
      "An sd_smiles error occurred: Python argument types in\n",
      "    rdkit.Chem.rdmolfiles.MolToSmiles(NoneType)\n",
      "did not match C++ signature:\n",
      "    MolToSmiles(class RDKit::ROMol mol, bool isomericSmiles=True, bool kekuleSmiles=False, int rootedAtAtom=-1, bool canonical=True, bool allBondsExplicit=False, bool allHsExplicit=False, bool doRandom=False)\n",
      "    MolToSmiles(class RDKit::ROMol mol, struct RDKit::SmilesWriteParams params)\n"
     ]
    },
    {
     "name": "stderr",
     "output_type": "stream",
     "text": [
      "[14:14:39] WARNING: Omitted undefined stereo\n",
      "\n",
      "[14:14:40] WARNING: Omitted undefined stereo\n",
      "\n",
      "[14:14:40] WARNING: Omitted undefined stereo\n",
      "\n",
      "[14:14:40] WARNING: Omitted undefined stereo\n",
      "\n",
      "[14:14:40] WARNING: Omitted undefined stereo\n",
      "\n"
     ]
    },
    {
     "name": "stdout",
     "output_type": "stream",
     "text": [
      "df length after standardization: 436\n",
      "DB length: 436,        SMILES nan: 29,        inchi key nan: 29\n",
      "-----remove missing inchikey----\n",
      "updated length: 407\n"
     ]
    },
    {
     "name": "stderr",
     "output_type": "stream",
     "text": [
      "[14:14:40] WARNING: Omitted undefined stereo\n",
      "\n",
      "[14:14:40] WARNING: Omitted undefined stereo\n",
      "\n",
      "C:\\Users\\Lily\\AppData\\Local\\Temp\\ipykernel_5704\\2591752290.py:5: SettingWithCopyWarning: \n",
      "A value is trying to be set on a copy of a slice from a DataFrame.\n",
      "Try using .loc[row_indexer,col_indexer] = value instead\n",
      "\n",
      "See the caveats in the documentation: https://pandas.pydata.org/pandas-docs/stable/user_guide/indexing.html#returning-a-view-versus-a-copy\n",
      "  df['inchi_connectivity'] = df['papyrus_inchi_key'].apply(inchi_first_part)\n"
     ]
    }
   ],
   "source": [
    "df = kpuu\n",
    "\n",
    "df = remove_nan_smiles(df)\n",
    "\n",
    "df_sd = standardize_workflow(df)\n",
    "df_sd.to_csv('kpuu_standardized_val.csv')\n",
    "\n",
    "df_valid = missing_inchi(df_sd)\n",
    "df_valid.to_csv('kpuu_have_inchi_key_val.csv')\n",
    "\n",
    "df_connectivity_inchi = create_connectivity_inchi(df_valid)\n",
    "df_connectivity_inchi.to_csv('kpuu_connectivity_inchi_val.csv')\n",
    "\n"
   ]
  },
  {
   "cell_type": "code",
   "execution_count": 12,
   "metadata": {},
   "outputs": [
    {
     "name": "stdout",
     "output_type": "stream",
     "text": [
      "length: 407\n",
      "unique_inchi: 311\n",
      "Contradicting duplicates: 41\n",
      "Original dataframe after contradicting duplicates removed: 297\n",
      "Original dataframe unique_inchi after removal: 270\n",
      "Original dataframe after non-contradicting duplicates removed: 270\n"
     ]
    }
   ],
   "source": [
    "df_no_duplicates, df_contra_duplicates = remove_duplicates(df_connectivity_inchi)\n",
    "df_no_duplicates.to_csv('kpuu_no_duplicates_val.csv')\n",
    "df_contra_duplicates.to_csv('kpuu_contradicting_duplicates.csv')"
   ]
  },
  {
   "cell_type": "markdown",
   "metadata": {},
   "source": [
    "Further curate contradicting\n"
   ]
  },
  {
   "cell_type": "code",
   "execution_count": 13,
   "metadata": {},
   "outputs": [
    {
     "name": "stdout",
     "output_type": "stream",
     "text": [
      "length: 436\n",
      "Dupicates with same species: 39\n",
      "Length after inchi-key AND species duplicates are removed: 101\n"
     ]
    }
   ],
   "source": [
    "#Further curate contradicting\n",
    "\n",
    "\n",
    "print(f'length: {len(df)}')\n",
    "\n",
    "unique_counts = df_contra_duplicates.groupby('inchi_connectivity')['species'].nunique()\n",
    "same_species = unique_counts[unique_counts >  1].index\n",
    "\n",
    "print(f'Dupicates with same species: {len(same_species)}')\n",
    "\n",
    "\n",
    "# Create a mask to identify the first entries of duplicates with the same species\n",
    "df_unique = df_contra_duplicates.drop_duplicates(subset=['inchi_connectivity', 'species'], keep='first').reset_index(drop=True)\n",
    "\n",
    "print(f'Length after inchi-key AND species duplicates are removed: {len(df_unique)}')\n",
    "\n"
   ]
  },
  {
   "cell_type": "code",
   "execution_count": 14,
   "metadata": {},
   "outputs": [],
   "source": [
    "df_unique.to_csv('kpuu_contradicting_duplicates_once.csv')"
   ]
  },
  {
   "cell_type": "markdown",
   "metadata": {},
   "source": [
    "Remove training molecules"
   ]
  },
  {
   "cell_type": "code",
   "execution_count": 15,
   "metadata": {},
   "outputs": [],
   "source": [
    "influx = pd.read_csv('../../../3_Combined/31_Combined_datasets/1_data_curation/influx/combined_influx_train_raw.csv')\n",
    "efflux = pd.read_csv('../../../3_Combined/31_Combined_datasets/1_data_curation/efflux/combined_efflux_train_raw.csv')\n",
    "pampa = pd.read_csv('../../../3_Combined/31_Combined_datasets/1_data_curation/pampa/combined_pampa_train_raw.csv')\n",
    "bbb = pd.read_csv('../../../3_Combined/31_Combined_datasets/1_data_curation/bbb/combined_bbb_train_raw.csv')"
   ]
  },
  {
   "cell_type": "code",
   "execution_count": 16,
   "metadata": {},
   "outputs": [
    {
     "name": "stdout",
     "output_type": "stream",
     "text": [
      "Common molecules 28\n",
      "After removed: 242\n"
     ]
    }
   ],
   "source": [
    "mask = df_no_duplicates['inchi_connectivity'].isin(influx['inchi_connectivity'])\n",
    "common_values_list = df_no_duplicates[mask]['inchi_connectivity'].tolist()\n",
    "print(f'Common molecules {len(common_values_list)}')\n",
    "kpuu_val = df_no_duplicates[~mask]\n",
    "kpuu_val = kpuu_val.reset_index(drop=True)\n",
    "print(f'After removed: {len(kpuu_val)}')"
   ]
  },
  {
   "cell_type": "code",
   "execution_count": 17,
   "metadata": {},
   "outputs": [
    {
     "data": {
      "text/html": [
       "<div>\n",
       "<style scoped>\n",
       "    .dataframe tbody tr th:only-of-type {\n",
       "        vertical-align: middle;\n",
       "    }\n",
       "\n",
       "    .dataframe tbody tr th {\n",
       "        vertical-align: top;\n",
       "    }\n",
       "\n",
       "    .dataframe thead th {\n",
       "        text-align: right;\n",
       "    }\n",
       "</style>\n",
       "<table border=\"1\" class=\"dataframe\">\n",
       "  <thead>\n",
       "    <tr style=\"text-align: right;\">\n",
       "      <th></th>\n",
       "      <th>SMILES_raw</th>\n",
       "      <th>status_activity</th>\n",
       "      <th>species</th>\n",
       "      <th>papyrus_SMILES</th>\n",
       "      <th>papyrus_inchi_key</th>\n",
       "      <th>inchi_connectivity</th>\n",
       "    </tr>\n",
       "  </thead>\n",
       "  <tbody>\n",
       "    <tr>\n",
       "      <th>0</th>\n",
       "      <td>CCN1N=C(C2=C1C(=O)N(C=C2)C1CCN(C)CC1)C1=CC(OC(...</td>\n",
       "      <td>active</td>\n",
       "      <td>mouse</td>\n",
       "      <td>CCn1nc(-c2cnc(N)c(OC(F)(F)F)c2)c2ccn(C3CCN(C)C...</td>\n",
       "      <td>NZCZMTGWHGOXJY-UHFFFAOYSA-N</td>\n",
       "      <td>NZCZMTGWHGOXJY</td>\n",
       "    </tr>\n",
       "    <tr>\n",
       "      <th>1</th>\n",
       "      <td>CCN1N=C(C2=C1C(=O)N(C=C2)C1CCN(CC1)C1COC1)C1=C...</td>\n",
       "      <td>?</td>\n",
       "      <td>mouse</td>\n",
       "      <td>CCn1nc(-c2cnc(N)c(OC(F)(F)F)c2)c2ccn(C3CCN(C4C...</td>\n",
       "      <td>ILMJTNRZTPMOFU-UHFFFAOYSA-N</td>\n",
       "      <td>ILMJTNRZTPMOFU</td>\n",
       "    </tr>\n",
       "    <tr>\n",
       "      <th>2</th>\n",
       "      <td>CCN1N=C(C2=C1C(=O)N(C=C2)C1CCOCC1)C1=CC(OC(F)(...</td>\n",
       "      <td>active</td>\n",
       "      <td>mouse</td>\n",
       "      <td>CCn1nc(-c2cnc(N)c(OC(F)(F)F)c2)c2ccn(C3CCOCC3)...</td>\n",
       "      <td>HSHPTVFAMKYPCX-UHFFFAOYSA-N</td>\n",
       "      <td>HSHPTVFAMKYPCX</td>\n",
       "    </tr>\n",
       "    <tr>\n",
       "      <th>3</th>\n",
       "      <td>CCN1N=C(C2=C1C(=O)N(C=C2)[C@@H]1CCOC[C@@H]1OC1...</td>\n",
       "      <td>?</td>\n",
       "      <td>mouse</td>\n",
       "      <td>CCn1nc(-c2cnc(N)c(OC(F)(F)F)c2)c2ccn([C@@H]3CC...</td>\n",
       "      <td>DLVDYHZYZUUGRK-WBVHZDCISA-N</td>\n",
       "      <td>DLVDYHZYZUUGRK</td>\n",
       "    </tr>\n",
       "    <tr>\n",
       "      <th>4</th>\n",
       "      <td>CCO[C@H]1COCC[C@H]1N1C=CC2=C(N(CC)N=C2C2=CC(OC...</td>\n",
       "      <td>?</td>\n",
       "      <td>mouse</td>\n",
       "      <td>CCO[C@H]1COCC[C@H]1n1ccc2c(-c3cnc(N)c(OC(F)(F)...</td>\n",
       "      <td>AOVQXUIMTPPLED-ZBFHGGJFSA-N</td>\n",
       "      <td>AOVQXUIMTPPLED</td>\n",
       "    </tr>\n",
       "  </tbody>\n",
       "</table>\n",
       "</div>"
      ],
      "text/plain": [
       "                                          SMILES_raw status_activity species  \\\n",
       "0  CCN1N=C(C2=C1C(=O)N(C=C2)C1CCN(C)CC1)C1=CC(OC(...          active   mouse   \n",
       "1  CCN1N=C(C2=C1C(=O)N(C=C2)C1CCN(CC1)C1COC1)C1=C...               ?   mouse   \n",
       "2  CCN1N=C(C2=C1C(=O)N(C=C2)C1CCOCC1)C1=CC(OC(F)(...          active   mouse   \n",
       "3  CCN1N=C(C2=C1C(=O)N(C=C2)[C@@H]1CCOC[C@@H]1OC1...               ?   mouse   \n",
       "4  CCO[C@H]1COCC[C@H]1N1C=CC2=C(N(CC)N=C2C2=CC(OC...               ?   mouse   \n",
       "\n",
       "                                      papyrus_SMILES  \\\n",
       "0  CCn1nc(-c2cnc(N)c(OC(F)(F)F)c2)c2ccn(C3CCN(C)C...   \n",
       "1  CCn1nc(-c2cnc(N)c(OC(F)(F)F)c2)c2ccn(C3CCN(C4C...   \n",
       "2  CCn1nc(-c2cnc(N)c(OC(F)(F)F)c2)c2ccn(C3CCOCC3)...   \n",
       "3  CCn1nc(-c2cnc(N)c(OC(F)(F)F)c2)c2ccn([C@@H]3CC...   \n",
       "4  CCO[C@H]1COCC[C@H]1n1ccc2c(-c3cnc(N)c(OC(F)(F)...   \n",
       "\n",
       "             papyrus_inchi_key inchi_connectivity  \n",
       "0  NZCZMTGWHGOXJY-UHFFFAOYSA-N     NZCZMTGWHGOXJY  \n",
       "1  ILMJTNRZTPMOFU-UHFFFAOYSA-N     ILMJTNRZTPMOFU  \n",
       "2  HSHPTVFAMKYPCX-UHFFFAOYSA-N     HSHPTVFAMKYPCX  \n",
       "3  DLVDYHZYZUUGRK-WBVHZDCISA-N     DLVDYHZYZUUGRK  \n",
       "4  AOVQXUIMTPPLED-ZBFHGGJFSA-N     AOVQXUIMTPPLED  "
      ]
     },
     "execution_count": 17,
     "metadata": {},
     "output_type": "execute_result"
    }
   ],
   "source": [
    "kpuu_val.head()"
   ]
  },
  {
   "cell_type": "code",
   "execution_count": 18,
   "metadata": {},
   "outputs": [
    {
     "name": "stdout",
     "output_type": "stream",
     "text": [
      "Common molecules 59\n",
      "After removed: 183\n"
     ]
    }
   ],
   "source": [
    "mask = kpuu_val['inchi_connectivity'].isin(efflux['inchi_connectivity'])\n",
    "common_values_list = kpuu_val[mask]['inchi_connectivity'].tolist()\n",
    "print(f'Common molecules {len(common_values_list)}')\n",
    "kpuu_val = kpuu_val[~mask]\n",
    "kpuu_val = kpuu_val.reset_index(drop=True)\n",
    "print(f'After removed: {len(kpuu_val)}')"
   ]
  },
  {
   "cell_type": "code",
   "execution_count": 19,
   "metadata": {},
   "outputs": [
    {
     "name": "stdout",
     "output_type": "stream",
     "text": [
      "Common molecules 4\n",
      "After removed: 179\n"
     ]
    }
   ],
   "source": [
    "mask = kpuu_val['inchi_connectivity'].isin(pampa['inchi_connectivity'])\n",
    "common_values_list = kpuu_val[mask]['inchi_connectivity'].tolist()\n",
    "print(f'Common molecules {len(common_values_list)}')\n",
    "kpuu_val = kpuu_val[~mask]\n",
    "kpuu_val = kpuu_val.reset_index(drop=True)\n",
    "print(f'After removed: {len(kpuu_val)}')"
   ]
  },
  {
   "cell_type": "code",
   "execution_count": 20,
   "metadata": {},
   "outputs": [
    {
     "name": "stdout",
     "output_type": "stream",
     "text": [
      "Common molecules 42\n",
      "After removed: 137\n"
     ]
    }
   ],
   "source": [
    "mask = kpuu_val['inchi_connectivity'].isin(bbb['inchi_connectivity'])\n",
    "common_values_list = kpuu_val[mask]['inchi_connectivity'].tolist()\n",
    "print(f'Common molecules {len(common_values_list)}')\n",
    "kpuu_val = kpuu_val[~mask]\n",
    "kpuuval = kpuu_val.reset_index(drop=True)\n",
    "print(f'After removed: {len(kpuu_val)}')"
   ]
  },
  {
   "cell_type": "code",
   "execution_count": 22,
   "metadata": {},
   "outputs": [],
   "source": [
    "kpuu_val.to_csv('kpuu_validation_not_everything_classified.csv')"
   ]
  },
  {
   "cell_type": "markdown",
   "metadata": {},
   "source": [
    "Keep only classified"
   ]
  },
  {
   "cell_type": "code",
   "execution_count": 23,
   "metadata": {},
   "outputs": [
    {
     "data": {
      "text/plain": [
       "114"
      ]
     },
     "execution_count": 23,
     "metadata": {},
     "output_type": "execute_result"
    }
   ],
   "source": [
    "kpuu_val_classified = kpuu_val[kpuu_val['status_activity'].isin(['active', 'inactive'])]\n",
    "len(kpuu_val_classified)"
   ]
  },
  {
   "cell_type": "code",
   "execution_count": 24,
   "metadata": {},
   "outputs": [],
   "source": [
    "kpuu_val_classified.to_csv('kpuu_validation.csv', index=True)"
   ]
  },
  {
   "cell_type": "code",
   "execution_count": null,
   "metadata": {},
   "outputs": [],
   "source": []
  }
 ],
 "metadata": {
  "kernelspec": {
   "display_name": "lily",
   "language": "python",
   "name": "python3"
  },
  "language_info": {
   "codemirror_mode": {
    "name": "ipython",
    "version": 3
   },
   "file_extension": ".py",
   "mimetype": "text/x-python",
   "name": "python",
   "nbconvert_exporter": "python",
   "pygments_lexer": "ipython3",
   "version": "3.9.0"
  }
 },
 "nbformat": 4,
 "nbformat_minor": 2
}
