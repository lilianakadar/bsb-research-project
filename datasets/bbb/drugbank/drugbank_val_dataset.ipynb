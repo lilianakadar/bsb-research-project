{
 "cells": [
  {
   "cell_type": "code",
   "execution_count": null,
   "metadata": {},
   "outputs": [],
   "source": [
    "import pandas as pd\n",
    "import matplotlib.pyplot as plt\n",
    "import numpy as np\n",
    "import seaborn as sns\n",
    "from rdkit import Chem\n",
    "from rdkit.Chem import inchi\n",
    "from tqdm import tqdm\n",
    "from time import sleep\n",
    "from tqdm.notebook import tqdm\n",
    "\n",
    "from chembl_structure_pipeline import standardizer as ChEMBL_standardizer\n",
    "from papyrus_structure_pipeline import standardize"
   ]
  },
  {
   "cell_type": "markdown",
   "metadata": {},
   "source": [
    "READ ME\n",
    "\n",
    "This file is used to create the CNS database to validate the combined subMD, and subFP using models.\n",
    "\n"
   ]
  },
  {
   "cell_type": "code",
   "execution_count": null,
   "metadata": {},
   "outputs": [],
   "source": [
    "#Load the raw drunkbank data\n",
    "cns_raw =  pd.read_csv('DrugBank_parsed.tsv', delimiter= '\\t')"
   ]
  },
  {
   "cell_type": "code",
   "execution_count": null,
   "metadata": {},
   "outputs": [],
   "source": [
    "#Remove if no smiles is available\n",
    "\n",
    "cns_smiles = cns_raw[((cns_raw['smiles'].notna()))]\n",
    "cns_smiles = cns_smiles.reset_index(drop=True)\n",
    "print(f'Length with SMILES: {len(cns_smiles)}')\n"
   ]
  },
  {
   "cell_type": "code",
   "execution_count": null,
   "metadata": {},
   "outputs": [],
   "source": [
    "#Remove rows where categories is missing\n",
    "cns_cat = cns_smiles[((cns_smiles['categories'].notna()))]\n",
    "cns_cat = cns_cat.reset_index(drop=True)\n",
    "print(f'Length without missing categories: {len(cns_cat)}')"
   ]
  },
  {
   "cell_type": "code",
   "execution_count": null,
   "metadata": {},
   "outputs": [],
   "source": [
    "#Find CNS targeting drugs: create new column 'target'\n",
    "keywords = ['CNS', 'Central Nervous System']\n",
    "cns_cat['status_cns'] = cns_cat['categories'].apply(lambda x: 'CNS' if any(keyword.lower() in str(x).lower() for keyword in keywords) else 'Non-CNS')"
   ]
  },
  {
   "cell_type": "code",
   "execution_count": null,
   "metadata": {},
   "outputs": [],
   "source": [
    "#Keep the relevant column\n",
    "\n",
    "cns = cns_cat[['smiles','status_cns']]\n",
    "print(len(cns))\n",
    "cns.head()\n",
    "\n",
    "cns = cns.rename(columns={'smiles': 'SMILES_raw'})\n"
   ]
  },
  {
   "cell_type": "code",
   "execution_count": null,
   "metadata": {},
   "outputs": [],
   "source": [
    "#Papyrus Standardization\n",
    "\n",
    "def create_sd_smiles(sd_mol):\n",
    "    try:\n",
    "        standardized_smiles =  Chem.MolToSmiles(sd_mol)\n",
    "        return standardized_smiles\n",
    "    except Exception as e:\n",
    "        print(f\"An sd_smiles error occurred: {str(e)}\")\n",
    "        return None\n",
    "    \n",
    "#Create InChI keys from standardized molecules\n",
    "def mol_to_inchi_key(sd_mol):\n",
    "    if sd_mol is not None:\n",
    "\n",
    "        inchi_str = inchi.MolToInchi(sd_mol)\n",
    "        inchi_key = inchi.InchiToInchiKey(inchi_str)\n",
    "    else:\n",
    "        inchi_key = None   \n",
    "    return inchi_key\n",
    "\n",
    "def standardize_molecule(mol):\n",
    "    standardized_mol =  standardize(mol,raise_error=False )\n",
    "    return standardized_mol\n",
    "\n",
    "#Standardize \n",
    "\n",
    "def standardize_workflow(df_raw):\n",
    "    for i in range(0,len(df_raw)):\n",
    "        smiles =df_raw.at[i,'SMILES_raw']\n",
    "        mol = Chem.MolFromSmiles(smiles)\n",
    "        sd_mol =  standardize_molecule(mol)\n",
    "        sd_smiles = create_sd_smiles(sd_mol)\n",
    "        sd_inchi_key = mol_to_inchi_key(sd_mol)\n",
    "        df_raw.at[i,'papyrus_SMILES'] = sd_smiles\n",
    "        df_raw.at[i,'papyrus_inchi_key'] = sd_inchi_key\n",
    "\n",
    "    print(f'df length after standardization: {len(df_raw)}')\n",
    "\n",
    "    return df_raw"
   ]
  },
  {
   "cell_type": "code",
   "execution_count": null,
   "metadata": {},
   "outputs": [],
   "source": [
    "#Check for missing inchi key\n",
    "\n",
    "def missing_inchi(df_raw):\n",
    "    smiles_nan = df_raw['papyrus_SMILES'].isna().sum()\n",
    "    inchikey_nan =df_raw['papyrus_inchi_key'].isna().sum()\n",
    "    print(f'DB length: {len(df_raw)},        SMILES nan: {smiles_nan},        inchi key nan: {inchikey_nan}')\n",
    "\n",
    "    #Remove rows with missing inchikey\n",
    "    df_valid_inchi= df_raw[((df_raw['papyrus_inchi_key'].notna()))]\n",
    "    print('-----remove missing inchikey----')\n",
    "    print(f'updated length: {len(df_valid_inchi)}')\n",
    "\n",
    "    return df_valid_inchi"
   ]
  },
  {
   "cell_type": "code",
   "execution_count": null,
   "metadata": {},
   "outputs": [],
   "source": [
    "#Create connecitivty inchi \n",
    "\n",
    "def inchi_first_part(inchi):\n",
    "    return inchi.split('-')[0]\n",
    "\n",
    "def create_connectivity_inchi(df):\n",
    "    df['inchi_connectivity'] = df['papyrus_inchi_key'].apply(inchi_first_part)\n",
    "    \n",
    "    return df"
   ]
  },
  {
   "cell_type": "code",
   "execution_count": null,
   "metadata": {},
   "outputs": [],
   "source": [
    "#Check for duplicates\n",
    "\n",
    "def remove_duplicates(df):\n",
    "    print(f'length: {len(df)}')\n",
    "    inchi_un = df['inchi_connectivity'].nunique()\n",
    "    print(f'unique_inchi: {inchi_un}')\n",
    "\n",
    "\n",
    "    unique_counts = df.groupby('inchi_connectivity')['status_cns'].nunique()\n",
    "    duplicates_diff_class = unique_counts[unique_counts > 1].index\n",
    "\n",
    "    print(f'Contradicting duplicates: {len(duplicates_diff_class)}')\n",
    "\n",
    "    #Remove duplicates\n",
    "    df = df[~(df['inchi_connectivity'].isin(duplicates_diff_class))]\n",
    "    print(len(df))\n",
    "    print(df['inchi_connectivity'].nunique())\n",
    "\n",
    "    df=df.drop_duplicates(subset=['inchi_connectivity'], keep=\"first\").reset_index(drop=True)\n",
    "    #df['inchi_stereo'].values_counts\n",
    "\n",
    "    return df"
   ]
  },
  {
   "cell_type": "code",
   "execution_count": null,
   "metadata": {},
   "outputs": [],
   "source": [
    "#Run all the functions\n",
    "\n",
    "df_sd = standardize_workflow(cns)\n",
    "df_valid = missing_inchi(df_sd)\n",
    "df_connectivity_inchi = create_connectivity_inchi(df_valid)\n",
    "df_no_duplicates = remove_duplicates(df_connectivity_inchi)\n"
   ]
  },
  {
   "cell_type": "code",
   "execution_count": null,
   "metadata": {},
   "outputs": [],
   "source": [
    "df_no_duplicates.head()"
   ]
  },
  {
   "cell_type": "markdown",
   "metadata": {},
   "source": [
    "Remove training molecules"
   ]
  },
  {
   "cell_type": "code",
   "execution_count": null,
   "metadata": {},
   "outputs": [],
   "source": [
    "#Load training datasets\n",
    "\n",
    "influx = pd.read_csv('../../../3_Combined/31_Combined_datasets/1_data_curation/influx/combined_influx_train_raw.csv')\n",
    "efflux = pd.read_csv('../../../3_Combined/31_Combined_datasets/1_data_curation/efflux/combined_efflux_train_raw.csv')\n",
    "pampa = pd.read_csv('../../../3_Combined/31_Combined_datasets/1_data_curation/pampa/combined_pampa_train_raw.csv')\n",
    "bbb = pd.read_csv('../../../3_Combined/31_Combined_datasets/1_data_curation/bbb/combined_bbb_train_raw.csv')"
   ]
  },
  {
   "cell_type": "code",
   "execution_count": null,
   "metadata": {},
   "outputs": [],
   "source": [
    "#Create mask for removing traning compounds: influx\n",
    "\n",
    "mask = df_no_duplicates['inchi_connectivity'].isin(influx['inchi_connectivity'])\n",
    "common_values_list = df_no_duplicates[mask]['inchi_connectivity'].tolist()\n",
    "print(f'Common molecules {len(common_values_list)}')\n",
    "cns_val = df_no_duplicates[~mask]\n",
    "cns_val = cns_val.reset_index(drop=True)\n",
    "print(f'After removed: {len(cns_val)}')"
   ]
  },
  {
   "cell_type": "code",
   "execution_count": null,
   "metadata": {},
   "outputs": [],
   "source": [
    "#Create mask for removing traning compounds: efflux\n",
    "\n",
    "mask = cns_val['inchi_connectivity'].isin(efflux['inchi_connectivity'])\n",
    "common_values_list = cns_val[mask]['inchi_connectivity'].tolist()\n",
    "print(f'Common molecules {len(common_values_list)}')\n",
    "cns_val = cns_val[~mask]\n",
    "cns_val = cns_val.reset_index(drop=True)\n",
    "print(f'After removed: {len(cns_val)}')\n"
   ]
  },
  {
   "cell_type": "code",
   "execution_count": null,
   "metadata": {},
   "outputs": [],
   "source": [
    "#Create mask for removing traning compounds: pampa\n",
    "\n",
    "mask = cns_val['inchi_connectivity'].isin(pampa['inchi_connectivity'])\n",
    "common_values_list = cns_val[mask]['inchi_connectivity'].tolist()\n",
    "print(f'Common molecules {len(common_values_list)}')\n",
    "cns_val = cns_val[~mask]\n",
    "cns_val = cns_val.reset_index(drop=True)\n",
    "print(f'After removed: {len(cns_val)}')"
   ]
  },
  {
   "cell_type": "code",
   "execution_count": null,
   "metadata": {},
   "outputs": [],
   "source": [
    "#Create mask for removing traning compounds: bbb\n",
    "\n",
    "mask = cns_val['inchi_connectivity'].isin(bbb['inchi_connectivity'])\n",
    "common_values_list = cns_val[mask]['inchi_connectivity'].tolist()\n",
    "print(f'Common molecules {len(common_values_list)}')\n",
    "cns_val = cns_val[~mask]\n",
    "cns_val = cns_val.reset_index(drop=True)\n",
    "print(f'After removed: {len(cns_val)}')\n",
    "\n",
    "cns_val.to_csv('drugbank_validation.csv')"
   ]
  }
 ],
 "metadata": {
  "kernelspec": {
   "display_name": "lily",
   "language": "python",
   "name": "python3"
  },
  "language_info": {
   "codemirror_mode": {
    "name": "ipython",
    "version": 3
   },
   "file_extension": ".py",
   "mimetype": "text/x-python",
   "name": "python",
   "nbconvert_exporter": "python",
   "pygments_lexer": "ipython3",
   "version": "3.9.0"
  }
 },
 "nbformat": 4,
 "nbformat_minor": 2
}
