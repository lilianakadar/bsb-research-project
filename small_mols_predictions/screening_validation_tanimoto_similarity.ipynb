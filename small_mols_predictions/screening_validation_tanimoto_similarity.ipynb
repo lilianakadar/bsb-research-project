{
 "cells": [
  {
   "cell_type": "code",
   "execution_count": null,
   "metadata": {},
   "outputs": [],
   "source": [
    "import pycaret\n",
    "import pandas as pd\n",
    "import numpy as np\n",
    "import seaborn as sns\n",
    "import matplotlib.pyplot as plt\n",
    "\n",
    "from rdkit import Chem\n",
    "from rdkit.Chem import inchi\n",
    "\n",
    "from tqdm import tqdm\n",
    "from time import sleep\n",
    "from tqdm.notebook import tqdm\n",
    "\n",
    "import rdkit\n",
    "from rdkit import Chem\n",
    "from rdkit.Chem import AllChem\n",
    "\n",
    "from rdkit import DataStructs"
   ]
  },
  {
   "cell_type": "markdown",
   "metadata": {},
   "source": [
    "Tanimoto similarity\n",
    "\n",
    "Validate the 7 triple positive hits: are they similar to the known Mcl-1/Bcl-2 inhibitors?"
   ]
  },
  {
   "cell_type": "code",
   "execution_count": null,
   "metadata": {},
   "outputs": [],
   "source": [
    "#Load the Mcl-1 and Bc-2 datasets\n",
    "mcl_raw = pd.read_csv('../data_preparation/inhibitors/mcl/mcl_molecules.csv', index_col=0) #865 compounds\n",
    "bcl_raw = pd.read_csv('../data_preparation/inhibitors/bcl/bcl_molecules.csv', index_col=0) #428 compounds\n",
    "\n",
    "#Filter for positive molecules: inhibitors\n",
    "mcl = mcl_raw[mcl_raw['Class'] == 'Inhibitor'] #298 compounds\n",
    "mcl = mcl.reset_index(drop=True)\n",
    "mcl = mcl.rename(columns={'SMILES': 'papyrus_SMILES'})\n",
    "\n",
    "bcl = bcl_raw[bcl_raw['Class'] == 'Inhibitor'] #125 compounds\n",
    "bcl = bcl.reset_index(drop=True)\n",
    "bcl = bcl.rename(columns={'SMILES': 'papyrus_SMILES'})"
   ]
  },
  {
   "cell_type": "code",
   "execution_count": null,
   "metadata": {},
   "outputs": [],
   "source": [
    "#Load the seven triple positive hits\n",
    "hits = pd.read_csv('triple_pos.csv')\n",
    "\n",
    "columns_to_keep = ['papyrus_SMILES', 'composite_score']\n",
    "hits = hits[columns_to_keep]"
   ]
  },
  {
   "cell_type": "code",
   "execution_count": null,
   "metadata": {},
   "outputs": [],
   "source": [
    "#Generate SMILES list\n",
    "def generate_smiles(df):\n",
    "    smiles_list = df['papyrus_SMILES'].tolist()\n",
    "\n",
    "    return smiles_list"
   ]
  },
  {
   "cell_type": "code",
   "execution_count": null,
   "metadata": {},
   "outputs": [],
   "source": [
    "#Generate molecules from SMILES\n",
    "\n",
    "def generate_mols(smiles_list):\n",
    "    mols = []\n",
    "    smiles_to_fix = []\n",
    "\n",
    "    for smiles in smiles_list:\n",
    "        try:\n",
    "            mol = Chem.MolFromSmiles(smiles)\n",
    "            mols.append(mol)\n",
    "\n",
    "        except Exception as e:\n",
    "            print(f\"Error with SMILES string {smiles}\")\n",
    "            continue \n",
    "\n",
    "\n",
    "    #check for None Mol objects\n",
    "    for i, mol in enumerate(mols):\n",
    "        if mol is None:\n",
    "            print(f\"Error with SMILES string at index {i}: {smiles_list[i]}\")\n",
    "            smiles_to_fix.append(i)\n",
    "            continue\n",
    "\n",
    "    return mols"
   ]
  },
  {
   "cell_type": "code",
   "execution_count": null,
   "metadata": {},
   "outputs": [],
   "source": [
    "#Add hydrogens to molecules\n",
    "\n",
    "def add_hydrogens(mols):\n",
    "\n",
    "    mols_H = []\n",
    "\n",
    "    for mol in mols:\n",
    "        mol_H = Chem.AddHs(mol)\n",
    "        mols_H.append(mol_H)\n",
    "\n",
    "    return mols_H"
   ]
  },
  {
   "cell_type": "code",
   "execution_count": null,
   "metadata": {},
   "outputs": [],
   "source": [
    "#Create Morgan Fingerprints\n",
    "def morgan_fp(mols_H):\n",
    "\n",
    "    fp = []\n",
    "\n",
    "    print(f'Calculating Morgan fingerprints...')\n",
    "\n",
    "    radius = 2 #define radius\n",
    "    nBits = 2048   #define number of bits\n",
    "\n",
    "    for mol in mols_H:\n",
    "        new_data = Chem.rdMolDescriptors.GetMorganFingerprintAsBitVect(mol, radius, nBits)\n",
    "        fp.append(new_data)\n",
    "\n",
    "    return fp"
   ]
  },
  {
   "cell_type": "code",
   "execution_count": null,
   "metadata": {},
   "outputs": [],
   "source": [
    "#Create Morgan FPs for known Mcl-1 inhibitors\n",
    "df = mcl\n",
    "\n",
    "smiles_list= generate_smiles(df)\n",
    "mols = generate_mols(smiles_list)\n",
    "mols_H = add_hydrogens(mols)\n",
    "\n",
    "mcl_morgan= morgan_fp(mols_H)\n",
    "\n"
   ]
  },
  {
   "cell_type": "code",
   "execution_count": null,
   "metadata": {},
   "outputs": [],
   "source": [
    "#Create Morgan FPs for known Bcl-2 inhibitors\n",
    "df = bcl\n",
    "\n",
    "smiles_list= generate_smiles(df)\n",
    "mols = generate_mols(smiles_list)\n",
    "mols_H = add_hydrogens(mols)\n",
    "\n",
    "bcl_morgan= morgan_fp(mols_H)\n",
    "\n"
   ]
  },
  {
   "cell_type": "code",
   "execution_count": null,
   "metadata": {},
   "outputs": [],
   "source": [
    "#Create Morgan FPs for triple positive hits\n",
    "df = hits\n",
    "\n",
    "smiles_list= generate_smiles(df)\n",
    "mols = generate_mols(smiles_list)\n",
    "mols_H = add_hydrogens(mols)\n",
    "\n",
    "hits_morgan= morgan_fp(mols_H)\n"
   ]
  },
  {
   "cell_type": "code",
   "execution_count": null,
   "metadata": {},
   "outputs": [],
   "source": [
    "#Generate similarity matrix: 7 triple hits compared to known Mcl-1 inhibitors\n",
    "\n",
    "mcl_similarity_matrix = []\n",
    "\n",
    "#Iterate through hits compounds\n",
    "for hit_fp in hits_morgan:\n",
    "    mcl_hit_similarities = []\n",
    "\n",
    "    #Iterate through Mcl-1 inhibitors\n",
    "    for mcl_fp in mcl_morgan:\n",
    "\n",
    "        #Calculate similarity\n",
    "        similarity = DataStructs.TanimotoSimilarity(hit_fp, mcl_fp)\n",
    "        mcl_hit_similarities.append(similarity)\n",
    "\n",
    "    mcl_similarity_matrix.append(mcl_hit_similarities)\n",
    "\n",
    "print(\"Mcl-1 Similarity matrix:\")\n",
    "for row in mcl_similarity_matrix:\n",
    "    print(row)"
   ]
  },
  {
   "cell_type": "code",
   "execution_count": null,
   "metadata": {},
   "outputs": [],
   "source": [
    "print('Mcl-1 average, maximum and min similarity:')\n",
    "\n",
    "for i, row in enumerate(mcl_similarity_matrix):\n",
    "    mcl_avg_similarity = sum(row) / len(row)  #Calculate average\n",
    "    mcl_max_similarity = max(row)     # Find max\n",
    "    mcl_min_similarity = min(row)     #Find min\n",
    "    \n",
    "    print(f\"Row {i + 1}: Average = {mcl_avg_similarity}, Maximum = {mcl_max_similarity}, Minimum = {mcl_min_similarity}\")"
   ]
  },
  {
   "cell_type": "code",
   "execution_count": null,
   "metadata": {},
   "outputs": [],
   "source": [
    "#Generate similarity matrix: 7 triple hits compared to known Bcl-2 inhibitors\n",
    "\n",
    "bcl_similarity_matrix = []\n",
    "\n",
    "#Iterate through hits compounds\n",
    "for hit_fp in hits_morgan:\n",
    "    bcl_hit_similarities = []\n",
    "    \n",
    "    #Iterate through known Bcl-2 inhibitors\n",
    "    for bcl_fp in bcl_morgan:\n",
    "\n",
    "        #Calculate similarity\n",
    "        similarity = DataStructs.TanimotoSimilarity(hit_fp, bcl_fp)\n",
    "        bcl_hit_similarities.append(similarity)\n",
    "\n",
    "    bcl_similarity_matrix.append(bcl_hit_similarities)\n",
    "\n",
    "print(\"Bcl-1 Similarity matrix:\")\n",
    "for row in bcl_similarity_matrix:\n",
    "    print(row)"
   ]
  },
  {
   "cell_type": "code",
   "execution_count": null,
   "metadata": {},
   "outputs": [],
   "source": [
    "print('Bcl-2 average, max and min similarity:')\n",
    "for i, row in enumerate(bcl_similarity_matrix):\n",
    "    bcl_avg_similarity = sum(row) / len(row)  #Calculate average\n",
    "    bcl_max_similarity = max(row)        #Find max\n",
    "    bcl_min_similarity = min(row)        #Find min\n",
    "    print(f\"Row {i + 1}: Average = {bcl_avg_similarity}, Maximum = {bcl_max_similarity}, Minimum = {bcl_min_similarity}\")"
   ]
  },
  {
   "cell_type": "markdown",
   "metadata": {},
   "source": [
    "Mcl-to-Mcl Similarity"
   ]
  },
  {
   "cell_type": "code",
   "execution_count": null,
   "metadata": {},
   "outputs": [],
   "source": [
    "#Generate similarity matrix: known Mcl-1 inhibitors compared to Mcl-1 inhibitors\n",
    "\n",
    "mcl_mcl_similarity_matrix = []\n",
    "\n",
    "for mcl1_fp in mcl_morgan:\n",
    "    mcl_mcl_similarities = []\n",
    "\n",
    "    for mcl2_fp in mcl_morgan:\n",
    "        similarity = DataStructs.TanimotoSimilarity(mcl1_fp, mcl2_fp)\n",
    "        mcl_mcl_similarities.append(similarity)\n",
    "\n",
    "    mcl_mcl_similarity_matrix.append(mcl_mcl_similarities)"
   ]
  },
  {
   "cell_type": "code",
   "execution_count": null,
   "metadata": {},
   "outputs": [],
   "source": [
    "# Initialize variables to count occurrences of \"1\" and store maximum value\n",
    "max_value_total = float('-inf')\n",
    "total_sum_total = 0\n",
    "count_non_ones_total = 0\n",
    "\n",
    "# Initialize variables to track min and max average values over rows\n",
    "min_average = float('inf')\n",
    "max_average = float('-inf')\n",
    "\n",
    "# Iterate through each row of the similarity matrix\n",
    "for row in mcl_mcl_similarity_matrix:\n",
    "\n",
    "    # Initialize variables for each row\n",
    "    max_value_row = float('-inf')\n",
    "    total_sum_row = 0\n",
    "    count_non_ones_row = 0\n",
    "    \n",
    "    # Iterate through each element in the row\n",
    "    for value in row:\n",
    "\n",
    "        # Check if the value is equal to 1\n",
    "        if value != 1:\n",
    "\n",
    "            # Add the non-\"1\" value to the total sum for the row\n",
    "            total_sum_row += value\n",
    "\n",
    "            # Increment the count of non-\"1\" values for the row\n",
    "            count_non_ones_row += 1\n",
    "\n",
    "    # Calculate the average for the row without 1s\n",
    "    average_row = total_sum_row / count_non_ones_row if count_non_ones_row > 0 else 0\n",
    "    \n",
    "    # Update min and max average values over rows\n",
    "    min_average = min(min_average, average_row)\n",
    "    max_average = max(max_average, average_row)\n",
    "\n",
    "# Print the min and max average values over rows\n",
    "print(f\"Mcl-Mcl Minimum Average over Rows: {min_average}\")\n",
    "print(f\"Mcl-Mcl Maximum Average over Rows: {max_average}\")"
   ]
  },
  {
   "cell_type": "markdown",
   "metadata": {},
   "source": [
    "Bcl-to-Bcl similarity"
   ]
  },
  {
   "cell_type": "code",
   "execution_count": null,
   "metadata": {},
   "outputs": [],
   "source": [
    "#Generate similarity matrix: known Bcl-2 inhibitors compared to Bcl-2 inhibitors\n",
    "\n",
    "bcl_bcl_similarity_matrix = []\n",
    "\n",
    "#Iterate throguh inhibitors \n",
    "for bcl1_fp in bcl_morgan:\n",
    "    bcl_bcl_similarities = []\n",
    "\n",
    "    #Iterate through inhibitors\n",
    "    for bcl2_fp in bcl_morgan:\n",
    "\n",
    "        #Calculate similarity\n",
    "        similarity = DataStructs.TanimotoSimilarity(bcl1_fp, bcl2_fp)\n",
    "        bcl_bcl_similarities.append(similarity)\n",
    "\n",
    "    bcl_bcl_similarity_matrix.append(bcl_bcl_similarities)\n",
    "\n",
    "\n"
   ]
  },
  {
   "cell_type": "code",
   "execution_count": null,
   "metadata": {},
   "outputs": [],
   "source": [
    "# Initialize variables to count occurrences of \"1\" and store maximum value\n",
    "max_value_total = float('-inf')\n",
    "total_sum_total = 0\n",
    "count_non_ones_total = 0\n",
    "\n",
    "# Initialize variables to track min and max average values over rows\n",
    "min_average = float('inf')\n",
    "max_average = float('-inf')\n",
    "\n",
    "# Iterate through each row of the similarity matrix\n",
    "for row in bcl_bcl_similarity_matrix:\n",
    "\n",
    "    # Initialize variables for each row\n",
    "    max_value_row = float('-inf')\n",
    "    total_sum_row = 0\n",
    "    count_non_ones_row = 0\n",
    "    \n",
    "    # Iterate through each element in the row\n",
    "    for value in row:\n",
    "\n",
    "        # Check if the value is equal to 1\n",
    "        if value != 1:\n",
    "\n",
    "            # Add the non-\"1\" value to the total sum for the row\n",
    "            total_sum_row += value\n",
    "\n",
    "            # Increment the count of non-\"1\" values for the row\n",
    "            count_non_ones_row += 1\n",
    "\n",
    "    # Calculate the average for the row without 1s\n",
    "    average_row = total_sum_row / count_non_ones_row if count_non_ones_row > 0 else 0\n",
    "    \n",
    "    # Update min and max average values over rows\n",
    "    min_average = min(min_average, average_row)\n",
    "    max_average = max(max_average, average_row)\n",
    "\n",
    "# Print the min and max average values over rows\n",
    "print(f\"Bcl-Bcl Minimum Average over Rows: {min_average}\")\n",
    "print(f\"Bcl-Bcl Maximum Average over Rows: {max_average}\")"
   ]
  },
  {
   "cell_type": "code",
   "execution_count": null,
   "metadata": {},
   "outputs": [],
   "source": []
  }
 ],
 "metadata": {
  "kernelspec": {
   "display_name": "merged_39",
   "language": "python",
   "name": "python3"
  },
  "language_info": {
   "codemirror_mode": {
    "name": "ipython",
    "version": 3
   },
   "file_extension": ".py",
   "mimetype": "text/x-python",
   "name": "python",
   "nbconvert_exporter": "python",
   "pygments_lexer": "ipython3",
   "version": "3.9.0"
  }
 },
 "nbformat": 4,
 "nbformat_minor": 2
}
