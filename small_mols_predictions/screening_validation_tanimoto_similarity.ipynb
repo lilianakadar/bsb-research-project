{
 "cells": [
  {
   "cell_type": "code",
   "execution_count": 1,
   "metadata": {},
   "outputs": [
    {
     "name": "stdout",
     "output_type": "stream",
     "text": [
      "[typing.Tuple[int, int, int], <class 'NoneType'>]\n",
      "[<class 'datetime.date'>, <class 'NoneType'>]\n",
      "[typing.List[typing.Any], ~_T]\n",
      "[<class 'str'>, typing.List[str]]\n",
      "[<class 'str'>, ~_T]\n",
      "[ForwardRef('Distribution'), <class 'NoneType'>]\n",
      "[<class 'setuptools._vendor.packaging._elffile.ELFFile'>, <class 'NoneType'>]\n",
      "[<class 'setuptools._vendor.packaging._musllinux._MuslVersion'>, <class 'NoneType'>]\n",
      "[<class 'setuptools.extern.packaging._structures.InfinityType'>, <class 'setuptools.extern.packaging._structures.NegativeInfinityType'>]\n",
      "[<class 'setuptools.extern.packaging._structures.InfinityType'>, <class 'setuptools.extern.packaging._structures.NegativeInfinityType'>, typing.Tuple[str, int]]\n",
      "[<class 'setuptools.extern.packaging._structures.InfinityType'>, <class 'setuptools.extern.packaging._structures.NegativeInfinityType'>, <class 'int'>, <class 'str'>]\n",
      "[<class 'setuptools.extern.packaging._structures.InfinityType'>, <class 'setuptools.extern.packaging._structures.NegativeInfinityType'>, <class 'int'>, <class 'str'>, typing.Tuple[typing.Union[setuptools.extern.packaging._structures.InfinityType, setuptools.extern.packaging._structures.NegativeInfinityType, int, str], str], typing.Tuple[setuptools.extern.packaging._structures.NegativeInfinityType, typing.Union[setuptools.extern.packaging._structures.InfinityType, setuptools.extern.packaging._structures.NegativeInfinityType, int, str]]]\n",
      "[<class 'setuptools.extern.packaging._structures.NegativeInfinityType'>, typing.Tuple[typing.Union[setuptools.extern.packaging._structures.InfinityType, setuptools.extern.packaging._structures.NegativeInfinityType, int, str, typing.Tuple[typing.Union[setuptools.extern.packaging._structures.InfinityType, setuptools.extern.packaging._structures.NegativeInfinityType, int, str], str], typing.Tuple[setuptools.extern.packaging._structures.NegativeInfinityType, typing.Union[setuptools.extern.packaging._structures.InfinityType, setuptools.extern.packaging._structures.NegativeInfinityType, int, str]]], ...]]\n",
      "[<class 'setuptools.extern.packaging._structures.NegativeInfinityType'>, typing.Tuple[typing.Union[setuptools.extern.packaging._structures.InfinityType, setuptools.extern.packaging._structures.NegativeInfinityType, int, str, typing.Tuple[typing.Union[setuptools.extern.packaging._structures.InfinityType, setuptools.extern.packaging._structures.NegativeInfinityType, int, str], str], typing.Tuple[setuptools.extern.packaging._structures.NegativeInfinityType, typing.Union[setuptools.extern.packaging._structures.InfinityType, setuptools.extern.packaging._structures.NegativeInfinityType, int, str]]], ...], <class 'NoneType'>]\n",
      "[typing.Tuple[typing.Union[setuptools.extern.packaging._structures.InfinityType, setuptools.extern.packaging._structures.NegativeInfinityType, int, str]], <class 'NoneType'>]\n",
      "[<class 'setuptools.extern.packaging.version.Version'>, <class 'str'>]\n",
      "[<class 'str'>, <class 'setuptools.extern.packaging.version.Version'>]\n",
      "[<class 'setuptools.extern.packaging._parser.Variable'>, <class 'setuptools.extern.packaging._parser.Value'>]\n",
      "[<class 'str'>, <class 'os.PathLike'>, <class 'NoneType'>]\n",
      "[<class 'str'>, <class 'bytes'>, typing.Iterable[typing.Union[str, os.PathLike]]]\n",
      "[<class 'bytes'>, <class 'str'>, <class 'os.PathLike'>]\n",
      "[typing.Mapping[str, str], <class 'NoneType'>]\n",
      "[<class 'str'>, <class 'int'>]\n",
      "[typing.Callable, typing.Iterable[typing.Union[str, int]], <class 'str'>]\n",
      "[<class 'list'>, <class 'dict'>]\n",
      "[ForwardRef('Distribution'), ForwardRef('DistributionMetadata')]\n",
      "[<class 'dict'>, <class 'str'>]\n",
      "[<class 'str'>, typing.Callable[[ForwardRef('Distribution'), typing.Any, typing.Union[os.PathLike, str]], NoneType]]\n",
      "[typing.Tuple[str, typing.Type], <class 'NoneType'>]\n",
      "[typing.Dict[str, dict], <class 'NoneType'>]\n",
      "[<class 'str'>, typing.Iterable[str]]\n",
      "[<class 'str'>, <class 'pathlib.Path'>]\n",
      "[typing.List[str], <class 'NoneType'>]\n",
      "[<class 'logging.Logger'>, <class 'NoneType'>]\n",
      "[<class 'bool'>, <class 'str'>, <class 'logging.Logger'>]\n",
      "[<class 'logging.Logger'>, <class 'pycaret.internal.logging.DummyLogger'>]\n",
      "[<class 'distutils.version.LooseVersion'>, <class 'bool'>]\n",
      "[<class 'distutils.version.LooseVersion'>, <class 'bool'>, <class 'NoneType'>]\n",
      "[<class 'distutils.version.LooseVersion'>, <class 'NoneType'>]\n",
      "[ForwardRef('ExtensionArray'), <class 'numpy.ndarray'>]\n",
      "[ForwardRef('ExtensionArray'), <class 'numpy.ndarray'>, ForwardRef('Index'), ForwardRef('Series')]\n",
      "[<class 'str'>, <class 'float'>, <class 'bool'>]\n",
      "[ForwardRef('Period'), ForwardRef('Timestamp'), ForwardRef('Timedelta')]\n",
      "[ForwardRef('Period'), ForwardRef('Timestamp'), ForwardRef('Timedelta'), ForwardRef('Interval')]\n",
      "[<class 'str'>, <class 'float'>, <class 'bool'>, ForwardRef('Period'), ForwardRef('Timestamp'), ForwardRef('Timedelta'), ForwardRef('Interval'), <class 'numpy.datetime64'>, <class 'numpy.timedelta64'>, <class 'datetime.datetime'>]\n",
      "[ForwardRef('Timestamp'), <class 'datetime.datetime'>, <class 'numpy.datetime64'>, <class 'numpy.int64'>, <class 'float'>, <class 'str'>]\n",
      "[ForwardRef('Timedelta'), <class 'datetime.timedelta'>, <class 'numpy.timedelta64'>, <class 'numpy.int64'>, <class 'float'>, <class 'str'>]\n",
      "[<class 'str'>, <class 'datetime.tzinfo'>]\n",
      "[typing.Hashable, typing.Sequence[typing.Hashable]]\n",
      "[<class 'str'>, <class 'float'>, <class 'bool'>, typing.List, typing.Dict]\n",
      "[<class 'str'>, <class 'float'>, <class 'bool'>, typing.List, typing.Dict, <class 'NoneType'>]\n",
      "[<class 'str'>, ForwardRef('BaseOffset')]\n",
      "[ForwardRef('ExtensionArray'), <class 'numpy.ndarray'>, ForwardRef('Index'), ForwardRef('Series'), typing.List, <class 'range'>]\n",
      "[<class 'int'>, ForwardRef('ExtensionArray'), <class 'numpy.ndarray'>, <class 'numpy.random._generator.Generator'>, <class 'numpy.random.bit_generator.BitGenerator'>, <class 'numpy.random.mtrand.RandomState'>]\n",
      "[<class 'str'>, <class 'complex'>, <class 'bool'>, <class 'object'>]\n",
      "[<class 'str'>, <class 'numpy.dtype'>, typing.Type[typing.Union[str, complex, bool, object]]]\n",
      "[ForwardRef('ExtensionDtype'), <class 'str'>, <class 'numpy.dtype'>, typing.Type[typing.Union[str, complex, bool, object]]]\n",
      "[ForwardRef('ExtensionDtype'), ForwardRef('npt.DTypeLike')]\n",
      "[ForwardRef('ExtensionDtype'), <class 'str'>, <class 'numpy.dtype'>, typing.Type[typing.Union[str, complex, bool, object]], typing.Dict[typing.Hashable, typing.Union[ForwardRef('ExtensionDtype'), str, numpy.dtype, typing.Type[typing.Union[str, complex, bool, object]]]]]\n",
      "[<class 'numpy.dtype'>, ForwardRef('ExtensionDtype')]\n",
      "[<class 'bool'>, typing.List[typing.Hashable], typing.List[typing.List[typing.Hashable]], typing.Dict[typing.Hashable, typing.List[typing.Hashable]]]\n",
      "[typing.Mapping[typing.Any, typing.Hashable], typing.Callable[[typing.Any], typing.Hashable]]\n",
      "[ForwardRef('Series'), ForwardRef('ExtensionArray'), <class 'numpy.ndarray'>, ForwardRef('Index'), ForwardRef('Series')]\n",
      "[typing.Callable[[ForwardRef('Series')], typing.Union[ForwardRef('Series'), ForwardRef('ExtensionArray'), numpy.ndarray, ForwardRef('Index')]], <class 'NoneType'>]\n",
      "[ForwardRef('Index'), ForwardRef('ExtensionArray'), <class 'numpy.ndarray'>, ForwardRef('Index'), ForwardRef('Series')]\n",
      "[typing.Callable[[ForwardRef('Index')], typing.Union[ForwardRef('Index'), ForwardRef('ExtensionArray'), numpy.ndarray, ForwardRef('Series')]], <class 'NoneType'>]\n",
      "[typing.Callable, <class 'str'>]\n",
      "[typing.Callable, <class 'str'>, typing.List[typing.Union[typing.Callable, str]]]\n",
      "[typing.Callable, <class 'str'>, typing.List[typing.Union[typing.Callable, str]], typing.Dict[typing.Hashable, typing.Union[typing.Callable, str, typing.List[typing.Union[typing.Callable, str]]]]]\n",
      "[ForwardRef('Series'), ForwardRef('DataFrame'), ForwardRef('GroupBy'), ForwardRef('SeriesGroupBy'), ForwardRef('DataFrameGroupBy'), ForwardRef('BaseWindow'), ForwardRef('Resampler')]\n",
      "[<class 'str'>, ForwardRef('PathLike[str]')]\n",
      "[typing.Dict[str, typing.Any], <class 'NoneType'>]\n",
      "[typing.Literal['infer', 'gzip', 'bz2', 'zip', 'xz', 'zstd', 'tar'], typing.Dict[str, typing.Any]]\n",
      "[typing.Literal['infer', 'gzip', 'bz2', 'zip', 'xz', 'zstd', 'tar'], typing.Dict[str, typing.Any], <class 'NoneType'>]\n",
      "[typing.List[typing.Callable], typing.Tuple[typing.Callable, ...], typing.Mapping[typing.Union[str, int], typing.Callable]]\n",
      "[<class 'str'>, typing.Callable, ForwardRef('EngFormatter')]\n",
      "[<class 'str'>, <class 'int'>, typing.Sequence[typing.Union[str, int]], typing.Mapping[typing.Hashable, typing.Union[str, int]]]\n",
      "[ForwardRef('ArrayManager'), ForwardRef('SingleArrayManager'), ForwardRef('BlockManager'), ForwardRef('SingleBlockManager')]\n",
      "[ForwardRef('SingleArrayManager'), ForwardRef('SingleBlockManager')]\n",
      "[ForwardRef('ArrayManager'), ForwardRef('BlockManager')]\n",
      "[<class 'int'>, <class 'numpy.integer'>]\n",
      "[<class 'slice'>, typing.List[int], <class 'numpy.ndarray'>]\n",
      "[<class 'int'>, <class 'numpy.integer'>, <class 'slice'>, typing.List[int], <class 'numpy.ndarray'>]\n",
      "[<class 'int'>, <class 'numpy.integer'>, <class 'slice'>, typing.List[int], <class 'numpy.ndarray'>, typing.Tuple[typing.Union[int, numpy.integer, slice, typing.List[int], numpy.ndarray], typing.Union[int, numpy.integer, slice, typing.List[int], numpy.ndarray]]]\n",
      "[typing.Literal['left', 'right'], typing.Literal['both', 'neither']]\n",
      "[<class 'datetime.datetime'>, ForwardRef('NaTType')]\n",
      "[typing.Literal['ignore', 'raise'], typing.Literal['coerce']]\n",
      "[<class 'pandas.util.version.InfinityType'>, <class 'pandas.util.version.NegativeInfinityType'>]\n",
      "[<class 'pandas.util.version.InfinityType'>, <class 'pandas.util.version.NegativeInfinityType'>, typing.Tuple[str, int]]\n",
      "[<class 'pandas.util.version.InfinityType'>, <class 'pandas.util.version.NegativeInfinityType'>, <class 'int'>, <class 'str'>]\n",
      "[<class 'pandas.util.version.InfinityType'>, <class 'pandas.util.version.NegativeInfinityType'>, <class 'int'>, <class 'str'>, typing.Tuple[typing.Union[pandas.util.version.InfinityType, pandas.util.version.NegativeInfinityType, int, str], str], typing.Tuple[pandas.util.version.NegativeInfinityType, typing.Union[pandas.util.version.InfinityType, pandas.util.version.NegativeInfinityType, int, str]]]\n",
      "[<class 'pandas.util.version.NegativeInfinityType'>, typing.Tuple[typing.Union[pandas.util.version.InfinityType, pandas.util.version.NegativeInfinityType, int, str, typing.Tuple[typing.Union[pandas.util.version.InfinityType, pandas.util.version.NegativeInfinityType, int, str], str], typing.Tuple[pandas.util.version.NegativeInfinityType, typing.Union[pandas.util.version.InfinityType, pandas.util.version.NegativeInfinityType, int, str]]], ...]]\n",
      "[typing.Tuple[int, typing.Tuple[int, ...], typing.Union[pandas.util.version.InfinityType, pandas.util.version.NegativeInfinityType, typing.Tuple[str, int]], typing.Union[pandas.util.version.InfinityType, pandas.util.version.NegativeInfinityType, typing.Tuple[str, int]], typing.Union[pandas.util.version.InfinityType, pandas.util.version.NegativeInfinityType, typing.Tuple[str, int]], typing.Union[pandas.util.version.NegativeInfinityType, typing.Tuple[typing.Union[pandas.util.version.InfinityType, pandas.util.version.NegativeInfinityType, int, str, typing.Tuple[typing.Union[pandas.util.version.InfinityType, pandas.util.version.NegativeInfinityType, int, str], str], typing.Tuple[pandas.util.version.NegativeInfinityType, typing.Union[pandas.util.version.InfinityType, pandas.util.version.NegativeInfinityType, int, str]]], ...]]], typing.Tuple[int, typing.Tuple[str, ...]]]\n",
      "[typing.List[zmq.sugar.frame.Frame], typing.List[bytes]]\n",
      "[ForwardRef('Period'), ForwardRef('Timestamp'), ForwardRef('Timedelta'), <class 'pandas._libs.tslibs.nattype.NaTType'>]\n",
      "[typing.Mapping[str, str], typing.Iterable[str]]\n",
      "[<class 'pandas._libs.interval.Interval'>, <class 'float'>]\n",
      "[<class 'str'>, <class 'pandas._libs.missing.NAType'>]\n",
      "[typing.List, typing.Tuple, ForwardRef('ExtensionArray'), <class 'numpy.ndarray'>, ForwardRef('Index'), ForwardRef('Series')]\n",
      "[<class 'float'>, <class 'str'>]\n",
      "[<class 'float'>, <class 'str'>, <class 'datetime.datetime'>]\n",
      "[<class 'float'>, <class 'str'>, <class 'datetime.datetime'>, typing.List, typing.Tuple, ForwardRef('ExtensionArray'), <class 'numpy.ndarray'>, ForwardRef('Index'), ForwardRef('Series')]\n",
      "[typing.List[typing.Union[float, str]], typing.Tuple[typing.Union[float, str], ...], ForwardRef('ExtensionArray'), <class 'numpy.ndarray'>, ForwardRef('Index'), ForwardRef('Series')]\n",
      "[<class 'pandas.core.tools.datetimes.FulldatetimeDict'>, ForwardRef('DataFrame')]\n",
      "[typing.Hashable, typing.List[typing.Hashable], typing.Callable[[typing.Hashable], typing.Hashable], typing.List[typing.Callable[[typing.Hashable], typing.Hashable]], typing.Mapping[typing.Hashable, typing.Hashable]]\n",
      "[<class 'str'>, typing.Callable[..., typing.Any]]\n",
      "[typing.Tuple[int, int], typing.Tuple[int]]\n",
      "[<class 'pyparsing.results.ParseResults'>, typing.Sequence[pyparsing.results.ParseResults]]\n",
      "[typing.Callable[[], typing.Any], typing.Callable[[pyparsing.results.ParseResults], typing.Any], typing.Callable[[int, pyparsing.results.ParseResults], typing.Any], typing.Callable[[str, int, pyparsing.results.ParseResults], typing.Any]]\n",
      "[typing.Callable[[], bool], typing.Callable[[pyparsing.results.ParseResults], bool], typing.Callable[[int, pyparsing.results.ParseResults], bool], typing.Callable[[str, int, pyparsing.results.ParseResults], bool]]\n",
      "[typing.Callable[[str, int, ForwardRef('ParserElement'), bool], NoneType], <class 'NoneType'>]\n",
      "[typing.Callable[[str, int, int, ForwardRef('ParserElement'), pyparsing.results.ParseResults, bool], NoneType], <class 'NoneType'>]\n",
      "[typing.Callable[[str, int, ForwardRef('ParserElement'), Exception, bool], NoneType], <class 'NoneType'>]\n",
      "[<class 'pyparsing.results.ParseResults'>, <class 'Exception'>]\n",
      "[<class 'int'>, <class 'NoneType'>]\n",
      "[<class 'int'>, <class 'NoneType'>]\n",
      "[typing.Set[str], <class 'str'>]\n",
      "[<class 'str'>, <class 'pathlib.Path'>, <class 'typing.TextIO'>]\n",
      "[<class 'str'>, typing.List[str]]\n",
      "[ForwardRef('ParserElement'), <class 'str'>]\n",
      "[ForwardRef('ParserElement'), <class 'str'>, <class 'NoneType'>]\n",
      "[typing.Callable[[str, pyparsing.results.ParseResults], str], <class 'NoneType'>]\n",
      "[<class 'typing.TextIO'>, <class 'NoneType'>]\n",
      "[<class 'typing.TextIO'>, <class 'pathlib.Path'>, <class 'str'>]\n",
      "[<enum 'RegexFlag'>, <class 'int'>]\n",
      "[<class 'pyparsing.core.ParserElement'>, <class 'str'>]\n",
      "[<class 'str'>, <class 'pyparsing.core.ParserElement'>]\n",
      "[<class 'pyparsing.core.ParserElement'>, <class 'str'>, <class 'NoneType'>]\n",
      "[<class 'pyparsing.core.ParserElement'>, <class 'NoneType'>]\n",
      "[typing.Iterable[str], <class 'str'>]\n",
      "[<class 'pyparsing.core.ParserElement'>, <class 'str'>, typing.Tuple[typing.Union[pyparsing.core.ParserElement, str], typing.Union[pyparsing.core.ParserElement, str]]]\n",
      "[typing.Callable[[], typing.Any], typing.Callable[[pyparsing.results.ParseResults], typing.Any], typing.Callable[[int, pyparsing.results.ParseResults], typing.Any], typing.Callable[[str, int, pyparsing.results.ParseResults], typing.Any], <class 'NoneType'>]\n",
      "[typing.Tuple[typing.Union[pyparsing.core.ParserElement, str, typing.Tuple[typing.Union[pyparsing.core.ParserElement, str], typing.Union[pyparsing.core.ParserElement, str]]], int, pyparsing.helpers.OpAssoc, typing.Union[typing.Callable[[], typing.Any], typing.Callable[[pyparsing.results.ParseResults], typing.Any], typing.Callable[[int, pyparsing.results.ParseResults], typing.Any], typing.Callable[[str, int, pyparsing.results.ParseResults], typing.Any], NoneType]], typing.Tuple[typing.Union[pyparsing.core.ParserElement, str, typing.Tuple[typing.Union[pyparsing.core.ParserElement, str], typing.Union[pyparsing.core.ParserElement, str]]], int, pyparsing.helpers.OpAssoc]]\n",
      "[<class 'str'>, os.PathLike[str]]\n",
      "[<class 'module'>, <class 'str'>]\n",
      "[<class 'module'>, <class 'str'>, <class 'NoneType'>]\n",
      "[<class 'importlib_resources.abc.ResourceReader'>, <class 'NoneType'>]\n",
      "[<class 'seaborn.external.version.InfinityType'>, <class 'seaborn.external.version.NegativeInfinityType'>]\n",
      "[<class 'seaborn.external.version.InfinityType'>, <class 'seaborn.external.version.NegativeInfinityType'>, typing.Tuple[str, int]]\n",
      "[<class 'seaborn.external.version.InfinityType'>, <class 'seaborn.external.version.NegativeInfinityType'>, <class 'int'>, <class 'str'>]\n",
      "[<class 'seaborn.external.version.InfinityType'>, <class 'seaborn.external.version.NegativeInfinityType'>, <class 'int'>, <class 'str'>, typing.Tuple[typing.Union[seaborn.external.version.InfinityType, seaborn.external.version.NegativeInfinityType, int, str], str], typing.Tuple[seaborn.external.version.NegativeInfinityType, typing.Union[seaborn.external.version.InfinityType, seaborn.external.version.NegativeInfinityType, int, str]]]\n",
      "[<class 'seaborn.external.version.NegativeInfinityType'>, typing.Tuple[typing.Union[seaborn.external.version.InfinityType, seaborn.external.version.NegativeInfinityType, int, str, typing.Tuple[typing.Union[seaborn.external.version.InfinityType, seaborn.external.version.NegativeInfinityType, int, str], str], typing.Tuple[seaborn.external.version.NegativeInfinityType, typing.Union[seaborn.external.version.InfinityType, seaborn.external.version.NegativeInfinityType, int, str]]], ...]]\n",
      "[typing.Tuple[int, typing.Tuple[int, ...], typing.Union[seaborn.external.version.InfinityType, seaborn.external.version.NegativeInfinityType, typing.Tuple[str, int]], typing.Union[seaborn.external.version.InfinityType, seaborn.external.version.NegativeInfinityType, typing.Tuple[str, int]], typing.Union[seaborn.external.version.InfinityType, seaborn.external.version.NegativeInfinityType, typing.Tuple[str, int]], typing.Union[seaborn.external.version.NegativeInfinityType, typing.Tuple[typing.Union[seaborn.external.version.InfinityType, seaborn.external.version.NegativeInfinityType, int, str, typing.Tuple[typing.Union[seaborn.external.version.InfinityType, seaborn.external.version.NegativeInfinityType, int, str], str], typing.Tuple[seaborn.external.version.NegativeInfinityType, typing.Union[seaborn.external.version.InfinityType, seaborn.external.version.NegativeInfinityType, int, str]]], ...]]], typing.Tuple[int, typing.Tuple[str, ...]]]\n",
      "[typing.Tuple[str, int], <class 'NoneType'>]\n",
      "[<class 'str'>, <class 'bytes'>, <class 'typing.SupportsInt'>]\n",
      "[<class 'seaborn.external.version.NegativeInfinityType'>, typing.Tuple[typing.Union[seaborn.external.version.InfinityType, seaborn.external.version.NegativeInfinityType, int, str, typing.Tuple[typing.Union[seaborn.external.version.InfinityType, seaborn.external.version.NegativeInfinityType, int, str], str], typing.Tuple[seaborn.external.version.NegativeInfinityType, typing.Union[seaborn.external.version.InfinityType, seaborn.external.version.NegativeInfinityType, int, str]]], ...], <class 'NoneType'>]\n",
      "[typing.Tuple[typing.Union[seaborn.external.version.InfinityType, seaborn.external.version.NegativeInfinityType, int, str]], <class 'NoneType'>]\n",
      "[<class 'float'>, <class 'numpy.floating'>, <class 'numpy.integer'>]\n",
      "[typing.Callable, <class 'NoneType'>]\n",
      "[<class 'str'>, <class 'bytes'>, <class 'datetime.date'>, <class 'datetime.datetime'>, <class 'datetime.timedelta'>, <class 'bool'>, <class 'complex'>, <class 'pandas._libs.tslibs.timestamps.Timestamp'>, <class 'pandas._libs.tslibs.timedeltas.Timedelta'>]\n",
      "[<class 'pandas.core.series.Series'>, <class 'pandas.core.indexes.base.Index'>, <class 'numpy.ndarray'>]\n",
      "[<class 'str'>, <class 'bytes'>, <class 'datetime.date'>, <class 'datetime.datetime'>, <class 'datetime.timedelta'>, <class 'bool'>, <class 'complex'>, <class 'pandas._libs.tslibs.timestamps.Timestamp'>, <class 'pandas._libs.tslibs.timedeltas.Timedelta'>, <class 'pandas.core.series.Series'>, <class 'pandas.core.indexes.base.Index'>, <class 'numpy.ndarray'>, <class 'NoneType'>]\n",
      "[typing.List[typing.Union[str, bytes, datetime.date, datetime.datetime, datetime.timedelta, bool, complex, pandas._libs.tslibs.timestamps.Timestamp, pandas._libs.tslibs.timedeltas.Timedelta, pandas.core.series.Series, pandas.core.indexes.base.Index, numpy.ndarray, NoneType]], <class 'pandas.core.indexes.base.Index'>, <class 'NoneType'>]\n",
      "[<class 'pandas.core.frame.DataFrame'>, typing.Mapping[collections.abc.Hashable, typing.Union[pandas.core.series.Series, pandas.core.indexes.base.Index, numpy.ndarray]], <class 'NoneType'>]\n",
      "[<class 'collections.abc.Iterable'>, <class 'NoneType'>]\n",
      "[<class 'float'>, <class 'NoneType'>]\n",
      "[typing.Tuple[typing.Optional[float], typing.Optional[float]], <class 'matplotlib.colors.Normalize'>, <class 'NoneType'>]\n",
      "[<class 'str'>, <class 'list'>, <class 'dict'>, <class 'matplotlib.colors.Colormap'>, <class 'NoneType'>]\n",
      "[<class 'dict'>, <class 'list'>, <class 'NoneType'>]\n",
      "[typing.Tuple[float, float], typing.List[float], typing.Dict[typing.Any, float], <class 'NoneType'>]\n"
     ]
    }
   ],
   "source": [
    "import pycaret\n",
    "import pandas as pd\n",
    "import numpy as np\n",
    "import seaborn as sns\n",
    "import matplotlib.pyplot as plt\n",
    "\n",
    "from rdkit import Chem\n",
    "from rdkit.Chem import inchi\n",
    "\n",
    "from tqdm import tqdm\n",
    "from time import sleep\n",
    "from tqdm.notebook import tqdm\n",
    "\n",
    "import rdkit\n",
    "from rdkit import Chem\n",
    "from rdkit.Chem import AllChem\n",
    "\n",
    "from rdkit import DataStructs"
   ]
  },
  {
   "cell_type": "markdown",
   "metadata": {},
   "source": [
    "Tanimoto similarity\n",
    "\n",
    "Validate the 7 triple positive hits: are they similar to the nown Mcl-1/Bcl-2 inhibitors?"
   ]
  },
  {
   "cell_type": "code",
   "execution_count": 2,
   "metadata": {},
   "outputs": [],
   "source": [
    "#Load the Mcl-1 and Bc-2 datasets\n",
    "mcl_raw = pd.read_csv('../data_preparation/inhibitors/mcl/mcl_molecules.csv', index_col=0) #865 compounds\n",
    "bcl_raw = pd.read_csv('../data_preparation/inhibitors/bcl/bcl_molecules.csv', index_col=0) #428 compounds\n",
    "\n",
    "#Filter for positive molecules: inhibitors\n",
    "mcl = mcl_raw[mcl_raw['Class'] == 'Inhibitor'] #298 compounds\n",
    "mcl = mcl.reset_index(drop=True)\n",
    "mcl = mcl.rename(columns={'SMILES': 'papyrus_SMILES'})\n",
    "\n",
    "bcl = bcl_raw[bcl_raw['Class'] == 'Inhibitor'] #125 compounds\n",
    "bcl = bcl.reset_index(drop=True)\n",
    "bcl = bcl.rename(columns={'SMILES': 'papyrus_SMILES'})"
   ]
  },
  {
   "cell_type": "code",
   "execution_count": 3,
   "metadata": {},
   "outputs": [],
   "source": [
    "#Load the seven triple positive hits\n",
    "hits = pd.read_csv('triple_pos.csv')\n",
    "\n",
    "columns_to_keep = ['papyrus_SMILES', 'composite_score']\n",
    "hits = hits[columns_to_keep]"
   ]
  },
  {
   "cell_type": "code",
   "execution_count": 4,
   "metadata": {},
   "outputs": [],
   "source": [
    "#Generate SMILES list\n",
    "def generate_smiles(df):\n",
    "    smiles_list = df['papyrus_SMILES'].tolist()\n",
    "\n",
    "    return smiles_list"
   ]
  },
  {
   "cell_type": "code",
   "execution_count": 5,
   "metadata": {},
   "outputs": [],
   "source": [
    "#Generate molecules from SMILES\n",
    "\n",
    "def generate_mols(smiles_list):\n",
    "    mols = []\n",
    "    smiles_to_fix = []\n",
    "\n",
    "    for smiles in smiles_list:\n",
    "        try:\n",
    "            mol = Chem.MolFromSmiles(smiles)\n",
    "            mols.append(mol)\n",
    "\n",
    "        except Exception as e:\n",
    "            print(f\"Error with SMILES string {smiles}\")\n",
    "            continue \n",
    "\n",
    "\n",
    "    #check for None Mol objects\n",
    "    for i, mol in enumerate(mols):\n",
    "        if mol is None:\n",
    "            print(f\"Error with SMILES string at index {i}: {smiles_list[i]}\")\n",
    "            smiles_to_fix.append(i)\n",
    "            continue\n",
    "\n",
    "    return mols"
   ]
  },
  {
   "cell_type": "code",
   "execution_count": 6,
   "metadata": {},
   "outputs": [],
   "source": [
    "#Add hydrogens to molecules\n",
    "\n",
    "def add_hydrogens(mols):\n",
    "\n",
    "    mols_H = []\n",
    "\n",
    "    for mol in mols:\n",
    "        mol_H = Chem.AddHs(mol)\n",
    "        mols_H.append(mol_H)\n",
    "\n",
    "    return mols_H"
   ]
  },
  {
   "cell_type": "code",
   "execution_count": 7,
   "metadata": {},
   "outputs": [],
   "source": [
    "#Create Morgan Fingerprints\n",
    "def morgan_fp(mols_H):\n",
    "\n",
    "    fp = []\n",
    "\n",
    "    print(f'Calculating Morgan fingerprints...')\n",
    "\n",
    "    radius = 2 #define radius\n",
    "    nBits = 2048   #define number of bits\n",
    "\n",
    "    for mol in mols_H:\n",
    "        new_data = Chem.rdMolDescriptors.GetMorganFingerprintAsBitVect(mol, radius, nBits)\n",
    "        fp.append(new_data)\n",
    "\n",
    "    return fp"
   ]
  },
  {
   "cell_type": "code",
   "execution_count": 8,
   "metadata": {},
   "outputs": [
    {
     "name": "stdout",
     "output_type": "stream",
     "text": [
      "Calculating Morgan fingerprints...\n"
     ]
    }
   ],
   "source": [
    "#Create Morgan FPs for known Mcl-1 inhibitors\n",
    "df = mcl\n",
    "\n",
    "smiles_list= generate_smiles(df)\n",
    "mols = generate_mols(smiles_list)\n",
    "mols_H = add_hydrogens(mols)\n",
    "\n",
    "mcl_morgan= morgan_fp(mols_H)\n",
    "\n"
   ]
  },
  {
   "cell_type": "code",
   "execution_count": 9,
   "metadata": {},
   "outputs": [
    {
     "name": "stdout",
     "output_type": "stream",
     "text": [
      "Calculating Morgan fingerprints...\n"
     ]
    }
   ],
   "source": [
    "#Create Morgan FPs for known Bcl-2 inhibitors\n",
    "df = bcl\n",
    "\n",
    "smiles_list= generate_smiles(df)\n",
    "mols = generate_mols(smiles_list)\n",
    "mols_H = add_hydrogens(mols)\n",
    "\n",
    "bcl_morgan= morgan_fp(mols_H)\n",
    "\n"
   ]
  },
  {
   "cell_type": "code",
   "execution_count": 10,
   "metadata": {},
   "outputs": [
    {
     "name": "stdout",
     "output_type": "stream",
     "text": [
      "Calculating Morgan fingerprints...\n"
     ]
    }
   ],
   "source": [
    "#Create Morgan FPs for triple positive hits\n",
    "df = hits\n",
    "\n",
    "smiles_list= generate_smiles(df)\n",
    "mols = generate_mols(smiles_list)\n",
    "mols_H = add_hydrogens(mols)\n",
    "\n",
    "hits_morgan= morgan_fp(mols_H)\n"
   ]
  },
  {
   "cell_type": "code",
   "execution_count": 11,
   "metadata": {},
   "outputs": [
    {
     "name": "stdout",
     "output_type": "stream",
     "text": [
      "Mcl-1 Similarity matrix:\n",
      "[0.16923076923076924, 0.1557377049180328, 0.20618556701030927, 0.1346153846153846, 0.14563106796116504, 0.13385826771653545, 0.1262135922330097, 0.12264150943396226, 0.1532258064516129, 0.16363636363636364, 0.12931034482758622, 0.13402061855670103, 0.17518248175182483, 0.15503875968992248, 0.13533834586466165, 0.1, 0.10576923076923077, 0.13740458015267176, 0.16129032258064516, 0.11023622047244094, 0.15702479338842976, 0.14173228346456693, 0.1568627450980392, 0.16, 0.11320754716981132, 0.14130434782608695, 0.1323529411764706, 0.12037037037037036, 0.11650485436893204, 0.12781954887218044, 0.17117117117117117, 0.15492957746478872, 0.14035087719298245, 0.11570247933884298, 0.10752688172043011, 0.1532258064516129, 0.08421052631578947, 0.1553398058252427, 0.1297709923664122, 0.13709677419354838, 0.11224489795918367, 0.1732283464566929, 0.10576923076923077, 0.12380952380952381, 0.1623931623931624, 0.16363636363636364, 0.12878787878787878, 0.14018691588785046, 0.13675213675213677, 0.13793103448275862, 0.1349206349206349, 0.12264150943396226, 0.1724137931034483, 0.14516129032258066, 0.15503875968992248, 0.10526315789473684, 0.17272727272727273, 0.1623931623931624, 0.15053763440860216, 0.1323529411764706, 0.1415929203539823, 0.14173228346456693, 0.15702479338842976, 0.14, 0.10101010101010101, 0.12631578947368421, 0.12389380530973451, 0.14953271028037382, 0.14414414414414414, 0.1504424778761062, 0.16379310344827586, 0.12264150943396226, 0.1566265060240964, 0.176, 0.14705882352941177, 0.11538461538461539, 0.13138686131386862, 0.14678899082568808, 0.140625, 0.13793103448275862, 0.15966386554621848, 0.13178294573643412, 0.12149532710280374, 0.11224489795918367, 0.15, 0.12149532710280374, 0.14423076923076922, 0.13793103448275862, 0.1565217391304348, 0.13432835820895522, 0.10891089108910891, 0.12878787878787878, 0.136, 0.152, 0.1557377049180328, 0.13821138211382114, 0.17592592592592593, 0.13541666666666666, 0.16, 0.08928571428571429, 0.1650485436893204, 0.1328125, 0.12121212121212122, 0.11926605504587157, 0.09375, 0.10576923076923077, 0.1415929203539823, 0.14705882352941177, 0.13333333333333333, 0.13541666666666666, 0.15, 0.15267175572519084, 0.12371134020618557, 0.13076923076923078, 0.13740458015267176, 0.11290322580645161, 0.16129032258064516, 0.15789473684210525, 0.14285714285714285, 0.1956521739130435, 0.10891089108910891, 0.15384615384615385, 0.12781954887218044, 0.10891089108910891, 0.12037037037037036, 0.17525773195876287, 0.12037037037037036, 0.14432989690721648, 0.1487603305785124, 0.16071428571428573, 0.10144927536231885, 0.13978494623655913, 0.16037735849056603, 0.1826086956521739, 0.140625, 0.12781954887218044, 0.13178294573643412, 0.16964285714285715, 0.12, 0.15873015873015872, 0.1415929203539823, 0.1623931623931624, 0.11224489795918367, 0.1111111111111111, 0.09322033898305085, 0.15730337078651685, 0.18478260869565216, 0.10144927536231885, 0.10377358490566038, 0.1568627450980392, 0.1111111111111111, 0.15966386554621848, 0.13392857142857142, 0.12149532710280374, 0.14285714285714285, 0.12903225806451613, 0.1523809523809524, 0.13636363636363635, 0.13793103448275862, 0.1297709923664122, 0.14285714285714285, 0.140625, 0.1391304347826087, 0.13934426229508196, 0.12037037037037036, 0.1391304347826087, 0.12149532710280374, 0.15873015873015872, 0.16831683168316833, 0.17355371900826447, 0.18627450980392157, 0.1276595744680851, 0.16071428571428573, 0.11, 0.1650485436893204, 0.07692307692307693, 0.13533834586466165, 0.16346153846153846, 0.14285714285714285, 0.140625, 0.1450381679389313, 0.16521739130434782, 0.12037037037037036, 0.12264150943396226, 0.14814814814814814, 0.11578947368421053, 0.15833333333333333, 0.14150943396226415, 0.125, 0.10869565217391304, 0.13636363636363635, 0.16161616161616163, 0.13333333333333333, 0.12318840579710146, 0.18, 0.13740458015267176, 0.13432835820895522, 0.11607142857142858, 0.11538461538461539, 0.12612612612612611, 0.1810344827586207, 0.13076923076923078, 0.15966386554621848, 0.13740458015267176, 0.17117117117117117, 0.1414141414141414, 0.13533834586466165, 0.11650485436893204, 0.1651376146788991, 0.1724137931034483, 0.15789473684210525, 0.13761467889908258, 0.13114754098360656, 0.13636363636363635, 0.1485148514851485, 0.14563106796116504, 0.16521739130434782, 0.15315315315315314, 0.16666666666666666, 0.14678899082568808, 0.1826086956521739, 0.09090909090909091, 0.14678899082568808, 0.15702479338842976, 0.15178571428571427, 0.18181818181818182, 0.15702479338842976, 0.12781954887218044, 0.1568627450980392, 0.17475728155339806, 0.13445378151260504, 0.1368421052631579, 0.1391304347826087, 0.13953488372093023, 0.18018018018018017, 0.14285714285714285, 0.12380952380952381, 0.1732283464566929, 0.14173228346456693, 0.18699186991869918, 0.13953488372093023, 0.1134020618556701, 0.168, 0.15384615384615385, 0.1717171717171717, 0.1836734693877551, 0.1919191919191919, 0.14678899082568808, 0.1276595744680851, 0.10476190476190476, 0.11764705882352941, 0.17, 0.10784313725490197, 0.12173913043478261, 0.13385826771653545, 0.1794871794871795, 0.1595744680851064, 0.13333333333333333, 0.13333333333333333, 0.15827338129496402, 0.12903225806451613, 0.1297709923664122, 0.16, 0.125, 0.16842105263157894, 0.12264150943396226, 0.07476635514018691, 0.1262135922330097, 0.12037037037037036, 0.12264150943396226, 0.16666666666666666, 0.1368421052631579, 0.15384615384615385, 0.18085106382978725, 0.15873015873015872, 0.1565217391304348, 0.14736842105263157, 0.11864406779661017, 0.12037037037037036, 0.14285714285714285, 0.17054263565891473, 0.09615384615384616, 0.16981132075471697, 0.12745098039215685, 0.14393939393939395, 0.12962962962962962, 0.16964285714285715, 0.16666666666666666, 0.13636363636363635, 0.1452991452991453, 0.14285714285714285, 0.18556701030927836, 0.11607142857142858, 0.12380952380952381, 0.19298245614035087, 0.1557377049180328, 0.14583333333333334, 0.1732283464566929]\n",
      "[0.16296296296296298, 0.140625, 0.1509433962264151, 0.11818181818181818, 0.11818181818181818, 0.13740458015267176, 0.1, 0.09734513274336283, 0.11278195488721804, 0.09917355371900827, 0.07936507936507936, 0.08490566037735849, 0.16901408450704225, 0.14925373134328357, 0.1386861313868613, 0.0449438202247191, 0.12149532710280374, 0.1323529411764706, 0.13740458015267176, 0.140625, 0.15079365079365079, 0.1450381679389313, 0.11818181818181818, 0.11009174311926606, 0.09821428571428571, 0.1111111111111111, 0.1357142857142857, 0.09565217391304348, 0.1320754716981132, 0.13970588235294118, 0.1440677966101695, 0.15753424657534246, 0.0975609756097561, 0.15702479338842976, 0.06930693069306931, 0.12121212121212122, 0.06930693069306931, 0.10714285714285714, 0.1417910447761194, 0.11450381679389313, 0.10679611650485436, 0.12408759124087591, 0.12149532710280374, 0.09821428571428571, 0.19491525423728814, 0.1271186440677966, 0.14074074074074075, 0.09482758620689655, 0.09523809523809523, 0.096, 0.11278195488721804, 0.09734513274336283, 0.13709677419354838, 0.1484375, 0.12408759124087591, 0.06796116504854369, 0.13559322033898305, 0.18487394957983194, 0.10891089108910891, 0.14388489208633093, 0.08943089430894309, 0.15384615384615385, 0.11538461538461539, 0.09174311926605505, 0.10679611650485436, 0.08737864077669903, 0.07317073170731707, 0.10344827586206896, 0.09090909090909091, 0.125, 0.14754098360655737, 0.09734513274336283, 0.06315789473684211, 0.1259259259259259, 0.08928571428571429, 0.1, 0.1347517730496454, 0.13043478260869565, 0.13533834586466165, 0.096, 0.1349206349206349, 0.14393939393939395, 0.09649122807017543, 0.06542056074766354, 0.144, 0.09649122807017543, 0.13761467889908258, 0.09473684210526316, 0.14049586776859505, 0.12949640287769784, 0.11428571428571428, 0.14074074074074075, 0.13953488372093023, 0.14615384615384616, 0.12307692307692308, 0.09848484848484848, 0.13793103448275862, 0.07547169811320754, 0.171875, 0.08547008547008547, 0.11607142857142858, 0.11940298507462686, 0.08411214953271028, 0.09482758620689655, 0.0891089108910891, 0.09090909090909091, 0.09836065573770492, 0.08928571428571429, 0.14492753623188406, 0.08571428571428572, 0.12598425196850394, 0.1223021582733813, 0.09615384615384616, 0.14285714285714285, 0.1323529411764706, 0.08333333333333333, 0.12878787878787878, 0.07476635514018691, 0.12142857142857143, 0.11650485436893204, 0.125, 0.1564625850340136, 0.13970588235294118, 0.05405405405405406, 0.09565217391304348, 0.11214953271028037, 0.09565217391304348, 0.10476190476190476, 0.14285714285714285, 0.125, 0.13768115942028986, 0.08823529411764706, 0.09401709401709402, 0.13709677419354838, 0.13533834586466165, 0.15671641791044777, 0.14393939393939395, 0.15254237288135594, 0.125, 0.13533834586466165, 0.09836065573770492, 0.18487394957983194, 0.045871559633027525, 0.07476635514018691, 0.072, 0.09090909090909091, 0.14, 0.12142857142857143, 0.11926605504587157, 0.11818181818181818, 0.07476635514018691, 0.1349206349206349, 0.09090909090909091, 0.09649122807017543, 0.13740458015267176, 0.12403100775193798, 0.10526315789473684, 0.13970588235294118, 0.096, 0.1590909090909091, 0.11764705882352941, 0.13533834586466165, 0.0967741935483871, 0.1076923076923077, 0.09565217391304348, 0.10569105691056911, 0.09649122807017543, 0.13533834586466165, 0.1388888888888889, 0.12213740458015267, 0.08620689655172414, 0.08823529411764706, 0.11570247933884298, 0.10476190476190476, 0.12612612612612611, 0.061855670103092786, 0.1386861313868613, 0.125, 0.125, 0.16153846153846155, 0.14814814814814814, 0.18803418803418803, 0.09565217391304348, 0.09734513274336283, 0.12173913043478261, 0.04716981132075472, 0.11627906976744186, 0.09565217391304348, 0.0990990990990991, 0.10309278350515463, 0.13138686131386862, 0.1320754716981132, 0.11904761904761904, 0.1678832116788321, 0.09821428571428571, 0.14074074074074075, 0.12949640287769784, 0.08333333333333333, 0.1308411214953271, 0.0743801652892562, 0.136, 0.14285714285714285, 0.144, 0.1323529411764706, 0.17391304347826086, 0.09259259259259259, 0.13043478260869565, 0.1111111111111111, 0.11864406779661017, 0.13709677419354838, 0.11650485436893204, 0.09322033898305085, 0.07518796992481203, 0.13970588235294118, 0.11009174311926606, 0.09821428571428571, 0.17796610169491525, 0.09917355371900827, 0.13592233009708737, 0.1016949152542373, 0.20512820512820512, 0.09649122807017543, 0.1016949152542373, 0.1328125, 0.09836065573770492, 0.12962962962962962, 0.15079365079365079, 0.15671641791044777, 0.10810810810810811, 0.10526315789473684, 0.1111111111111111, 0.0970873786407767, 0.11475409836065574, 0.1259259259259259, 0.1724137931034483, 0.11764705882352941, 0.09821428571428571, 0.17557251908396945, 0.11940298507462686, 0.13533834586466165, 0.15151515151515152, 0.0660377358490566, 0.14393939393939395, 0.11607142857142858, 0.09009009009009009, 0.1523809523809524, 0.14953271028037382, 0.1206896551724138, 0.08823529411764706, 0.1308411214953271, 0.12264150943396226, 0.12962962962962962, 0.12380952380952381, 0.072, 0.13740458015267176, 0.144, 0.08571428571428572, 0.1366906474820144, 0.11711711711711711, 0.1527777777777778, 0.11538461538461539, 0.1417910447761194, 0.11009174311926606, 0.0990990990990991, 0.16, 0.09734513274336283, 0.07142857142857142, 0.1, 0.09565217391304348, 0.09734513274336283, 0.16030534351145037, 0.08653846153846154, 0.12612612612612611, 0.11538461538461539, 0.14393939393939395, 0.09523809523809523, 0.09615384615384616, 0.0703125, 0.09565217391304348, 0.128, 0.17293233082706766, 0.08181818181818182, 0.12173913043478261, 0.08108108108108109, 0.1223021582733813, 0.15454545454545454, 0.14285714285714285, 0.10084033613445378, 0.13138686131386862, 0.09448818897637795, 0.14615384615384616, 0.14285714285714285, 0.14035087719298245, 0.09821428571428571, 0.20512820512820512, 0.11450381679389313, 0.11650485436893204, 0.14925373134328357]\n",
      "[0.13380281690140844, 0.11940298507462686, 0.1559633027522936, 0.07627118644067797, 0.15454545454545454, 0.1590909090909091, 0.10619469026548672, 0.12280701754385964, 0.10948905109489052, 0.0873015873015873, 0.09375, 0.07207207207207207, 0.14093959731543623, 0.1048951048951049, 0.1347517730496454, 0.07777777777777778, 0.12727272727272726, 0.12857142857142856, 0.11678832116788321, 0.15384615384615385, 0.11194029850746269, 0.12408759124087591, 0.11403508771929824, 0.09649122807017543, 0.11403508771929824, 0.10679611650485436, 0.11643835616438356, 0.1111111111111111, 0.09734513274336283, 0.1357142857142857, 0.10317460317460317, 0.1456953642384106, 0.10317460317460317, 0.16129032258064516, 0.06666666666666667, 0.10948905109489052, 0.07692307692307693, 0.09401709401709402, 0.13768115942028986, 0.16279069767441862, 0.1346153846153846, 0.0896551724137931, 0.12727272727272726, 0.10434782608695652, 0.1328125, 0.10483870967741936, 0.12056737588652482, 0.08264462809917356, 0.08396946564885496, 0.08461538461538462, 0.10948905109489052, 0.10344827586206896, 0.10687022900763359, 0.12686567164179105, 0.0896551724137931, 0.06542056074766354, 0.104, 0.12403100775193798, 0.10476190476190476, 0.12413793103448276, 0.08661417322834646, 0.11594202898550725, 0.11194029850746269, 0.09821428571428571, 0.09259259259259259, 0.10476190476190476, 0.05426356589147287, 0.09090909090909091, 0.088, 0.09448818897637795, 0.14285714285714285, 0.10344827586206896, 0.09375, 0.09090909090909091, 0.10526315789473684, 0.11607142857142858, 0.11564625850340136, 0.11666666666666667, 0.12318840579710146, 0.08461538461538462, 0.11363636363636363, 0.12318840579710146, 0.10256410256410256, 0.04424778761061947, 0.09701492537313433, 0.10256410256410256, 0.15315315315315314, 0.1134020618556701, 0.10077519379844961, 0.1258741258741259, 0.1308411214953271, 0.1366906474820144, 0.14393939393939395, 0.125, 0.1450381679389313, 0.09558823529411764, 0.10569105691056911, 0.09259259259259259, 0.11594202898550725, 0.10084033613445378, 0.11206896551724138, 0.11594202898550725, 0.09090909090909091, 0.11016949152542373, 0.10679611650485436, 0.11711711711711711, 0.104, 0.10526315789473684, 0.125, 0.09259259259259259, 0.11363636363636363, 0.10344827586206896, 0.102803738317757, 0.1223021582733813, 0.12056737588652482, 0.13076923076923078, 0.09285714285714286, 0.08181818181818182, 0.14184397163120568, 0.11214953271028037, 0.12037037037037036, 0.14473684210526316, 0.11971830985915492, 0.04310344827586207, 0.1111111111111111, 0.10810810810810811, 0.1016949152542373, 0.12149532710280374, 0.0962962962962963, 0.112, 0.14184397163120568, 0.10576923076923077, 0.11864406779661017, 0.10687022900763359, 0.15671641791044777, 0.1276595744680851, 0.11510791366906475, 0.10236220472440945, 0.1, 0.11510791366906475, 0.12195121951219512, 0.12403100775193798, 0.04424778761061947, 0.0625, 0.06153846153846154, 0.13131313131313133, 0.102803738317757, 0.15, 0.125, 0.13392857142857142, 0.0625, 0.09701492537313433, 0.07086614173228346, 0.075, 0.1417910447761194, 0.14615384615384616, 0.1111111111111111, 0.1357142857142857, 0.08461538461538462, 0.12949640287769784, 0.10483870967741936, 0.13970588235294118, 0.08527131782945736, 0.14728682170542637, 0.1016949152542373, 0.10236220472440945, 0.10256410256410256, 0.09929078014184398, 0.14414414414414414, 0.11029411764705882, 0.0743801652892562, 0.09523809523809523, 0.09448818897637795, 0.1320754716981132, 0.13157894736842105, 0.07, 0.1267605633802817, 0.1504424778761062, 0.1, 0.12318840579710146, 0.11971830985915492, 0.12598425196850394, 0.1016949152542373, 0.11304347826086956, 0.10833333333333334, 0.045454545454545456, 0.11278195488721804, 0.1016949152542373, 0.10526315789473684, 0.0673076923076923, 0.11971830985915492, 0.10714285714285714, 0.11538461538461539, 0.14685314685314685, 0.08547008547008547, 0.11267605633802817, 0.11805555555555555, 0.11666666666666667, 0.09649122807017543, 0.05511811023622047, 0.10606060606060606, 0.1223021582733813, 0.09701492537313433, 0.12056737588652482, 0.13934426229508196, 0.0990990990990991, 0.1267605633802817, 0.10714285714285714, 0.10569105691056911, 0.09848484848484848, 0.14423076923076922, 0.09917355371900827, 0.08888888888888889, 0.11971830985915492, 0.12612612612612611, 0.10434782608695652, 0.12598425196850394, 0.096, 0.11009174311926606, 0.08943089430894309, 0.11538461538461539, 0.10256410256410256, 0.09836065573770492, 0.1037037037037037, 0.09523809523809523, 0.10526315789473684, 0.09558823529411764, 0.14388489208633093, 0.09482758620689655, 0.0743801652892562, 0.125, 0.10377358490566038, 0.1111111111111111, 0.11428571428571428, 0.13821138211382114, 0.14166666666666666, 0.12389380530973451, 0.11267605633802817, 0.14074074074074075, 0.09929078014184398, 0.11428571428571428, 0.06363636363636363, 0.11510791366906475, 0.13157894736842105, 0.10619469026548672, 0.12612612612612611, 0.12389380530973451, 0.11666666666666667, 0.09523809523809523, 0.12612612612612611, 0.09821428571428571, 0.11504424778761062, 0.0990990990990991, 0.05343511450381679, 0.1417910447761194, 0.10526315789473684, 0.08256880733944955, 0.11724137931034483, 0.11304347826086956, 0.13333333333333333, 0.14615384615384616, 0.12142857142857143, 0.07758620689655173, 0.125, 0.12149532710280374, 0.12280701754385964, 0.06896551724137931, 0.13636363636363635, 0.1016949152542373, 0.10344827586206896, 0.11428571428571428, 0.09345794392523364, 0.13157894736842105, 0.12149532710280374, 0.13970588235294118, 0.109375, 0.12380952380952381, 0.05223880597014925, 0.1111111111111111, 0.12403100775193798, 0.1267605633802817, 0.10810810810810811, 0.10833333333333334, 0.08771929824561403, 0.14285714285714285, 0.11016949152542373, 0.10236220472440945, 0.08870967741935484, 0.1276595744680851, 0.1, 0.125, 0.10714285714285714, 0.16521739130434782, 0.06722689075630252, 0.12403100775193798, 0.12781954887218044, 0.10185185185185185, 0.1366906474820144]\n",
      "[0.13138686131386862, 0.14285714285714285, 0.15384615384615385, 0.16346153846153846, 0.1523809523809524, 0.12213740458015267, 0.12264150943396226, 0.10909090909090909, 0.12307692307692308, 0.11016949152542373, 0.09836065573770492, 0.0761904761904762, 0.16312056737588654, 0.1259259259259259, 0.1079136690647482, 0.05813953488372093, 0.1568627450980392, 0.10948905109489052, 0.12213740458015267, 0.152, 0.1171875, 0.12121212121212122, 0.1523809523809524, 0.12264150943396226, 0.12037037037037036, 0.10204081632653061, 0.12142857142857143, 0.12727272727272726, 0.12380952380952381, 0.13333333333333333, 0.16666666666666666, 0.14383561643835616, 0.1271186440677966, 0.15966386554621848, 0.0707070707070707, 0.140625, 0.08163265306122448, 0.10909090909090909, 0.13533834586466165, 0.13385826771653545, 0.10891089108910891, 0.1259259259259259, 0.12380952380952381, 0.12037037037037036, 0.1487603305785124, 0.1391304347826087, 0.1259259259259259, 0.10619469026548672, 0.10569105691056911, 0.11570247933884298, 0.12307692307692308, 0.11926605504587157, 0.13008130081300814, 0.12403100775193798, 0.1259259259259259, 0.06930693069306931, 0.13793103448275862, 0.1487603305785124, 0.12244897959183673, 0.12142857142857143, 0.1092436974789916, 0.13846153846153847, 0.12598425196850394, 0.09345794392523364, 0.09803921568627451, 0.1111111111111111, 0.09243697478991597, 0.11504424778761062, 0.1111111111111111, 0.1271186440677966, 0.13114754098360656, 0.11926605504587157, 0.06451612903225806, 0.12781954887218044, 0.1111111111111111, 0.12264150943396226, 0.12857142857142856, 0.12280701754385964, 0.11194029850746269, 0.11570247933884298, 0.13709677419354838, 0.12878787878787878, 0.11818181818181818, 0.08737864077669903, 0.13709677419354838, 0.11818181818181818, 0.1509433962264151, 0.0967741935483871, 0.13333333333333333, 0.11510791366906475, 0.15, 0.13432835820895522, 0.11538461538461539, 0.12213740458015267, 0.152, 0.10852713178294573, 0.14035087719298245, 0.09803921568627451, 0.11278195488721804, 0.09649122807017543, 0.16037735849056603, 0.12121212121212122, 0.06542056074766354, 0.14678899082568808, 0.09090909090909091, 0.102803738317757, 0.11864406779661017, 0.1111111111111111, 0.1223021582733813, 0.08737864077669903, 0.13709677419354838, 0.14074074074074075, 0.10891089108910891, 0.12781954887218044, 0.11764705882352941, 0.11904761904761904, 0.13076923076923078, 0.0970873786407767, 0.10714285714285714, 0.15306122448979592, 0.15, 0.13513513513513514, 0.125, 0.07476635514018691, 0.12727272727272726, 0.14705882352941177, 0.11711711711711711, 0.11764705882352941, 0.14516129032258066, 0.1271186440677966, 0.14814814814814814, 0.14736842105263157, 0.13513513513513514, 0.1487603305785124, 0.12030075187969924, 0.13333333333333333, 0.11194029850746269, 0.16521739130434782, 0.12745098039215685, 0.14615384615384616, 0.168141592920354, 0.13934426229508196, 0.07692307692307693, 0.10784313725490197, 0.09090909090909091, 0.10416666666666667, 0.14285714285714285, 0.15671641791044777, 0.12149532710280374, 0.1308411214953271, 0.0970873786407767, 0.128, 0.0743801652892562, 0.07894736842105263, 0.11363636363636363, 0.12598425196850394, 0.12727272727272726, 0.10869565217391304, 0.11570247933884298, 0.13533834586466165, 0.1391304347826087, 0.11194029850746269, 0.10743801652892562, 0.12698412698412698, 0.11711711711711711, 0.12605042016806722, 0.11818181818181818, 0.12878787878787878, 0.1308411214953271, 0.1328125, 0.10714285714285714, 0.13541666666666666, 0.11764705882352941, 0.10679611650485436, 0.17142857142857143, 0.07446808510638298, 0.11594202898550725, 0.18095238095238095, 0.11650485436893204, 0.12030075187969924, 0.11678832116788321, 0.14166666666666666, 0.11711711711711711, 0.1509433962264151, 0.14414414414414414, 0.07920792079207921, 0.12698412698412698, 0.11711711711711711, 0.12149532710280374, 0.06060606060606061, 0.10869565217391304, 0.14563106796116504, 0.112, 0.15328467153284672, 0.11009174311926606, 0.1259259259259259, 0.13138686131386862, 0.11304347826086956, 0.12264150943396226, 0.0847457627118644, 0.12903225806451613, 0.12781954887218044, 0.13709677419354838, 0.10948905109489052, 0.1271186440677966, 0.09433962264150944, 0.1079136690647482, 0.11320754716981132, 0.13043478260869565, 0.13008130081300814, 0.13, 0.11403508771929824, 0.11023622047244094, 0.11678832116788321, 0.12264150943396226, 0.11009174311926606, 0.14166666666666666, 0.11965811965811966, 0.13861386138613863, 0.11304347826086956, 0.13008130081300814, 0.09821428571428571, 0.12280701754385964, 0.1349206349206349, 0.11864406779661017, 0.14285714285714285, 0.1349206349206349, 0.1417910447761194, 0.12037037037037036, 0.09734513274336283, 0.12195121951219512, 0.14432989690721648, 0.16521739130434782, 0.11940298507462686, 0.12605042016806722, 0.1391304347826087, 0.11009174311926606, 0.16923076923076924, 0.11278195488721804, 0.12878787878787878, 0.12781954887218044, 0.09900990099009901, 0.12030075187969924, 0.12844036697247707, 0.12264150943396226, 0.13333333333333333, 0.14150943396226415, 0.13274336283185842, 0.10101010101010101, 0.13333333333333333, 0.125, 0.1320754716981132, 0.1262135922330097, 0.09090909090909091, 0.11363636363636363, 0.14634146341463414, 0.08737864077669903, 0.1223021582733813, 0.11926605504587157, 0.1388888888888889, 0.12598425196850394, 0.12686567164179105, 0.13333333333333333, 0.12149532710280374, 0.15151515151515152, 0.11926605504587157, 0.08256880733944955, 0.14423076923076922, 0.11711711711711711, 0.11926605504587157, 0.15384615384615385, 0.08823529411764706, 0.12844036697247707, 0.15151515151515152, 0.12030075187969924, 0.12396694214876033, 0.12, 0.08870967741935484, 0.12727272727272726, 0.09448818897637795, 0.12408759124087591, 0.08333333333333333, 0.1651376146788991, 0.12380952380952381, 0.1079136690647482, 0.13636363636363635, 0.15517241379310345, 0.11206896551724138, 0.10869565217391304, 0.11382113821138211, 0.11363636363636363, 0.1346153846153846, 0.16363636363636364, 0.08035714285714286, 0.13008130081300814, 0.13385826771653545, 0.1188118811881188, 0.14285714285714285]\n",
      "[0.14893617021276595, 0.13533834586466165, 0.14414414414414414, 0.14285714285714285, 0.14285714285714285, 0.1323529411764706, 0.10526315789473684, 0.11206896551724138, 0.125, 0.08661417322834646, 0.07633587786259542, 0.09090909090909091, 0.1476510067114094, 0.1357142857142857, 0.13380281690140844, 0.07692307692307693, 0.12612612612612611, 0.1276595744680851, 0.18461538461538463, 0.16153846153846155, 0.18110236220472442, 0.13970588235294118, 0.09401709401709402, 0.09565217391304348, 0.11304347826086956, 0.09523809523809523, 0.1310344827586207, 0.09166666666666666, 0.13636363636363635, 0.14285714285714285, 0.14754098360655737, 0.12987012987012986, 0.09375, 0.1693548387096774, 0.0660377358490566, 0.10869565217391304, 0.10784313725490197, 0.08403361344537816, 0.14492753623188406, 0.13533834586466165, 0.12264150943396226, 0.11188811188811189, 0.12612612612612611, 0.09401709401709402, 0.140625, 0.11290322580645161, 0.1357142857142857, 0.1, 0.08333333333333333, 0.10077519379844961, 0.1953125, 0.09322033898305085, 0.12307692307692308, 0.13432835820895522, 0.11188811188811189, 0.06481481481481481, 0.10317460317460317, 0.140625, 0.11428571428571428, 0.1388888888888889, 0.09448818897637795, 0.13970588235294118, 0.11940298507462686, 0.08771929824561403, 0.10185185185185185, 0.10377358490566038, 0.0703125, 0.09016393442622951, 0.096, 0.10236220472440945, 0.15079365079365079, 0.09322033898305085, 0.09278350515463918, 0.11347517730496454, 0.08547008547008547, 0.13513513513513514, 0.14583333333333334, 0.13445378151260504, 0.13043478260869565, 0.09230769230769231, 0.1297709923664122, 0.1386861313868613, 0.09243697478991597, 0.10185185185185185, 0.1297709923664122, 0.1016949152542373, 0.12173913043478261, 0.11224489795918367, 0.1349206349206349, 0.14084507042253522, 0.12962962962962962, 0.14388489208633093, 0.1259259259259259, 0.1323529411764706, 0.13533834586466165, 0.0948905109489051, 0.12295081967213115, 0.10185185185185185, 0.14814814814814814, 0.1, 0.09243697478991597, 0.19230769230769232, 0.08035714285714286, 0.09090909090909091, 0.10576923076923077, 0.12612612612612611, 0.09448818897637795, 0.08547008547008547, 0.13986013986013987, 0.08181818181818182, 0.1044776119402985, 0.11805555555555555, 0.09174311926605505, 0.13768115942028986, 0.19548872180451127, 0.13846153846153847, 0.11594202898550725, 0.08108108108108109, 0.14084507042253522, 0.12149532710280374, 0.1619047619047619, 0.12903225806451613, 0.1347517730496454, 0.07964601769911504, 0.10084033613445378, 0.11711711711711711, 0.09166666666666666, 0.11009174311926606, 0.12878787878787878, 0.15702479338842976, 0.15714285714285714, 0.09433962264150944, 0.10833333333333334, 0.14960629921259844, 0.1386861313868613, 0.14285714285714285, 0.19083969465648856, 0.13709677419354838, 0.14018691588785046, 0.1386861313868613, 0.112, 0.13178294573643412, 0.08181818181818182, 0.10091743119266056, 0.06923076923076923, 0.10784313725490197, 0.1553398058252427, 0.14084507042253522, 0.12389380530973451, 0.12280701754385964, 0.09090909090909091, 0.12121212121212122, 0.10483870967741936, 0.09243697478991597, 0.1323529411764706, 0.1450381679389313, 0.10084033613445378, 0.1347517730496454, 0.10077519379844961, 0.14492753623188406, 0.11290322580645161, 0.13043478260869565, 0.08461538461538462, 0.13740458015267176, 0.10084033613445378, 0.11023622047244094, 0.1016949152542373, 0.1386861313868613, 0.13274336283185842, 0.11764705882352941, 0.10084033613445378, 0.10476190476190476, 0.10236220472440945, 0.12037037037037036, 0.1111111111111111, 0.10204081632653061, 0.13380281690140844, 0.11965811965811966, 0.0990990990990991, 0.1386861313868613, 0.1267605633802817, 0.13385826771653545, 0.09166666666666666, 0.09322033898305085, 0.12605042016806722, 0.08411214953271028, 0.12030075187969924, 0.09166666666666666, 0.09482758620689655, 0.10891089108910891, 0.1267605633802817, 0.1574074074074074, 0.140625, 0.15384615384615385, 0.0847457627118644, 0.1357142857142857, 0.2, 0.11570247933884298, 0.13513513513513514, 0.08, 0.13953488372093023, 0.13768115942028986, 0.12121212121212122, 0.1276595744680851, 0.12, 0.08849557522123894, 0.1258741258741259, 0.11607142857142858, 0.10483870967741936, 0.12307692307692308, 0.12149532710280374, 0.08943089430894309, 0.08029197080291971, 0.20300751879699247, 0.10526315789473684, 0.09401709401709402, 0.13385826771653545, 0.08661417322834646, 0.11926605504587157, 0.08870967741935484, 0.15873015873015872, 0.1016949152542373, 0.08870967741935484, 0.11940298507462686, 0.112, 0.09482758620689655, 0.12781954887218044, 0.1510791366906475, 0.10344827586206896, 0.09166666666666666, 0.14173228346456693, 0.09259259259259259, 0.11023622047244094, 0.1984732824427481, 0.128, 0.14049586776859505, 0.13274336283185842, 0.15217391304347827, 0.13138686131386862, 0.1223021582733813, 0.13768115942028986, 0.09259259259259259, 0.18181818181818182, 0.1206896551724138, 0.07692307692307693, 0.11504424778761062, 0.11304347826086956, 0.125, 0.10476190476190476, 0.125, 0.13761467889908258, 0.14414414414414414, 0.12844036697247707, 0.07751937984496124, 0.12408759124087591, 0.14728682170542637, 0.08181818181818182, 0.13986013986013987, 0.12173913043478261, 0.1476510067114094, 0.1450381679389313, 0.1366906474820144, 0.11504424778761062, 0.13392857142857142, 0.16346153846153846, 0.11206896551724138, 0.07758620689655173, 0.11504424778761062, 0.09166666666666666, 0.09322033898305085, 0.12949640287769784, 0.102803738317757, 0.1206896551724138, 0.11009174311926606, 0.13043478260869565, 0.1, 0.12264150943396226, 0.06766917293233082, 0.09166666666666666, 0.168, 0.15827338129496402, 0.09734513274336283, 0.10743801652892562, 0.10619469026548672, 0.14184397163120568, 0.168141592920354, 0.14634146341463414, 0.088, 0.1347517730496454, 0.1076923076923077, 0.1323529411764706, 0.13636363636363635, 0.1440677966101695, 0.07563025210084033, 0.168, 0.12686567164179105, 0.10091743119266056, 0.17777777777777778]\n",
      "[0.1347517730496454, 0.15503875968992248, 0.13636363636363635, 0.13513513513513514, 0.13513513513513514, 0.13432835820895522, 0.09734513274336283, 0.09482758620689655, 0.12686567164179105, 0.10569105691056911, 0.10317460317460317, 0.07272727272727272, 0.14189189189189189, 0.145985401459854, 0.11971830985915492, 0.054945054945054944, 0.09821428571428571, 0.12949640287769784, 0.11764705882352941, 0.1732283464566929, 0.1297709923664122, 0.125, 0.09565217391304348, 0.11711711711711711, 0.08620689655172414, 0.1188118811881188, 0.125, 0.09322033898305085, 0.10810810810810811, 0.1366906474820144, 0.14049586776859505, 0.13157894736842105, 0.12195121951219512, 0.18181818181818182, 0.0673076923076923, 0.11851851851851852, 0.05714285714285714, 0.09482758620689655, 0.1386861313868613, 0.11194029850746269, 0.09345794392523364, 0.13768115942028986, 0.09821428571428571, 0.09565217391304348, 0.152, 0.12396694214876033, 0.13768115942028986, 0.1206896551724138, 0.1015625, 0.09375, 0.13533834586466165, 0.09482758620689655, 0.14285714285714285, 0.12781954887218044, 0.12949640287769784, 0.0660377358490566, 0.1322314049586777, 0.14285714285714285, 0.09523809523809523, 0.125, 0.096, 0.13333333333333333, 0.1297709923664122, 0.07964601769911504, 0.11428571428571428, 0.08490566037735849, 0.0975609756097561, 0.11016949152542373, 0.0975609756097561, 0.11290322580645161, 0.144, 0.09482758620689655, 0.061224489795918366, 0.13138686131386862, 0.08695652173913043, 0.09734513274336283, 0.13194444444444445, 0.1271186440677966, 0.12408759124087591, 0.10236220472440945, 0.140625, 0.1323529411764706, 0.09401709401709402, 0.08333333333333333, 0.13178294573643412, 0.09401709401709402, 0.13392857142857142, 0.09183673469387756, 0.14634146341463414, 0.1267605633802817, 0.10091743119266056, 0.13768115942028986, 0.13636363636363635, 0.13432835820895522, 0.14615384615384616, 0.1044776119402985, 0.125, 0.08333333333333333, 0.125, 0.0743801652892562, 0.10344827586206896, 0.13333333333333333, 0.05309734513274336, 0.09243697478991597, 0.0761904761904762, 0.07894736842105263, 0.1322314049586777, 0.08695652173913043, 0.1258741258741259, 0.07339449541284404, 0.12307692307692308, 0.14388489208633093, 0.08333333333333333, 0.13970588235294118, 0.12949640287769784, 0.08148148148148149, 0.13432835820895522, 0.08256880733944955, 0.11888111888111888, 0.12380952380952381, 0.1320754716981132, 0.13071895424836602, 0.1366906474820144, 0.07142857142857142, 0.09322033898305085, 0.11926605504587157, 0.09322033898305085, 0.11214953271028037, 0.13953488372093023, 0.13114754098360656, 0.15942028985507245, 0.09615384615384616, 0.11016949152542373, 0.152, 0.1323529411764706, 0.1366906474820144, 0.14074074074074075, 0.1487603305785124, 0.1111111111111111, 0.14925373134328357, 0.10483870967741936, 0.14285714285714285, 0.07339449541284404, 0.09259259259259259, 0.096, 0.11, 0.125, 0.1510791366906475, 0.09649122807017543, 0.11504424778761062, 0.09259259259259259, 0.13178294573643412, 0.06299212598425197, 0.06666666666666667, 0.13432835820895522, 0.1297709923664122, 0.15178571428571427, 0.12056737588652482, 0.09375, 0.1386861313868613, 0.12396694214876033, 0.1323529411764706, 0.10317460317460317, 0.11363636363636363, 0.09322033898305085, 0.10317460317460317, 0.09401709401709402, 0.14074074074074075, 0.11504424778761062, 0.13636363636363635, 0.11206896551724138, 0.09615384615384616, 0.104, 0.09174311926605505, 0.13274336283185842, 0.04950495049504951, 0.11971830985915492, 0.1415929203539823, 0.10091743119266056, 0.12408759124087591, 0.1366906474820144, 0.14516129032258066, 0.09322033898305085, 0.09482758620689655, 0.1282051282051282, 0.07547169811320754, 0.13076923076923078, 0.09322033898305085, 0.09649122807017543, 0.057692307692307696, 0.12056737588652482, 0.11818181818181818, 0.13385826771653545, 0.15602836879432624, 0.08620689655172414, 0.12949640287769784, 0.1347517730496454, 0.08130081300813008, 0.10714285714285714, 0.09917355371900827, 0.12403100775193798, 0.13138686131386862, 0.140625, 0.12142857142857143, 0.14049586776859505, 0.08035714285714286, 0.11971830985915492, 0.09821428571428571, 0.125, 0.13385826771653545, 0.11320754716981132, 0.09090909090909091, 0.08955223880597014, 0.1366906474820144, 0.12727272727272726, 0.08620689655172414, 0.14516129032258066, 0.10569105691056911, 0.10091743119266056, 0.10833333333333334, 0.13385826771653545, 0.07563025210084033, 0.10833333333333334, 0.1297709923664122, 0.11382113821138211, 0.13636363636363635, 0.1297709923664122, 0.14492753623188406, 0.125, 0.08403361344537816, 0.1349206349206349, 0.09433962264150944, 0.12096774193548387, 0.12318840579710146, 0.13934426229508196, 0.12396694214876033, 0.10526315789473684, 0.17164179104477612, 0.1417910447761194, 0.14074074074074075, 0.13138686131386862, 0.09433962264150944, 0.11594202898550725, 0.11304347826086956, 0.09734513274336283, 0.13761467889908258, 0.14545454545454545, 0.1271186440677966, 0.09615384615384616, 0.09734513274336283, 0.10909090909090909, 0.12612612612612611, 0.11009174311926606, 0.096, 0.13432835820895522, 0.15873015873015872, 0.08333333333333333, 0.1258741258741259, 0.09482758620689655, 0.12666666666666668, 0.1297709923664122, 0.1386861313868613, 0.10714285714285714, 0.09649122807017543, 0.13333333333333333, 0.08547008547008547, 0.07894736842105263, 0.08771929824561403, 0.09322033898305085, 0.09482758620689655, 0.15671641791044777, 0.08411214953271028, 0.11304347826086956, 0.12264150943396226, 0.1323529411764706, 0.11023622047244094, 0.10377358490566038, 0.09375, 0.09322033898305085, 0.13385826771653545, 0.1357142857142857, 0.07017543859649122, 0.11864406779661017, 0.09821428571428571, 0.11971830985915492, 0.14035087719298245, 0.13934426229508196, 0.10743801652892562, 0.12056737588652482, 0.109375, 0.1259259259259259, 0.12844036697247707, 0.14655172413793102, 0.06779661016949153, 0.13385826771653545, 0.13740458015267176, 0.08256880733944955, 0.12949640287769784]\n",
      "[0.15217391304347827, 0.12121212121212122, 0.14814814814814814, 0.13636363636363635, 0.1574074074074074, 0.12686567164179105, 0.10810810810810811, 0.10526315789473684, 0.12781954887218044, 0.08870967741935484, 0.078125, 0.09345794392523364, 0.1506849315068493, 0.1223021582733813, 0.1366906474820144, 0.07954545454545454, 0.11926605504587157, 0.1386861313868613, 0.16153846153846155, 0.14728682170542637, 0.15748031496062992, 0.1259259259259259, 0.08695652173913043, 0.09821428571428571, 0.09649122807017543, 0.10891089108910891, 0.13380281690140844, 0.09401709401709402, 0.14018691588785046, 0.12949640287769784, 0.15126050420168066, 0.13245033112582782, 0.096, 0.15447154471544716, 0.06796116504854369, 0.1111111111111111, 0.1, 0.08620689655172414, 0.13138686131386862, 0.14728682170542637, 0.11538461538461539, 0.09859154929577464, 0.11926605504587157, 0.09649122807017543, 0.1349206349206349, 0.10655737704918032, 0.1223021582733813, 0.10256410256410256, 0.08527131782945736, 0.09448818897637795, 0.16279069767441862, 0.09565217391304348, 0.10852713178294573, 0.12878787878787878, 0.11428571428571428, 0.07692307692307693, 0.10569105691056911, 0.12598425196850394, 0.11764705882352941, 0.13380281690140844, 0.0967741935483871, 0.1259259259259259, 0.10526315789473684, 0.09009009009009009, 0.1262135922330097, 0.10679611650485436, 0.072, 0.09243697478991597, 0.09836065573770492, 0.10483870967741936, 0.14516129032258066, 0.09565217391304348, 0.09574468085106383, 0.1, 0.08771929824561403, 0.11818181818181818, 0.13286713286713286, 0.11864406779661017, 0.125, 0.09448818897637795, 0.11538461538461539, 0.125, 0.09482758620689655, 0.09433962264150944, 0.10687022900763359, 0.10434782608695652, 0.13513513513513514, 0.11578947368421053, 0.12, 0.1357142857142857, 0.12264150943396226, 0.13043478260869565, 0.12030075187969924, 0.12686567164179105, 0.14728682170542637, 0.09701492537313433, 0.11666666666666667, 0.08411214953271028, 0.15151515151515152, 0.09322033898305085, 0.08547008547008547, 0.16030534351145037, 0.07272727272727272, 0.09322033898305085, 0.09803921568627451, 0.0990990990990991, 0.0967741935483871, 0.08771929824561403, 0.1347517730496454, 0.08411214953271028, 0.10687022900763359, 0.1048951048951049, 0.09433962264150944, 0.12408759124087591, 0.18181818181818182, 0.11538461538461539, 0.10218978102189781, 0.09345794392523364, 0.1357142857142857, 0.125, 0.16666666666666666, 0.13157894736842105, 0.12142857142857143, 0.08181818181818182, 0.10344827586206896, 0.12037037037037036, 0.09401709401709402, 0.11320754716981132, 0.10606060606060606, 0.1322314049586777, 0.14388489208633093, 0.0970873786407767, 0.1111111111111111, 0.144, 0.13333333333333333, 0.13768115942028986, 0.17692307692307693, 0.14049586776859505, 0.13333333333333333, 0.125, 0.11475409836065574, 0.12598425196850394, 0.08411214953271028, 0.08333333333333333, 0.0625, 0.1, 0.1485148514851485, 0.11971830985915492, 0.11711711711711711, 0.12612612612612611, 0.09345794392523364, 0.10687022900763359, 0.10743801652892562, 0.08547008547008547, 0.12686567164179105, 0.15748031496062992, 0.10344827586206896, 0.13768115942028986, 0.09448818897637795, 0.13970588235294118, 0.11570247933884298, 0.125, 0.08661417322834646, 0.14960629921259844, 0.10344827586206896, 0.104, 0.10434782608695652, 0.11678832116788321, 0.13636363636363635, 0.1037037037037037, 0.09401709401709402, 0.10784313725490197, 0.10483870967741936, 0.11320754716981132, 0.12389380530973451, 0.09375, 0.1366906474820144, 0.14285714285714285, 0.10185185185185185, 0.125, 0.12142857142857143, 0.128, 0.09401709401709402, 0.09565217391304348, 0.12931034482758622, 0.08653846153846154, 0.10606060606060606, 0.10344827586206896, 0.09734513274336283, 0.13541666666666666, 0.13768115942028986, 0.1619047619047619, 0.1171875, 0.13286713286713286, 0.08695652173913043, 0.1223021582733813, 0.1865671641791045, 0.11864406779661017, 0.1388888888888889, 0.08196721311475409, 0.13385826771653545, 0.12408759124087591, 0.10687022900763359, 0.1386861313868613, 0.11382113821138211, 0.09090909090909091, 0.1366906474820144, 0.11926605504587157, 0.10743801652892562, 0.10852713178294573, 0.11428571428571428, 0.09166666666666666, 0.08208955223880597, 0.1893939393939394, 0.12844036697247707, 0.09649122807017543, 0.11904761904761904, 0.08870967741935484, 0.14423076923076922, 0.09090909090909091, 0.1721311475409836, 0.09482758620689655, 0.09090909090909091, 0.10526315789473684, 0.13333333333333333, 0.10714285714285714, 0.10526315789473684, 0.145985401459854, 0.10619469026548672, 0.09401709401709402, 0.12698412698412698, 0.09523809523809523, 0.11290322580645161, 0.17557251908396945, 0.12195121951219512, 0.15384615384615385, 0.12612612612612611, 0.1386861313868613, 0.1259259259259259, 0.10869565217391304, 0.12408759124087591, 0.08490566037735849, 0.1590909090909091, 0.13392857142857142, 0.07894736842105263, 0.11818181818181818, 0.11607142857142858, 0.1282051282051282, 0.10784313725490197, 0.11818181818181818, 0.14150943396226415, 0.13761467889908258, 0.1320754716981132, 0.07936507936507936, 0.11851851851851852, 0.14173228346456693, 0.09433962264150944, 0.1347517730496454, 0.11504424778761062, 0.1506849315068493, 0.15748031496062992, 0.12318840579710146, 0.12844036697247707, 0.11711711711711711, 0.1568627450980392, 0.09565217391304348, 0.07017543859649122, 0.10810810810810811, 0.09401709401709402, 0.09565217391304348, 0.11594202898550725, 0.08490566037735849, 0.12389380530973451, 0.11320754716981132, 0.125, 0.10236220472440945, 0.1262135922330097, 0.06923076923076923, 0.09401709401709402, 0.1721311475409836, 0.16176470588235295, 0.09009009009009009, 0.11965811965811966, 0.08928571428571429, 0.1366906474820144, 0.1415929203539823, 0.15, 0.09016393442622951, 0.13768115942028986, 0.128, 0.12686567164179105, 0.12962962962962962, 0.14782608695652175, 0.07758620689655173, 0.18181818181818182, 0.11278195488721804, 0.10377358490566038, 0.15555555555555556]\n"
     ]
    }
   ],
   "source": [
    "#Generate similarity matrix: 7 triple hits compared to known Mcl-1 inhibitors\n",
    "\n",
    "mcl_similarity_matrix = []\n",
    "\n",
    "#Iterate through hits compounds\n",
    "for hit_fp in hits_morgan:\n",
    "    mcl_hit_similarities = []\n",
    "\n",
    "    #Iterate through Mcl-1 inhibitors\n",
    "    for mcl_fp in mcl_morgan:\n",
    "\n",
    "        #Calculate similarity\n",
    "        similarity = DataStructs.TanimotoSimilarity(hit_fp, mcl_fp)\n",
    "        mcl_hit_similarities.append(similarity)\n",
    "\n",
    "    mcl_similarity_matrix.append(mcl_hit_similarities)\n",
    "\n",
    "print(\"Mcl-1 Similarity matrix:\")\n",
    "for row in mcl_similarity_matrix:\n",
    "    print(row)"
   ]
  },
  {
   "cell_type": "code",
   "execution_count": 12,
   "metadata": {},
   "outputs": [
    {
     "name": "stdout",
     "output_type": "stream",
     "text": [
      "Mcl-1 average, maximum and min similarity:\n",
      "Row 1: Average = 0.1415352616166376, Maximum = 0.20618556701030927, Minimum = 0.07476635514018691\n",
      "Row 2: Average = 0.11846183225324305, Maximum = 0.20512820512820512, Minimum = 0.0449438202247191\n",
      "Row 3: Average = 0.11049620029356313, Maximum = 0.16521739130434782, Minimum = 0.04310344827586207\n",
      "Row 4: Average = 0.1226363752497254, Maximum = 0.18095238095238095, Minimum = 0.05813953488372093\n",
      "Row 5: Average = 0.12008113045778163, Maximum = 0.20300751879699247, Minimum = 0.06481481481481481\n",
      "Row 6: Average = 0.11498880197731452, Maximum = 0.18181818181818182, Minimum = 0.04950495049504951\n",
      "Row 7: Average = 0.11717151966551975, Maximum = 0.1893939393939394, Minimum = 0.0625\n"
     ]
    }
   ],
   "source": [
    "print('Mcl-1 average, maximum and min similarity:')\n",
    "\n",
    "for i, row in enumerate(mcl_similarity_matrix):\n",
    "    mcl_avg_similarity = sum(row) / len(row)  #Calculate average\n",
    "    mcl_max_similarity = max(row)     # Find max\n",
    "    mcl_min_similarity = min(row)     #Find min\n",
    "    \n",
    "    print(f\"Row {i + 1}: Average = {mcl_avg_similarity}, Maximum = {mcl_max_similarity}, Minimum = {mcl_min_similarity}\")"
   ]
  },
  {
   "cell_type": "code",
   "execution_count": 13,
   "metadata": {},
   "outputs": [
    {
     "name": "stdout",
     "output_type": "stream",
     "text": [
      "Bcl-1 Similarity matrix:\n",
      "[0.152, 0.12195121951219512, 0.1532258064516129, 0.1532258064516129, 0.12264150943396226, 0.1328125, 0.17073170731707318, 0.12931034482758622, 0.144, 0.10526315789473684, 0.14960629921259844, 0.16260162601626016, 0.16, 0.15267175572519084, 0.1553398058252427, 0.1484375, 0.14615384615384616, 0.15, 0.14285714285714285, 0.13846153846153847, 0.15079365079365079, 0.1323529411764706, 0.1415929203539823, 0.14, 0.10101010101010101, 0.15217391304347827, 0.12295081967213115, 0.15254237288135594, 0.1566265060240964, 0.14705882352941177, 0.11538461538461539, 0.13333333333333333, 0.140625, 0.1532258064516129, 0.1487603305785124, 0.13793103448275862, 0.15126050420168066, 0.15966386554621848, 0.1650485436893204, 0.14516129032258066, 0.12121212121212122, 0.15503875968992248, 0.13541666666666666, 0.13178294573643412, 0.1328125, 0.1, 0.14173228346456693, 0.14634146341463414, 0.14960629921259844, 0.14, 0.16071428571428573, 0.15384615384615385, 0.13978494623655913, 0.15126050420168066, 0.14754098360655737, 0.13953488372093023, 0.15384615384615385, 0.09322033898305085, 0.15873015873015872, 0.15730337078651685, 0.15079365079365079, 0.13392857142857142, 0.12149532710280374, 0.14705882352941177, 0.13432835820895522, 0.1297709923664122, 0.15079365079365079, 0.15267175572519084, 0.12121212121212122, 0.13636363636363635, 0.13333333333333333, 0.1450381679389313, 0.14393939393939395, 0.152, 0.15079365079365079, 0.14705882352941177, 0.13740458015267176, 0.1414141414141414, 0.1487603305785124, 0.15267175572519084, 0.10101010101010101, 0.1487603305785124, 0.1532258064516129, 0.15789473684210525, 0.1559633027522936, 0.14563106796116504, 0.152, 0.18181818181818182, 0.140625, 0.17475728155339806, 0.13953488372093023, 0.14285714285714285, 0.12380952380952381, 0.14728682170542637, 0.15503875968992248, 0.13953488372093023, 0.15384615384615385, 0.1717171717171717, 0.1836734693877551, 0.13821138211382114, 0.14960629921259844, 0.08490566037735849, 0.1919191919191919, 0.09375, 0.13953488372093023, 0.14728682170542637, 0.14960629921259844, 0.13533834586466165, 0.14285714285714285, 0.16, 0.144, 0.13513513513513514, 0.1532258064516129, 0.18811881188118812, 0.13445378151260504, 0.16981132075471697, 0.1484375, 0.16260162601626016, 0.13559322033898305, 0.14285714285714285, 0.13846153846153847, 0.168, 0.15966386554621848, 0.15384615384615385, 0.12380952380952381]\n",
      "[0.12030075187969924, 0.12598425196850394, 0.11278195488721804, 0.11278195488721804, 0.09734513274336283, 0.171875, 0.12878787878787878, 0.07936507936507936, 0.1297709923664122, 0.057692307692307696, 0.11851851851851852, 0.184, 0.08035714285714286, 0.13043478260869565, 0.10714285714285714, 0.11764705882352941, 0.14925373134328357, 0.1532258064516129, 0.14634146341463414, 0.11678832116788321, 0.1111111111111111, 0.11188811188811189, 0.16521739130434782, 0.09174311926605505, 0.10679611650485436, 0.16312056737588654, 0.12698412698412698, 0.128, 0.06315789473684211, 0.08928571428571429, 0.1, 0.1048951048951049, 0.13533834586466165, 0.11278195488721804, 0.16129032258064516, 0.09473684210526316, 0.15447154471544716, 0.1532258064516129, 0.11607142857142858, 0.12213740458015267, 0.08411214953271028, 0.14925373134328357, 0.08571428571428572, 0.17054263565891473, 0.171875, 0.09523809523809523, 0.11940298507462686, 0.14960629921259844, 0.13533834586466165, 0.08181818181818182, 0.125, 0.11510791366906475, 0.08823529411764706, 0.15447154471544716, 0.16, 0.16030534351145037, 0.13821138211382114, 0.072, 0.17054263565891473, 0.09090909090909091, 0.16279069767441862, 0.09090909090909091, 0.09649122807017543, 0.15827338129496402, 0.1056338028169014, 0.10869565217391304, 0.19047619047619047, 0.1386861313868613, 0.13725490196078433, 0.13138686131386862, 0.1048951048951049, 0.15671641791044777, 0.14705882352941177, 0.11194029850746269, 0.1111111111111111, 0.10909090909090909, 0.1323529411764706, 0.09259259259259259, 0.125, 0.13043478260869565, 0.08571428571428572, 0.11627906976744186, 0.12121212121212122, 0.11650485436893204, 0.16964285714285715, 0.09821428571428571, 0.13740458015267176, 0.12962962962962962, 0.11851851851851852, 0.10526315789473684, 0.16030534351145037, 0.11764705882352941, 0.09821428571428571, 0.15037593984962405, 0.14925373134328357, 0.15151515151515152, 0.13138686131386862, 0.09009009009009009, 0.1523809523809524, 0.14173228346456693, 0.11851851851851852, 0.09090909090909091, 0.14953271028037382, 0.0891089108910891, 0.11764705882352941, 0.13333333333333333, 0.17054263565891473, 0.15555555555555556, 0.17164179104477612, 0.11009174311926606, 0.12121212121212122, 0.11965811965811966, 0.11278195488721804, 0.09649122807017543, 0.12903225806451613, 0.12173913043478261, 0.15151515151515152, 0.12121212121212122, 0.0859375, 0.12949640287769784, 0.125, 0.14393939393939395, 0.1171875, 0.12, 0.09821428571428571]\n",
      "[0.11678832116788321, 0.13953488372093023, 0.10948905109489052, 0.10144927536231885, 0.12280701754385964, 0.09219858156028368, 0.11678832116788321, 0.09375, 0.10948905109489052, 0.06542056074766354, 0.10714285714285714, 0.11764705882352941, 0.06837606837606838, 0.11888111888111888, 0.09401709401709402, 0.1223021582733813, 0.11267605633802817, 0.11363636363636363, 0.12403100775193798, 0.11347517730496454, 0.1, 0.13194444444444445, 0.12195121951219512, 0.09821428571428571, 0.09259259259259259, 0.10526315789473684, 0.140625, 0.10687022900763359, 0.09375, 0.10526315789473684, 0.11607142857142858, 0.13286713286713286, 0.12318840579710146, 0.10144927536231885, 0.11278195488721804, 0.1134020618556701, 0.11450381679389313, 0.13076923076923078, 0.11206896551724138, 0.10218978102189781, 0.09090909090909091, 0.11267605633802817, 0.09259259259259259, 0.09154929577464789, 0.09219858156028368, 0.08181818181818182, 0.1323529411764706, 0.10294117647058823, 0.13138686131386862, 0.10810810810810811, 0.112, 0.11188811188811189, 0.10576923076923077, 0.11450381679389313, 0.14615384615384616, 0.09859154929577464, 0.1076923076923077, 0.06153846153846154, 0.15671641791044777, 0.13131313131313133, 0.16666666666666666, 0.07086614173228346, 0.075, 0.14583333333333334, 0.13380281690140844, 0.09027777777777778, 0.12408759124087591, 0.1111111111111111, 0.10091743119266056, 0.11971830985915492, 0.13286713286713286, 0.1357142857142857, 0.15942028985507245, 0.10071942446043165, 0.1, 0.09565217391304348, 0.12056737588652482, 0.0990990990990991, 0.11278195488721804, 0.1111111111111111, 0.07272727272727272, 0.1044776119402985, 0.10144927536231885, 0.14423076923076922, 0.125, 0.10434782608695652, 0.10869565217391304, 0.10526315789473684, 0.12318840579710146, 0.0743801652892562, 0.09859154929577464, 0.14166666666666666, 0.12389380530973451, 0.16296296296296298, 0.16176470588235295, 0.15555555555555556, 0.11188811188811189, 0.10619469026548672, 0.12612612612612611, 0.14615384615384616, 0.10714285714285714, 0.09734513274336283, 0.12389380530973451, 0.08571428571428572, 0.1223021582733813, 0.12142857142857143, 0.14814814814814814, 0.1678832116788321, 0.15, 0.07758620689655173, 0.11764705882352941, 0.13445378151260504, 0.10144927536231885, 0.08403361344537816, 0.11627906976744186, 0.10833333333333334, 0.09859154929577464, 0.10948905109489052, 0.051470588235294115, 0.11805555555555555, 0.11347517730496454, 0.10714285714285714, 0.09701492537313433, 0.09923664122137404, 0.06722689075630252]\n",
      "[0.13953488372093023, 0.1652892561983471, 0.11450381679389313, 0.12307692307692308, 0.10909090909090909, 0.13846153846153847, 0.15748031496062992, 0.09836065573770492, 0.15873015873015872, 0.08, 0.1640625, 0.1774193548387097, 0.11214953271028037, 0.1323529411764706, 0.10909090909090909, 0.15384615384615385, 0.16030534351145037, 0.128, 0.112, 0.13533834586466165, 0.12121212121212122, 0.15441176470588236, 0.13793103448275862, 0.09345794392523364, 0.09803921568627451, 0.14893617021276595, 0.16666666666666666, 0.13008130081300814, 0.06451612903225806, 0.1111111111111111, 0.12264150943396226, 0.15555555555555556, 0.11194029850746269, 0.12307692307692308, 0.12698412698412698, 0.0967741935483871, 0.12903225806451613, 0.14634146341463414, 0.16037735849056603, 0.12403100775193798, 0.06542056074766354, 0.14285714285714285, 0.08737864077669903, 0.13740458015267176, 0.13846153846153847, 0.1414141414141414, 0.13846153846153847, 0.152, 0.14615384615384616, 0.10377358490566038, 0.1271186440677966, 0.13333333333333333, 0.14736842105263157, 0.12903225806451613, 0.144, 0.12781954887218044, 0.12195121951219512, 0.09090909090909091, 0.15503875968992248, 0.10416666666666667, 0.15625, 0.0743801652892562, 0.07894736842105263, 0.15217391304347827, 0.15671641791044777, 0.12686567164179105, 0.15625, 0.1323529411764706, 0.1875, 0.10869565217391304, 0.15555555555555556, 0.13333333333333333, 0.1323529411764706, 0.11363636363636363, 0.12121212121212122, 0.10091743119266056, 0.10948905109489052, 0.09433962264150944, 0.12698412698412698, 0.1323529411764706, 0.10891089108910891, 0.12698412698412698, 0.12307692307692308, 0.13, 0.1415929203539823, 0.11009174311926606, 0.13953488372093023, 0.14285714285714285, 0.13740458015267176, 0.09734513274336283, 0.12781954887218044, 0.1391304347826087, 0.11009174311926606, 0.13533834586466165, 0.13432835820895522, 0.13636363636363635, 0.13333333333333333, 0.12264150943396226, 0.13333333333333333, 0.12598425196850394, 0.12030075187969924, 0.102803738317757, 0.14150943396226415, 0.125, 0.13636363636363635, 0.13533834586466165, 0.15503875968992248, 0.18461538461538463, 0.15671641791044777, 0.13333333333333333, 0.140625, 0.1415929203539823, 0.12307692307692308, 0.11818181818181818, 0.11290322580645161, 0.1651376146788991, 0.15384615384615385, 0.12307692307692308, 0.0873015873015873, 0.13970588235294118, 0.15267175572519084, 0.14615384615384616, 0.128, 0.13114754098360656, 0.08035714285714286]\n",
      "[0.12408759124087591, 0.12121212121212122, 0.10071942446043165, 0.1417910447761194, 0.11206896551724138, 0.12318840579710146, 0.1323529411764706, 0.07633587786259542, 0.125, 0.07476635514018691, 0.15555555555555556, 0.17692307692307693, 0.11504424778761062, 0.14184397163120568, 0.08403361344537816, 0.12142857142857143, 0.15217391304347827, 0.14728682170542637, 0.1774193548387097, 0.12056737588652482, 0.12318840579710146, 0.10810810810810811, 0.13934426229508196, 0.08771929824561403, 0.10185185185185185, 0.14189189189189189, 0.12213740458015267, 0.12307692307692308, 0.09278350515463918, 0.08547008547008547, 0.13513513513513514, 0.12413793103448276, 0.13043478260869565, 0.125, 0.12878787878787878, 0.11224489795918367, 0.1484375, 0.13846153846153847, 0.09243697478991597, 0.11764705882352941, 0.08035714285714286, 0.1276595744680851, 0.08181818181818182, 0.1223021582733813, 0.12318840579710146, 0.1320754716981132, 0.12318840579710146, 0.12686567164179105, 0.14705882352941177, 0.0782608695652174, 0.15702479338842976, 0.11888111888111888, 0.09433962264150944, 0.1484375, 0.13636363636363635, 0.12142857142857143, 0.12403100775193798, 0.06923076923076923, 0.17293233082706766, 0.10784313725490197, 0.17424242424242425, 0.10483870967741936, 0.09243697478991597, 0.16083916083916083, 0.125, 0.11267605633802817, 0.16541353383458646, 0.14184397163120568, 0.18627450980392157, 0.1267605633802817, 0.12413793103448276, 0.15942028985507245, 0.15, 0.1, 0.13970588235294118, 0.08547008547008547, 0.1276595744680851, 0.08849557522123894, 0.12030075187969924, 0.14184397163120568, 0.14423076923076922, 0.12030075187969924, 0.1417910447761194, 0.12149532710280374, 0.15254237288135594, 0.09401709401709402, 0.15789473684210525, 0.09482758620689655, 0.1223021582733813, 0.09166666666666666, 0.12142857142857143, 0.14049586776859505, 0.13274336283185842, 0.15328467153284672, 0.15217391304347827, 0.15441176470588236, 0.14285714285714285, 0.07692307692307693, 0.11504424778761062, 0.171875, 0.1386861313868613, 0.07758620689655173, 0.11304347826086956, 0.12745098039215685, 0.12142857142857143, 0.14492753623188406, 0.16417910447761194, 0.16666666666666666, 0.16546762589928057, 0.11504424778761062, 0.125, 0.14285714285714285, 0.125, 0.08333333333333333, 0.11538461538461539, 0.10743801652892562, 0.145985401459854, 0.10071942446043165, 0.07462686567164178, 0.14084507042253522, 0.12857142857142856, 0.1386861313868613, 0.12121212121212122, 0.12403100775193798, 0.07563025210084033]\n",
      "[0.13432835820895522, 0.14960629921259844, 0.13533834586466165, 0.12686567164179105, 0.09482758620689655, 0.11678832116788321, 0.14285714285714285, 0.10317460317460317, 0.13533834586466165, 0.0660377358490566, 0.1323529411764706, 0.16153846153846155, 0.09734513274336283, 0.11971830985915492, 0.09482758620689655, 0.13970588235294118, 0.16296296296296298, 0.168, 0.11627906976744186, 0.13043478260869565, 0.125, 0.14893617021276595, 0.1810344827586207, 0.07964601769911504, 0.11428571428571428, 0.12080536912751678, 0.15079365079365079, 0.13385826771653545, 0.061224489795918366, 0.08695652173913043, 0.09734513274336283, 0.14184397163120568, 0.12408759124087591, 0.12686567164179105, 0.176, 0.09183673469387756, 0.1693548387096774, 0.140625, 0.10344827586206896, 0.12781954887218044, 0.05309734513274336, 0.13768115942028986, 0.07339449541284404, 0.11594202898550725, 0.11678832116788321, 0.09259259259259259, 0.13333333333333333, 0.13740458015267176, 0.15789473684210525, 0.07964601769911504, 0.13114754098360656, 0.12857142857142856, 0.09615384615384616, 0.1693548387096774, 0.184, 0.11510791366906475, 0.1349206349206349, 0.096, 0.14925373134328357, 0.11, 0.1417910447761194, 0.06299212598425197, 0.06666666666666667, 0.1388888888888889, 0.14285714285714285, 0.1223021582733813, 0.16793893129770993, 0.11971830985915492, 0.12264150943396226, 0.12056737588652482, 0.14184397163120568, 0.12056737588652482, 0.14388489208633093, 0.13432835820895522, 0.125, 0.08695652173913043, 0.12142857142857143, 0.08035714285714286, 0.13076923076923078, 0.11971830985915492, 0.10377358490566038, 0.13076923076923078, 0.12686567164179105, 0.11320754716981132, 0.18584070796460178, 0.08620689655172414, 0.1259259259259259, 0.13636363636363635, 0.14074074074074075, 0.08403361344537816, 0.11510791366906475, 0.12396694214876033, 0.10526315789473684, 0.14705882352941177, 0.145985401459854, 0.14814814814814814, 0.12056737588652482, 0.09734513274336283, 0.13761467889908258, 0.12121212121212122, 0.1323529411764706, 0.09821428571428571, 0.14545454545454545, 0.08653846153846154, 0.13138686131386862, 0.15555555555555556, 0.14925373134328357, 0.15217391304347827, 0.1510791366906475, 0.10714285714285714, 0.13533834586466165, 0.12605042016806722, 0.12686567164179105, 0.09401709401709402, 0.1171875, 0.11864406779661017, 0.14814814814814814, 0.11851851851851852, 0.09230769230769231, 0.1510791366906475, 0.1386861313868613, 0.14074074074074075, 0.13178294573643412, 0.1349206349206349, 0.06779661016949153]\n",
      "[0.11851851851851852, 0.12403100775193798, 0.1111111111111111, 0.1111111111111111, 0.10526315789473684, 0.10948905109489052, 0.11851851851851852, 0.078125, 0.11940298507462686, 0.07692307692307693, 0.11678832116788321, 0.16279069767441862, 0.10810810810810811, 0.11267605633802817, 0.08620689655172414, 0.11594202898550725, 0.14705882352941177, 0.1328125, 0.16260162601626016, 0.11510791366906475, 0.10948905109489052, 0.1103448275862069, 0.14285714285714285, 0.09009009009009009, 0.1262135922330097, 0.11409395973154363, 0.13385826771653545, 0.1171875, 0.09574468085106383, 0.08771929824561403, 0.11818181818181818, 0.1111111111111111, 0.125, 0.1111111111111111, 0.13178294573643412, 0.11578947368421053, 0.13385826771653545, 0.12403100775193798, 0.08547008547008547, 0.11194029850746269, 0.07272727272727272, 0.11428571428571428, 0.08411214953271028, 0.10869565217391304, 0.10948905109489052, 0.13592233009708737, 0.11764705882352941, 0.1044776119402985, 0.1417910447761194, 0.08035714285714286, 0.1322314049586777, 0.11347517730496454, 0.0970873786407767, 0.13385826771653545, 0.13953488372093023, 0.1, 0.109375, 0.0625, 0.1590909090909091, 0.1, 0.16030534351145037, 0.10743801652892562, 0.08547008547008547, 0.14788732394366197, 0.11188811188811189, 0.11510791366906475, 0.15151515151515152, 0.11267605633802817, 0.1568627450980392, 0.13768115942028986, 0.1111111111111111, 0.16296296296296298, 0.17037037037037037, 0.11029411764705882, 0.10948905109489052, 0.08771929824561403, 0.1386861313868613, 0.09090909090909091, 0.11450381679389313, 0.11267605633802817, 0.1262135922330097, 0.11450381679389313, 0.1111111111111111, 0.11428571428571428, 0.14655172413793102, 0.09649122807017543, 0.12686567164179105, 0.10714285714285714, 0.125, 0.09401709401709402, 0.1, 0.15384615384615385, 0.12612612612612611, 0.15671641791044777, 0.15555555555555556, 0.16666666666666666, 0.11347517730496454, 0.07894736842105263, 0.11818181818181818, 0.15748031496062992, 0.10869565217391304, 0.07017543859649122, 0.11607142857142858, 0.13131313131313133, 0.12408759124087591, 0.14814814814814814, 0.1590909090909091, 0.16176470588235295, 0.16058394160583941, 0.12844036697247707, 0.11940298507462686, 0.1565217391304348, 0.1111111111111111, 0.08547008547008547, 0.109375, 0.11965811965811966, 0.14074074074074075, 0.0948905109489051, 0.07633587786259542, 0.1357142857142857, 0.13138686131386862, 0.11678832116788321, 0.11538461538461539, 0.11811023622047244, 0.07758620689655173]\n"
     ]
    }
   ],
   "source": [
    "#Generate similarity matrix: 7 triple hits compared to known Bcl-2 inhibitors\n",
    "\n",
    "bcl_similarity_matrix = []\n",
    "\n",
    "#Iterate through hits compounds\n",
    "for hit_fp in hits_morgan:\n",
    "    bcl_hit_similarities = []\n",
    "    \n",
    "    #Iterate through known Bcl-2 inhibitors\n",
    "    for bcl_fp in bcl_morgan:\n",
    "\n",
    "        #Calculate similarity\n",
    "        similarity = DataStructs.TanimotoSimilarity(hit_fp, bcl_fp)\n",
    "        bcl_hit_similarities.append(similarity)\n",
    "\n",
    "    bcl_similarity_matrix.append(bcl_hit_similarities)\n",
    "\n",
    "print(\"Bcl-1 Similarity matrix:\")\n",
    "for row in bcl_similarity_matrix:\n",
    "    print(row)"
   ]
  },
  {
   "cell_type": "code",
   "execution_count": 14,
   "metadata": {},
   "outputs": [
    {
     "name": "stdout",
     "output_type": "stream",
     "text": [
      "Bcl-2 average, max and min similarity:\n",
      "Row 1: Average = 0.14431487916505342, Maximum = 0.1919191919191919, Minimum = 0.08490566037735849\n",
      "Row 2: Average = 0.12442965842007124, Maximum = 0.19047619047619047, Minimum = 0.057692307692307696\n",
      "Row 3: Average = 0.1122278548296454, Maximum = 0.1678832116788321, Minimum = 0.051470588235294115\n",
      "Row 4: Average = 0.12934033439964399, Maximum = 0.1875, Minimum = 0.06451612903225806\n",
      "Row 5: Average = 0.12487079448391519, Maximum = 0.18627450980392157, Minimum = 0.06923076923076923\n",
      "Row 6: Average = 0.12400665008335794, Maximum = 0.18584070796460178, Minimum = 0.05309734513274336\n",
      "Row 7: Average = 0.11877359537917402, Maximum = 0.17037037037037037, Minimum = 0.0625\n"
     ]
    }
   ],
   "source": [
    "print('Bcl-2 average, max and min similarity:')\n",
    "for i, row in enumerate(bcl_similarity_matrix):\n",
    "    bcl_avg_similarity = sum(row) / len(row)  #Calculate average\n",
    "    bcl_max_similarity = max(row)        #Find max\n",
    "    bcl_min_similarity = min(row)        #Find min\n",
    "    print(f\"Row {i + 1}: Average = {bcl_avg_similarity}, Maximum = {bcl_max_similarity}, Minimum = {bcl_min_similarity}\")"
   ]
  },
  {
   "cell_type": "markdown",
   "metadata": {},
   "source": [
    "Mcl-to-Mcl Similarity"
   ]
  },
  {
   "cell_type": "code",
   "execution_count": 15,
   "metadata": {},
   "outputs": [],
   "source": [
    "#Generate similarity matrix: known Mcl-1 inhibitors compared to Mcl-1 inhibitors\n",
    "\n",
    "mcl_mcl_similarity_matrix = []\n",
    "\n",
    "for mcl1_fp in mcl_morgan:\n",
    "    mcl_mcl_similarities = []\n",
    "\n",
    "    for mcl2_fp in mcl_morgan:\n",
    "        similarity = DataStructs.TanimotoSimilarity(mcl1_fp, mcl2_fp)\n",
    "        mcl_mcl_similarities.append(similarity)\n",
    "\n",
    "    mcl_mcl_similarity_matrix.append(mcl_mcl_similarities)"
   ]
  },
  {
   "cell_type": "code",
   "execution_count": 16,
   "metadata": {},
   "outputs": [
    {
     "name": "stdout",
     "output_type": "stream",
     "text": [
      "Mcl-Mcl Minimum Average over Rows: 0.08886871218874835\n",
      "Mcl-Mcl Maximum Average over Rows: 0.3538841447258775\n"
     ]
    }
   ],
   "source": [
    "# Initialize variables to count occurrences of \"1\" and store maximum value\n",
    "max_value_total = float('-inf')\n",
    "total_sum_total = 0\n",
    "count_non_ones_total = 0\n",
    "\n",
    "# Initialize variables to track min and max average values over rows\n",
    "min_average = float('inf')\n",
    "max_average = float('-inf')\n",
    "\n",
    "# Iterate through each row of the similarity matrix\n",
    "for row in mcl_mcl_similarity_matrix:\n",
    "\n",
    "    # Initialize variables for each row\n",
    "    max_value_row = float('-inf')\n",
    "    total_sum_row = 0\n",
    "    count_non_ones_row = 0\n",
    "    \n",
    "    # Iterate through each element in the row\n",
    "    for value in row:\n",
    "\n",
    "        # Check if the value is equal to 1\n",
    "        if value != 1:\n",
    "\n",
    "            # Add the non-\"1\" value to the total sum for the row\n",
    "            total_sum_row += value\n",
    "\n",
    "            # Increment the count of non-\"1\" values for the row\n",
    "            count_non_ones_row += 1\n",
    "\n",
    "    # Calculate the average for the row without 1s\n",
    "    average_row = total_sum_row / count_non_ones_row if count_non_ones_row > 0 else 0\n",
    "    \n",
    "    # Update min and max average values over rows\n",
    "    min_average = min(min_average, average_row)\n",
    "    max_average = max(max_average, average_row)\n",
    "\n",
    "# Print the min and max average values over rows\n",
    "print(f\"Mcl-Mcl Minimum Average over Rows: {min_average}\")\n",
    "print(f\"Mcl-Mcl Maximum Average over Rows: {max_average}\")"
   ]
  },
  {
   "cell_type": "markdown",
   "metadata": {},
   "source": [
    "Bcl-to-Bcl similarity"
   ]
  },
  {
   "cell_type": "code",
   "execution_count": 17,
   "metadata": {},
   "outputs": [],
   "source": [
    "#Generate similarity matrix: known Bcl-2 inhibitors compared to Bcl-2 inhibitors\n",
    "\n",
    "bcl_bcl_similarity_matrix = []\n",
    "\n",
    "#Iterate throguh inhibitors \n",
    "for bcl1_fp in bcl_morgan:\n",
    "    bcl_bcl_similarities = []\n",
    "\n",
    "    #Iterate through inhibitors\n",
    "    for bcl2_fp in bcl_morgan:\n",
    "\n",
    "        #Calculate similarity\n",
    "        similarity = DataStructs.TanimotoSimilarity(bcl1_fp, bcl2_fp)\n",
    "        bcl_bcl_similarities.append(similarity)\n",
    "\n",
    "    bcl_bcl_similarity_matrix.append(bcl_bcl_similarities)\n",
    "\n",
    "\n"
   ]
  },
  {
   "cell_type": "code",
   "execution_count": 18,
   "metadata": {},
   "outputs": [
    {
     "name": "stdout",
     "output_type": "stream",
     "text": [
      "Bcl-Bcl Minimum Average over Rows: 0.09811442474390832\n",
      "Bcl-Bcl Maximum Average over Rows: 0.35757393678992727\n"
     ]
    }
   ],
   "source": [
    "# Initialize variables to count occurrences of \"1\" and store maximum value\n",
    "max_value_total = float('-inf')\n",
    "total_sum_total = 0\n",
    "count_non_ones_total = 0\n",
    "\n",
    "# Initialize variables to track min and max average values over rows\n",
    "min_average = float('inf')\n",
    "max_average = float('-inf')\n",
    "\n",
    "# Iterate through each row of the similarity matrix\n",
    "for row in bcl_bcl_similarity_matrix:\n",
    "\n",
    "    # Initialize variables for each row\n",
    "    max_value_row = float('-inf')\n",
    "    total_sum_row = 0\n",
    "    count_non_ones_row = 0\n",
    "    \n",
    "    # Iterate through each element in the row\n",
    "    for value in row:\n",
    "\n",
    "        # Check if the value is equal to 1\n",
    "        if value != 1:\n",
    "\n",
    "            # Add the non-\"1\" value to the total sum for the row\n",
    "            total_sum_row += value\n",
    "\n",
    "            # Increment the count of non-\"1\" values for the row\n",
    "            count_non_ones_row += 1\n",
    "\n",
    "    # Calculate the average for the row without 1s\n",
    "    average_row = total_sum_row / count_non_ones_row if count_non_ones_row > 0 else 0\n",
    "    \n",
    "    # Update min and max average values over rows\n",
    "    min_average = min(min_average, average_row)\n",
    "    max_average = max(max_average, average_row)\n",
    "\n",
    "# Print the min and max average values over rows\n",
    "print(f\"Bcl-Bcl Minimum Average over Rows: {min_average}\")\n",
    "print(f\"Bcl-Bcl Maximum Average over Rows: {max_average}\")"
   ]
  },
  {
   "cell_type": "code",
   "execution_count": null,
   "metadata": {},
   "outputs": [],
   "source": []
  }
 ],
 "metadata": {
  "kernelspec": {
   "display_name": "merged_39",
   "language": "python",
   "name": "python3"
  },
  "language_info": {
   "codemirror_mode": {
    "name": "ipython",
    "version": 3
   },
   "file_extension": ".py",
   "mimetype": "text/x-python",
   "name": "python",
   "nbconvert_exporter": "python",
   "pygments_lexer": "ipython3",
   "version": "3.9.0"
  }
 },
 "nbformat": 4,
 "nbformat_minor": 2
}
