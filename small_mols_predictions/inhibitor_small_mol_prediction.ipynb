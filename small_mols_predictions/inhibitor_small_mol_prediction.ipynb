{
 "cells": [
  {
   "cell_type": "code",
   "execution_count": null,
   "metadata": {},
   "outputs": [],
   "source": [
    "import pycaret\n",
    "import pandas as pd\n",
    "import numpy as np\n",
    "import seaborn as sns\n",
    "import matplotlib.pyplot as plt\n",
    "\n",
    "from pycaret.classification import setup, compare_models\n",
    "from pycaret.classification import tune_model\n",
    "from pycaret.classification import *\n",
    "from sklearn.metrics import balanced_accuracy_score, matthews_corrcoef\n",
    "from sklearn.metrics import confusion_matrix\n",
    "\n",
    "from pycaret.classification import load_model\n",
    "\n",
    "import pickle\n",
    "\n"
   ]
  },
  {
   "cell_type": "code",
   "execution_count": null,
   "metadata": {},
   "outputs": [],
   "source": [
    "#Define the models to use for the different targets\n",
    "\n",
    "def define_models(t):\n",
    "\n",
    "    if t == \"mcl\": #using fingeprints\n",
    "        model_names = [\"RandomForestClassifier\",'GaussianNB',\"ExtraTreesClassifier\"]\n",
    "\n",
    "    elif t ==\"bcl\": #using molecular descriptors\n",
    "        model_names = [\"DecisionTreeClassifier\",'LGBMClassifier',\"GradientBoostingClassifier\"]\n",
    "\n",
    "    return model_names"
   ]
  },
  {
   "cell_type": "code",
   "execution_count": null,
   "metadata": {},
   "outputs": [],
   "source": [
    "#Load the model\n",
    "\n",
    "def load_the_model(t,model_name,f):\n",
    "    model_file = f'../model_building/inhibitors/models/{t}/{t}_cluster_{f}_{model_name}_session_16'\n",
    "    model = load_model(model_file)\n",
    "\n",
    "    return model"
   ]
  },
  {
   "cell_type": "code",
   "execution_count": null,
   "metadata": {},
   "outputs": [],
   "source": [
    "#Make predictions\n",
    "\n",
    "def make_prediction(model,df):\n",
    "    predictions = predict_model(model, data=df, raw_score=True)\n",
    "    \n",
    "    return predictions"
   ]
  },
  {
   "cell_type": "code",
   "execution_count": null,
   "metadata": {},
   "outputs": [],
   "source": [
    "#Create a clean dataframe for prediciton related information\n",
    "\n",
    "def clean_df_for_info(df,):\n",
    "\n",
    "    columns_to_keep = ['papyrus_SMILES','papyrus_inchi_key']\n",
    "    df = df[columns_to_keep]\n",
    "\n",
    "    return df"
   ]
  },
  {
   "cell_type": "markdown",
   "metadata": {},
   "source": [
    "Mcl-1 prediction"
   ]
  },
  {
   "cell_type": "code",
   "execution_count": null,
   "metadata": {},
   "outputs": [],
   "source": [
    "#Making prediction about MCL-1 inhibitory effect\n",
    "\n",
    "t = \"mcl\"\n",
    "f=\"fp\"\n",
    "\n",
    "models = define_models(t)\n",
    "\n",
    "df_info_mcl = pd.DataFrame()\n",
    "\n",
    "#iterate through the compounds with fingerprints files\n",
    "for i in range(1,48):\n",
    "\n",
    "    #Load the data\n",
    "    file_name = f'data/subfp/small_mols_papyrus_460k_chemopy_{i}.feather'\n",
    "    df_tmp=pd.read_feather(file_name)\n",
    "\n",
    "    df_info_mcl_tmp = clean_df_for_info(df_tmp)\n",
    "\n",
    "    for m in models:\n",
    "        classifier = load_the_model(t,m,f)\n",
    "        predictions = make_prediction(classifier,df_tmp)\n",
    "\n",
    "        pred_classes = predictions['prediction_label'].values\n",
    "\n",
    "        probability_score= predictions['prediction_score_1'].values\n",
    "\n",
    "        column_mod_score=f'{m}_pred_score_{t}_{f}'\n",
    "        df_info_mcl_tmp[column_mod_score] = probability_score\n",
    "\n",
    "        column_mod_class = f'{m}_pred_class_{t}_{f}'\n",
    "        df_info_mcl_tmp[column_mod_class] = pred_classes\n",
    "\n",
    "\n",
    "    #majority vote\n",
    "    counts = df_info_mcl_tmp.iloc[:, [-5, -3, -1]].apply(lambda x: (x == 1).sum(), axis=1)\n",
    "    column_maj_class =f'status_{t}'\n",
    "    df_info_mcl_tmp[column_maj_class] = counts.apply(lambda x: 1 if x > 1 else 0)\n",
    "\n",
    "\n",
    "    df_info_mcl = pd.concat([df_info_mcl,df_info_mcl_tmp],ignore_index=True)\n",
    "\n",
    "#Save the prediction\n",
    "df_info_mcl.to_feather(\"inhibitor_pred_per_target/mcl_prediction.feather\")"
   ]
  },
  {
   "cell_type": "code",
   "execution_count": null,
   "metadata": {},
   "outputs": [],
   "source": [
    "\n",
    "specific_value = 1  \n",
    "mcl_pos= (df_info_mcl['status_mcl'] == specific_value).sum()\n",
    "print(f'MCL-1 positive hits: {mcl_pos}')"
   ]
  },
  {
   "cell_type": "code",
   "execution_count": null,
   "metadata": {},
   "outputs": [],
   "source": [
    "len(df_info_mcl)"
   ]
  },
  {
   "cell_type": "markdown",
   "metadata": {},
   "source": [
    "Bcl-2 prediction"
   ]
  },
  {
   "cell_type": "code",
   "execution_count": null,
   "metadata": {},
   "outputs": [],
   "source": [
    "#Load the small molecules with their calculated molecular descriptors\n",
    "df_submd = pd.read_feather('data/submd/small_mol_460k_submd.feather')\n",
    "df_submd.replace([np.inf, -np.inf], 0, inplace=True)"
   ]
  },
  {
   "cell_type": "code",
   "execution_count": null,
   "metadata": {},
   "outputs": [],
   "source": [
    "#Making prediction about BCL-2 inhibitory effect\n",
    "\n",
    "t = \"bcl\"\n",
    "f=\"md\"\n",
    "\n",
    "models = define_models(t)\n",
    "\n",
    "df_info_bcl = clean_df_for_info(df_submd)\n",
    "print(f'Clean pred df: {len(df_info_bcl)}')\n",
    "\n",
    "for m in models:\n",
    "    classifier = load_the_model(t,m,f)\n",
    "    predictions = make_prediction(classifier,df_submd)\n",
    "\n",
    "    pred_classes = predictions['prediction_label'].values\n",
    "\n",
    "    probability_score= predictions['prediction_score_1'].values\n",
    "\n",
    "    column_mod_score=f'{m}_pred_score_{t}_{f}'\n",
    "    df_info_bcl[column_mod_score] = probability_score\n",
    "\n",
    "    column_mod_class = f'{m}_pred_class_{t}_{f}'\n",
    "    df_info_bcl[column_mod_class] = pred_classes\n",
    "\n",
    "\n",
    " #majority vote\n",
    "counts = df_info_bcl.iloc[:, [-5, -3, -1]].apply(lambda x: (x == 1).sum(), axis=1)\n",
    "column_maj_class =f'status_{t}'\n",
    "df_info_bcl[column_maj_class] = counts.apply(lambda x: 1 if x > 1 else 0)\n",
    "\n",
    "\n",
    "df_info_bcl.to_feather(\"inhibitor_pred_per_target/bcl_prediction.feather\")"
   ]
  },
  {
   "cell_type": "code",
   "execution_count": null,
   "metadata": {},
   "outputs": [],
   "source": [
    "#Check for BCL-2 positive hits\n",
    "\n",
    "specific_value = 1  \n",
    "bcl_pos= (df_info_bcl['status_bcl'] == specific_value).sum()\n",
    "print(f'BCL-2 positive hits: {bcl_pos}')"
   ]
  },
  {
   "cell_type": "markdown",
   "metadata": {},
   "source": [
    "Load all the prediction"
   ]
  },
  {
   "cell_type": "code",
   "execution_count": null,
   "metadata": {},
   "outputs": [],
   "source": [
    "#Load the data\n",
    "mcl_info = pd.read_feather('460k/mcl_pred_460k.feather')\n",
    "bcl_info = pd.read_feather('460k/bcl_pred_460k.feather')\n",
    "\n",
    "#compounds = pd.read_csv('../../6_prediction_bbb/small_mols_papyrus_460k.csv', index_col=0)"
   ]
  },
  {
   "cell_type": "code",
   "execution_count": null,
   "metadata": {},
   "outputs": [],
   "source": [
    "\n",
    "bbb_info = pd.read_csv('../../6_prediction_bbb/460k/small_mol_460k_bbb_pos_15_effluxsubmd.csv', index_col=0)\n",
    "len(bbb_info)"
   ]
  },
  {
   "cell_type": "code",
   "execution_count": null,
   "metadata": {},
   "outputs": [],
   "source": [
    "mcl_info.head()"
   ]
  },
  {
   "cell_type": "code",
   "execution_count": null,
   "metadata": {},
   "outputs": [],
   "source": [
    "mcl_info[\"papyrus_inchi_key\"] = compounds[\"papyrus_inchi_key\"]\n",
    "bcl_info[\"papyrus_inchi_key\"] = compounds[\"papyrus_inchi_key\"]"
   ]
  },
  {
   "cell_type": "markdown",
   "metadata": {},
   "source": [
    "Single positive"
   ]
  },
  {
   "cell_type": "code",
   "execution_count": null,
   "metadata": {},
   "outputs": [],
   "source": [
    "#Check for BCL-2 positive hits\n",
    "\n",
    "specific_value = 1  \n",
    "bcl_pos= (bcl_info['status_bcl'] == specific_value).sum()\n",
    "print(f'BCL-2 positive hits: {bcl_pos}')"
   ]
  },
  {
   "cell_type": "code",
   "execution_count": null,
   "metadata": {},
   "outputs": [],
   "source": [
    "#Check for MCL-1 positive hits\n",
    "\n",
    "specific_value = 1  \n",
    "mcl_pos= (mcl_info['status_mcl'] == specific_value).sum()\n",
    "print(f'MCL-1 positive hits: {mcl_pos}')"
   ]
  },
  {
   "cell_type": "markdown",
   "metadata": {},
   "source": [
    "Double positive"
   ]
  },
  {
   "cell_type": "code",
   "execution_count": null,
   "metadata": {},
   "outputs": [],
   "source": [
    "#Filter for positive predictions\n",
    "\n",
    "df_mcl_pos = mcl_info[mcl_info['status_mcl'] == 1]\n",
    "df_bcl_pos = bcl_info[bcl_info['status_bcl'] == 1]\n",
    "\n",
    "#Check for overlapping olecules\n",
    "double_positive = df_bcl_pos[df_bcl_pos['papyrus_inchi_key'].isin(df_mcl_pos['papyrus_inchi_key'])]   \n",
    "print(f'MCL-1 and BL-2 positive hits: {len(double_positive)}')\n",
    "double_positive.to_csv('double_positive_pred_460k.csv', index=True)"
   ]
  },
  {
   "cell_type": "markdown",
   "metadata": {},
   "source": [
    "Filter for BBB permeability"
   ]
  },
  {
   "cell_type": "code",
   "execution_count": null,
   "metadata": {},
   "outputs": [],
   "source": [
    "#Check for BBB permeablity, MCL-1 and BCL-2 triple positive hits\n",
    "bbb_double_pos = bbb_info[bbb_info['papyrus_inchi_key'].isin(double_positive['papyrus_inchi_key'])] \n",
    "print(f'Triple positive hits: {len(bbb_double_pos)}')\n",
    "bbb_double_pos.head()"
   ]
  },
  {
   "cell_type": "code",
   "execution_count": null,
   "metadata": {},
   "outputs": [],
   "source": [
    "bbb_double_pos.to_csv('triple_pos_efflux_submd.csv',index=True)"
   ]
  },
  {
   "cell_type": "code",
   "execution_count": null,
   "metadata": {},
   "outputs": [],
   "source": [
    "#Check for BBB and MCL-1 positive hits\n",
    "bbb_mcl_inhibitors = bbb_info[bbb_info['papyrus_SMILES'].isin(df_mcl_pos['papyrus_SMILES'])] \n",
    "print(f'BBB permeable and MCL-1 positive hits: {len(bbb_mcl_inhibitors)}')\n",
    "bbb_mcl_inhibitors.to_csv(\"bbb_mcl_inhibitors_460k_efflux_submd.csv\", index=True)"
   ]
  },
  {
   "cell_type": "code",
   "execution_count": null,
   "metadata": {},
   "outputs": [],
   "source": [
    "#Check for BBB and BCL-2 positive hits\n",
    "\n",
    "bbb_bcl_inhibitors = bbb_info[bbb_info['papyrus_SMILES'].isin(df_bcl_pos['papyrus_SMILES'])] \n",
    "print(f'BBB permeable and BCL-2 positive hits: {len(bbb_bcl_inhibitors)}')\n",
    "bbb_bcl_inhibitors.to_csv(\"bbb_bcl_inhibitors_460k_efflux_submd.csv\", index=True)\n"
   ]
  }
 ],
 "metadata": {
  "kernelspec": {
   "display_name": "pycaret_39",
   "language": "python",
   "name": "python3"
  },
  "language_info": {
   "codemirror_mode": {
    "name": "ipython",
    "version": 3
   },
   "file_extension": ".py",
   "mimetype": "text/x-python",
   "name": "python",
   "nbconvert_exporter": "python",
   "pygments_lexer": "ipython3",
   "version": "3.9.18"
  }
 },
 "nbformat": 4,
 "nbformat_minor": 2
}
