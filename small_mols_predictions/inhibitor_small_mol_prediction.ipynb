{
 "cells": [
  {
   "cell_type": "code",
   "execution_count": 1,
   "metadata": {},
   "outputs": [],
   "source": [
    "import pycaret\n",
    "import pandas as pd\n",
    "import numpy as np\n",
    "import seaborn as sns\n",
    "import matplotlib.pyplot as plt\n",
    "\n",
    "from pycaret.classification import setup, compare_models\n",
    "from pycaret.classification import tune_model\n",
    "from pycaret.classification import *\n",
    "from sklearn.metrics import balanced_accuracy_score, matthews_corrcoef\n",
    "from sklearn.metrics import confusion_matrix\n",
    "\n",
    "from pycaret.classification import load_model\n",
    "\n",
    "import pickle\n",
    "\n"
   ]
  },
  {
   "cell_type": "code",
   "execution_count": 2,
   "metadata": {},
   "outputs": [],
   "source": [
    "#Define the models to use for the different targets\n",
    "\n",
    "def define_models(t):\n",
    "\n",
    "    if t == \"mcl\": #using fingeprints\n",
    "        model_names = [\"RandomForestClassifier\",'GaussianNB',\"ExtraTreesClassifier\"]\n",
    "\n",
    "    elif t ==\"bcl\": #using molecular descriptors\n",
    "        model_names = [\"DecisionTreeClassifier\",'LGBMClassifier',\"GradientBoostingClassifier\"]\n",
    "\n",
    "    return model_names"
   ]
  },
  {
   "cell_type": "code",
   "execution_count": 3,
   "metadata": {},
   "outputs": [],
   "source": [
    "#Load the model\n",
    "\n",
    "def load_the_model(t,model_name,f):\n",
    "    model_file = f'../model_building/inhibitors/models/{t}/{t}_cluster_{f}_{model_name}_session_16'\n",
    "    model = load_model(model_file)\n",
    "\n",
    "    return model"
   ]
  },
  {
   "cell_type": "code",
   "execution_count": 4,
   "metadata": {},
   "outputs": [],
   "source": [
    "#Make predictions\n",
    "\n",
    "def make_prediction(model,df):\n",
    "    predictions = predict_model(model, data=df, raw_score=True)\n",
    "    \n",
    "    return predictions"
   ]
  },
  {
   "cell_type": "code",
   "execution_count": 5,
   "metadata": {},
   "outputs": [],
   "source": [
    "#Create a clean dataframe for prediciton related information\n",
    "\n",
    "def clean_df_for_info(df,):\n",
    "\n",
    "    columns_to_keep = ['papyrus_SMILES','papyrus_inchi_key']\n",
    "    df = df[columns_to_keep]\n",
    "\n",
    "    return df"
   ]
  },
  {
   "cell_type": "markdown",
   "metadata": {},
   "source": [
    "Mcl-1 prediction"
   ]
  },
  {
   "cell_type": "code",
   "execution_count": 23,
   "metadata": {},
   "outputs": [
    {
     "name": "stdout",
     "output_type": "stream",
     "text": [
      "Transformation Pipeline and Model Successfully Loaded\n",
      "Transformation Pipeline and Model Successfully Loaded\n",
      "Transformation Pipeline and Model Successfully Loaded\n",
      "Transformation Pipeline and Model Successfully Loaded\n",
      "Transformation Pipeline and Model Successfully Loaded\n",
      "Transformation Pipeline and Model Successfully Loaded\n",
      "Transformation Pipeline and Model Successfully Loaded\n",
      "Transformation Pipeline and Model Successfully Loaded\n",
      "Transformation Pipeline and Model Successfully Loaded\n",
      "Transformation Pipeline and Model Successfully Loaded\n",
      "Transformation Pipeline and Model Successfully Loaded\n",
      "Transformation Pipeline and Model Successfully Loaded\n",
      "Transformation Pipeline and Model Successfully Loaded\n",
      "Transformation Pipeline and Model Successfully Loaded\n",
      "Transformation Pipeline and Model Successfully Loaded\n",
      "Transformation Pipeline and Model Successfully Loaded\n",
      "Transformation Pipeline and Model Successfully Loaded\n",
      "Transformation Pipeline and Model Successfully Loaded\n",
      "Transformation Pipeline and Model Successfully Loaded\n",
      "Transformation Pipeline and Model Successfully Loaded\n",
      "Transformation Pipeline and Model Successfully Loaded\n",
      "Transformation Pipeline and Model Successfully Loaded\n",
      "Transformation Pipeline and Model Successfully Loaded\n",
      "Transformation Pipeline and Model Successfully Loaded\n",
      "Transformation Pipeline and Model Successfully Loaded\n",
      "Transformation Pipeline and Model Successfully Loaded\n",
      "Transformation Pipeline and Model Successfully Loaded\n",
      "Transformation Pipeline and Model Successfully Loaded\n",
      "Transformation Pipeline and Model Successfully Loaded\n",
      "Transformation Pipeline and Model Successfully Loaded\n",
      "Transformation Pipeline and Model Successfully Loaded\n",
      "Transformation Pipeline and Model Successfully Loaded\n",
      "Transformation Pipeline and Model Successfully Loaded\n",
      "Transformation Pipeline and Model Successfully Loaded\n",
      "Transformation Pipeline and Model Successfully Loaded\n",
      "Transformation Pipeline and Model Successfully Loaded\n",
      "Transformation Pipeline and Model Successfully Loaded\n",
      "Transformation Pipeline and Model Successfully Loaded\n",
      "Transformation Pipeline and Model Successfully Loaded\n",
      "Transformation Pipeline and Model Successfully Loaded\n",
      "Transformation Pipeline and Model Successfully Loaded\n",
      "Transformation Pipeline and Model Successfully Loaded\n",
      "Transformation Pipeline and Model Successfully Loaded\n",
      "Transformation Pipeline and Model Successfully Loaded\n",
      "Transformation Pipeline and Model Successfully Loaded\n",
      "Transformation Pipeline and Model Successfully Loaded\n",
      "Transformation Pipeline and Model Successfully Loaded\n",
      "Transformation Pipeline and Model Successfully Loaded\n",
      "Transformation Pipeline and Model Successfully Loaded\n",
      "Transformation Pipeline and Model Successfully Loaded\n",
      "Transformation Pipeline and Model Successfully Loaded\n",
      "Transformation Pipeline and Model Successfully Loaded\n",
      "Transformation Pipeline and Model Successfully Loaded\n",
      "Transformation Pipeline and Model Successfully Loaded\n",
      "Transformation Pipeline and Model Successfully Loaded\n",
      "Transformation Pipeline and Model Successfully Loaded\n",
      "Transformation Pipeline and Model Successfully Loaded\n",
      "Transformation Pipeline and Model Successfully Loaded\n",
      "Transformation Pipeline and Model Successfully Loaded\n",
      "Transformation Pipeline and Model Successfully Loaded\n",
      "Transformation Pipeline and Model Successfully Loaded\n",
      "Transformation Pipeline and Model Successfully Loaded\n",
      "Transformation Pipeline and Model Successfully Loaded\n",
      "Transformation Pipeline and Model Successfully Loaded\n",
      "Transformation Pipeline and Model Successfully Loaded\n",
      "Transformation Pipeline and Model Successfully Loaded\n",
      "Transformation Pipeline and Model Successfully Loaded\n",
      "Transformation Pipeline and Model Successfully Loaded\n",
      "Transformation Pipeline and Model Successfully Loaded\n",
      "Transformation Pipeline and Model Successfully Loaded\n",
      "Transformation Pipeline and Model Successfully Loaded\n",
      "Transformation Pipeline and Model Successfully Loaded\n",
      "Transformation Pipeline and Model Successfully Loaded\n",
      "Transformation Pipeline and Model Successfully Loaded\n",
      "Transformation Pipeline and Model Successfully Loaded\n",
      "Transformation Pipeline and Model Successfully Loaded\n",
      "Transformation Pipeline and Model Successfully Loaded\n",
      "Transformation Pipeline and Model Successfully Loaded\n",
      "Transformation Pipeline and Model Successfully Loaded\n",
      "Transformation Pipeline and Model Successfully Loaded\n",
      "Transformation Pipeline and Model Successfully Loaded\n",
      "Transformation Pipeline and Model Successfully Loaded\n",
      "Transformation Pipeline and Model Successfully Loaded\n",
      "Transformation Pipeline and Model Successfully Loaded\n",
      "Transformation Pipeline and Model Successfully Loaded\n",
      "Transformation Pipeline and Model Successfully Loaded\n",
      "Transformation Pipeline and Model Successfully Loaded\n",
      "Transformation Pipeline and Model Successfully Loaded\n",
      "Transformation Pipeline and Model Successfully Loaded\n",
      "Transformation Pipeline and Model Successfully Loaded\n",
      "Transformation Pipeline and Model Successfully Loaded\n",
      "Transformation Pipeline and Model Successfully Loaded\n",
      "Transformation Pipeline and Model Successfully Loaded\n",
      "Transformation Pipeline and Model Successfully Loaded\n",
      "Transformation Pipeline and Model Successfully Loaded\n",
      "Transformation Pipeline and Model Successfully Loaded\n",
      "Transformation Pipeline and Model Successfully Loaded\n",
      "Transformation Pipeline and Model Successfully Loaded\n",
      "Transformation Pipeline and Model Successfully Loaded\n",
      "Transformation Pipeline and Model Successfully Loaded\n",
      "Transformation Pipeline and Model Successfully Loaded\n",
      "Transformation Pipeline and Model Successfully Loaded\n",
      "Transformation Pipeline and Model Successfully Loaded\n",
      "Transformation Pipeline and Model Successfully Loaded\n",
      "Transformation Pipeline and Model Successfully Loaded\n",
      "Transformation Pipeline and Model Successfully Loaded\n",
      "Transformation Pipeline and Model Successfully Loaded\n",
      "Transformation Pipeline and Model Successfully Loaded\n",
      "Transformation Pipeline and Model Successfully Loaded\n",
      "Transformation Pipeline and Model Successfully Loaded\n",
      "Transformation Pipeline and Model Successfully Loaded\n",
      "Transformation Pipeline and Model Successfully Loaded\n",
      "Transformation Pipeline and Model Successfully Loaded\n",
      "Transformation Pipeline and Model Successfully Loaded\n",
      "Transformation Pipeline and Model Successfully Loaded\n",
      "Transformation Pipeline and Model Successfully Loaded\n",
      "Transformation Pipeline and Model Successfully Loaded\n",
      "Transformation Pipeline and Model Successfully Loaded\n",
      "Transformation Pipeline and Model Successfully Loaded\n",
      "Transformation Pipeline and Model Successfully Loaded\n",
      "Transformation Pipeline and Model Successfully Loaded\n",
      "Transformation Pipeline and Model Successfully Loaded\n",
      "Transformation Pipeline and Model Successfully Loaded\n",
      "Transformation Pipeline and Model Successfully Loaded\n",
      "Transformation Pipeline and Model Successfully Loaded\n",
      "Transformation Pipeline and Model Successfully Loaded\n",
      "Transformation Pipeline and Model Successfully Loaded\n",
      "Transformation Pipeline and Model Successfully Loaded\n",
      "Transformation Pipeline and Model Successfully Loaded\n",
      "Transformation Pipeline and Model Successfully Loaded\n",
      "Transformation Pipeline and Model Successfully Loaded\n",
      "Transformation Pipeline and Model Successfully Loaded\n",
      "Transformation Pipeline and Model Successfully Loaded\n",
      "Transformation Pipeline and Model Successfully Loaded\n",
      "Transformation Pipeline and Model Successfully Loaded\n",
      "Transformation Pipeline and Model Successfully Loaded\n",
      "Transformation Pipeline and Model Successfully Loaded\n",
      "Transformation Pipeline and Model Successfully Loaded\n",
      "Transformation Pipeline and Model Successfully Loaded\n",
      "Transformation Pipeline and Model Successfully Loaded\n",
      "Transformation Pipeline and Model Successfully Loaded\n"
     ]
    }
   ],
   "source": [
    "#Making prediction about MCL-1 inhibitory effect\n",
    "\n",
    "t = \"mcl\"\n",
    "f=\"fp\"\n",
    "\n",
    "models = define_models(t)\n",
    "\n",
    "df_info_mcl = pd.DataFrame()\n",
    "\n",
    "#iterate through the compounds with fingerprints files\n",
    "for i in range(1,48):\n",
    "\n",
    "    #Load the data\n",
    "    file_name = f'data/subfp/small_mols_papyrus_460k_chemopy_{i}.feather'\n",
    "    df_tmp=pd.read_feather(file_name)\n",
    "\n",
    "    df_info_mcl_tmp = clean_df_for_info(df_tmp)\n",
    "\n",
    "    for m in models:\n",
    "        classifier = load_the_model(t,m,f)\n",
    "        predictions = make_prediction(classifier,df_tmp)\n",
    "\n",
    "        pred_classes = predictions['prediction_label'].values\n",
    "\n",
    "        probability_score= predictions['prediction_score_1'].values\n",
    "\n",
    "        column_mod_score=f'{m}_pred_score_{t}_{f}'\n",
    "        df_info_mcl_tmp[column_mod_score] = probability_score\n",
    "\n",
    "        column_mod_class = f'{m}_pred_class_{t}_{f}'\n",
    "        df_info_mcl_tmp[column_mod_class] = pred_classes\n",
    "\n",
    "\n",
    "    #majority vote\n",
    "    counts = df_info_mcl_tmp.iloc[:, [-5, -3, -1]].apply(lambda x: (x == 1).sum(), axis=1)\n",
    "    column_maj_class =f'status_{t}'\n",
    "    df_info_mcl_tmp[column_maj_class] = counts.apply(lambda x: 1 if x > 1 else 0)\n",
    "\n",
    "\n",
    "    df_info_mcl = pd.concat([df_info_mcl,df_info_mcl_tmp],ignore_index=True)\n",
    "\n",
    "#Save the prediction\n",
    "df_info_mcl.to_feather(\"inhibitor_pred_per_target/mcl_prediction.feather\")"
   ]
  },
  {
   "cell_type": "code",
   "execution_count": 24,
   "metadata": {},
   "outputs": [
    {
     "name": "stdout",
     "output_type": "stream",
     "text": [
      "MCL-1 positive hits: 2844\n"
     ]
    }
   ],
   "source": [
    "\n",
    "specific_value = 1  \n",
    "mcl_pos= (df_info_mcl['status_mcl'] == specific_value).sum()\n",
    "print(f'MCL-1 positive hits: {mcl_pos}')"
   ]
  },
  {
   "cell_type": "code",
   "execution_count": 25,
   "metadata": {},
   "outputs": [
    {
     "data": {
      "text/plain": [
       "460160"
      ]
     },
     "execution_count": 25,
     "metadata": {},
     "output_type": "execute_result"
    }
   ],
   "source": [
    "len(df_info_mcl)"
   ]
  },
  {
   "cell_type": "markdown",
   "metadata": {},
   "source": [
    "Bcl-2 prediction"
   ]
  },
  {
   "cell_type": "code",
   "execution_count": 6,
   "metadata": {},
   "outputs": [],
   "source": [
    "#Load the small molecules with their calculated molecular descriptors\n",
    "df_submd = pd.read_feather('data/submd/small_mol_460k_submd.feather')\n",
    "df_submd.replace([np.inf, -np.inf], 0, inplace=True)"
   ]
  },
  {
   "cell_type": "code",
   "execution_count": 8,
   "metadata": {},
   "outputs": [
    {
     "name": "stdout",
     "output_type": "stream",
     "text": [
      "Clean pred df: 460160\n",
      "Transformation Pipeline and Model Successfully Loaded\n",
      "Transformation Pipeline and Model Successfully Loaded\n",
      "Transformation Pipeline and Model Successfully Loaded\n"
     ]
    }
   ],
   "source": [
    "#Making prediction about BCL-2 inhibitory effect\n",
    "\n",
    "t = \"bcl\"\n",
    "f=\"md\"\n",
    "\n",
    "models = define_models(t)\n",
    "\n",
    "df_info_bcl = clean_df_for_info(df_submd)\n",
    "print(f'Clean pred df: {len(df_info_bcl)}')\n",
    "\n",
    "for m in models:\n",
    "    classifier = load_the_model(t,m,f)\n",
    "    predictions = make_prediction(classifier,df_submd)\n",
    "\n",
    "    pred_classes = predictions['prediction_label'].values\n",
    "\n",
    "    probability_score= predictions['prediction_score_1'].values\n",
    "\n",
    "    column_mod_score=f'{m}_pred_score_{t}_{f}'\n",
    "    df_info_bcl[column_mod_score] = probability_score\n",
    "\n",
    "    column_mod_class = f'{m}_pred_class_{t}_{f}'\n",
    "    df_info_bcl[column_mod_class] = pred_classes\n",
    "\n",
    "\n",
    " #majority vote\n",
    "counts = df_info_bcl.iloc[:, [-5, -3, -1]].apply(lambda x: (x == 1).sum(), axis=1)\n",
    "column_maj_class =f'status_{t}'\n",
    "df_info_bcl[column_maj_class] = counts.apply(lambda x: 1 if x > 1 else 0)\n",
    "\n",
    "\n",
    "df_info_bcl.to_feather(\"inhibitor_pred_per_target/bcl_prediction.feather\")"
   ]
  },
  {
   "cell_type": "code",
   "execution_count": 9,
   "metadata": {},
   "outputs": [
    {
     "name": "stdout",
     "output_type": "stream",
     "text": [
      "BCL-2 positive hits: 12759\n"
     ]
    }
   ],
   "source": [
    "#Check for BCL-2 positive hits\n",
    "\n",
    "specific_value = 1  \n",
    "bcl_pos= (df_info_bcl['status_bcl'] == specific_value).sum()\n",
    "print(f'BCL-2 positive hits: {bcl_pos}')"
   ]
  },
  {
   "cell_type": "markdown",
   "metadata": {},
   "source": [
    "Load all the prediction"
   ]
  },
  {
   "cell_type": "code",
   "execution_count": 10,
   "metadata": {},
   "outputs": [],
   "source": [
    "#Load the data\n",
    "mcl_info = pd.read_feather('460k/mcl_pred_460k.feather')\n",
    "bcl_info = pd.read_feather('460k/bcl_pred_460k.feather')\n",
    "\n",
    "#compounds = pd.read_csv('../../6_prediction_bbb/small_mols_papyrus_460k.csv', index_col=0)"
   ]
  },
  {
   "cell_type": "code",
   "execution_count": 4,
   "metadata": {},
   "outputs": [
    {
     "data": {
      "text/plain": [
       "44575"
      ]
     },
     "execution_count": 4,
     "metadata": {},
     "output_type": "execute_result"
    }
   ],
   "source": [
    "\n",
    "bbb_info = pd.read_csv('../../6_prediction_bbb/460k/small_mol_460k_bbb_pos_15_effluxsubmd.csv', index_col=0)\n",
    "len(bbb_info)"
   ]
  },
  {
   "cell_type": "code",
   "execution_count": 11,
   "metadata": {},
   "outputs": [
    {
     "data": {
      "text/html": [
       "<div>\n",
       "<style scoped>\n",
       "    .dataframe tbody tr th:only-of-type {\n",
       "        vertical-align: middle;\n",
       "    }\n",
       "\n",
       "    .dataframe tbody tr th {\n",
       "        vertical-align: top;\n",
       "    }\n",
       "\n",
       "    .dataframe thead th {\n",
       "        text-align: right;\n",
       "    }\n",
       "</style>\n",
       "<table border=\"1\" class=\"dataframe\">\n",
       "  <thead>\n",
       "    <tr style=\"text-align: right;\">\n",
       "      <th></th>\n",
       "      <th>papyrus_SMILES</th>\n",
       "      <th>papyrus_inchi_key</th>\n",
       "      <th>RandomForestClassifier_pred_class_mcl_fp</th>\n",
       "      <th>GaussianNB_pred_class_mcl_fp</th>\n",
       "      <th>ExtraTreesClassifier_pred_class_mcl_fp</th>\n",
       "      <th>status_mcl</th>\n",
       "    </tr>\n",
       "  </thead>\n",
       "  <tbody>\n",
       "    <tr>\n",
       "      <th>0</th>\n",
       "      <td>CCc1nn(C)cc1NC(=O)c1cnn(CC(=O)NC2CCCCC2)c1</td>\n",
       "      <td>YMMAROKZFIRMIE-UHFFFAOYSA-N</td>\n",
       "      <td>0</td>\n",
       "      <td>0</td>\n",
       "      <td>0</td>\n",
       "      <td>0</td>\n",
       "    </tr>\n",
       "    <tr>\n",
       "      <th>1</th>\n",
       "      <td>O=C(Cc1coc2ccccc12)NC1(c2ncon2)CCOCC1</td>\n",
       "      <td>NIXHELTXSUZBEB-UHFFFAOYSA-N</td>\n",
       "      <td>0</td>\n",
       "      <td>0</td>\n",
       "      <td>0</td>\n",
       "      <td>0</td>\n",
       "    </tr>\n",
       "    <tr>\n",
       "      <th>2</th>\n",
       "      <td>CC(C)(C)c1ccc(O)c(NC(=O)c2cccc(Oc3cnccn3)c2)c1</td>\n",
       "      <td>FCZQTOOFYCSPRP-UHFFFAOYSA-N</td>\n",
       "      <td>0</td>\n",
       "      <td>0</td>\n",
       "      <td>0</td>\n",
       "      <td>0</td>\n",
       "    </tr>\n",
       "    <tr>\n",
       "      <th>3</th>\n",
       "      <td>CC(NC(=O)Cc1ccc(Cl)s1)(C(N)=O)c1ccccc1</td>\n",
       "      <td>FZZBTTUJJUONOA-UHFFFAOYSA-N</td>\n",
       "      <td>0</td>\n",
       "      <td>0</td>\n",
       "      <td>0</td>\n",
       "      <td>0</td>\n",
       "    </tr>\n",
       "    <tr>\n",
       "      <th>4</th>\n",
       "      <td>COCc1cccc(S(=O)(=O)Nc2cccc(-n3cn[nH]c3=O)c2C)c1</td>\n",
       "      <td>DAMQYAGVNSSPNU-UHFFFAOYSA-N</td>\n",
       "      <td>0</td>\n",
       "      <td>0</td>\n",
       "      <td>0</td>\n",
       "      <td>0</td>\n",
       "    </tr>\n",
       "  </tbody>\n",
       "</table>\n",
       "</div>"
      ],
      "text/plain": [
       "                                    papyrus_SMILES  \\\n",
       "0       CCc1nn(C)cc1NC(=O)c1cnn(CC(=O)NC2CCCCC2)c1   \n",
       "1            O=C(Cc1coc2ccccc12)NC1(c2ncon2)CCOCC1   \n",
       "2   CC(C)(C)c1ccc(O)c(NC(=O)c2cccc(Oc3cnccn3)c2)c1   \n",
       "3           CC(NC(=O)Cc1ccc(Cl)s1)(C(N)=O)c1ccccc1   \n",
       "4  COCc1cccc(S(=O)(=O)Nc2cccc(-n3cn[nH]c3=O)c2C)c1   \n",
       "\n",
       "             papyrus_inchi_key  RandomForestClassifier_pred_class_mcl_fp  \\\n",
       "0  YMMAROKZFIRMIE-UHFFFAOYSA-N                                         0   \n",
       "1  NIXHELTXSUZBEB-UHFFFAOYSA-N                                         0   \n",
       "2  FCZQTOOFYCSPRP-UHFFFAOYSA-N                                         0   \n",
       "3  FZZBTTUJJUONOA-UHFFFAOYSA-N                                         0   \n",
       "4  DAMQYAGVNSSPNU-UHFFFAOYSA-N                                         0   \n",
       "\n",
       "   GaussianNB_pred_class_mcl_fp  ExtraTreesClassifier_pred_class_mcl_fp  \\\n",
       "0                             0                                       0   \n",
       "1                             0                                       0   \n",
       "2                             0                                       0   \n",
       "3                             0                                       0   \n",
       "4                             0                                       0   \n",
       "\n",
       "   status_mcl  \n",
       "0           0  \n",
       "1           0  \n",
       "2           0  \n",
       "3           0  \n",
       "4           0  "
      ]
     },
     "execution_count": 11,
     "metadata": {},
     "output_type": "execute_result"
    }
   ],
   "source": [
    "mcl_info.head()"
   ]
  },
  {
   "cell_type": "code",
   "execution_count": 6,
   "metadata": {},
   "outputs": [
    {
     "ename": "NameError",
     "evalue": "name 'compounds' is not defined",
     "output_type": "error",
     "traceback": [
      "\u001b[1;31m---------------------------------------------------------------------------\u001b[0m",
      "\u001b[1;31mNameError\u001b[0m                                 Traceback (most recent call last)",
      "Cell \u001b[1;32mIn[6], line 1\u001b[0m\n\u001b[1;32m----> 1\u001b[0m mcl_info[\u001b[38;5;124m\"\u001b[39m\u001b[38;5;124mpapyrus_inchi_key\u001b[39m\u001b[38;5;124m\"\u001b[39m] \u001b[38;5;241m=\u001b[39m \u001b[43mcompounds\u001b[49m[\u001b[38;5;124m\"\u001b[39m\u001b[38;5;124mpapyrus_inchi_key\u001b[39m\u001b[38;5;124m\"\u001b[39m]\n\u001b[0;32m      2\u001b[0m bcl_info[\u001b[38;5;124m\"\u001b[39m\u001b[38;5;124mpapyrus_inchi_key\u001b[39m\u001b[38;5;124m\"\u001b[39m] \u001b[38;5;241m=\u001b[39m compounds[\u001b[38;5;124m\"\u001b[39m\u001b[38;5;124mpapyrus_inchi_key\u001b[39m\u001b[38;5;124m\"\u001b[39m]\n",
      "\u001b[1;31mNameError\u001b[0m: name 'compounds' is not defined"
     ]
    }
   ],
   "source": [
    "mcl_info[\"papyrus_inchi_key\"] = compounds[\"papyrus_inchi_key\"]\n",
    "bcl_info[\"papyrus_inchi_key\"] = compounds[\"papyrus_inchi_key\"]"
   ]
  },
  {
   "cell_type": "markdown",
   "metadata": {},
   "source": [
    "Single positive"
   ]
  },
  {
   "cell_type": "code",
   "execution_count": 13,
   "metadata": {},
   "outputs": [
    {
     "name": "stdout",
     "output_type": "stream",
     "text": [
      "BCL-2 positive hits: 12759\n"
     ]
    }
   ],
   "source": [
    "#Check for BCL-2 positive hits\n",
    "\n",
    "specific_value = 1  \n",
    "bcl_pos= (bcl_info['status_bcl'] == specific_value).sum()\n",
    "print(f'BCL-2 positive hits: {bcl_pos}')"
   ]
  },
  {
   "cell_type": "code",
   "execution_count": 14,
   "metadata": {},
   "outputs": [
    {
     "name": "stdout",
     "output_type": "stream",
     "text": [
      "MCL-1 positive hits: 2844\n"
     ]
    }
   ],
   "source": [
    "#Check for MCL-1 positive hits\n",
    "\n",
    "specific_value = 1  \n",
    "mcl_pos= (mcl_info['status_mcl'] == specific_value).sum()\n",
    "print(f'MCL-1 positive hits: {mcl_pos}')"
   ]
  },
  {
   "cell_type": "markdown",
   "metadata": {},
   "source": [
    "Double positive"
   ]
  },
  {
   "cell_type": "code",
   "execution_count": 15,
   "metadata": {},
   "outputs": [
    {
     "name": "stdout",
     "output_type": "stream",
     "text": [
      "MCL-1 and BL-2 positive hits: 95\n"
     ]
    }
   ],
   "source": [
    "#Filter for positive predictions\n",
    "\n",
    "df_mcl_pos = mcl_info[mcl_info['status_mcl'] == 1]\n",
    "df_bcl_pos = bcl_info[bcl_info['status_bcl'] == 1]\n",
    "\n",
    "#Check for overlapping olecules\n",
    "double_positive = df_bcl_pos[df_bcl_pos['papyrus_inchi_key'].isin(df_mcl_pos['papyrus_inchi_key'])]   \n",
    "print(f'MCL-1 and BL-2 positive hits: {len(double_positive)}')\n",
    "double_positive.to_csv('double_positive_pred_460k.csv', index=True)"
   ]
  },
  {
   "cell_type": "markdown",
   "metadata": {},
   "source": [
    "Filter for BBB permeability"
   ]
  },
  {
   "cell_type": "code",
   "execution_count": 16,
   "metadata": {},
   "outputs": [
    {
     "name": "stdout",
     "output_type": "stream",
     "text": [
      "Triple positive hits: 7\n"
     ]
    },
    {
     "data": {
      "text/html": [
       "<div>\n",
       "<style scoped>\n",
       "    .dataframe tbody tr th:only-of-type {\n",
       "        vertical-align: middle;\n",
       "    }\n",
       "\n",
       "    .dataframe tbody tr th {\n",
       "        vertical-align: top;\n",
       "    }\n",
       "\n",
       "    .dataframe thead th {\n",
       "        text-align: right;\n",
       "    }\n",
       "</style>\n",
       "<table border=\"1\" class=\"dataframe\">\n",
       "  <thead>\n",
       "    <tr style=\"text-align: right;\">\n",
       "      <th></th>\n",
       "      <th>papyrus_SMILES</th>\n",
       "      <th>papyrus_SMILES.1</th>\n",
       "      <th>papyrus_SMILES.2</th>\n",
       "      <th>papyrus_SMILES.3</th>\n",
       "      <th>papyrus_inchi_key</th>\n",
       "      <th>papyrus_inchi_key.1</th>\n",
       "      <th>papyrus_inchi_key.2</th>\n",
       "      <th>papyrus_inchi_key.3</th>\n",
       "      <th>composite_score</th>\n",
       "    </tr>\n",
       "  </thead>\n",
       "  <tbody>\n",
       "    <tr>\n",
       "      <th>2923</th>\n",
       "      <td>CC(C)n1nccc1CNc1ccc2c(c1)CCCC(=O)N2</td>\n",
       "      <td>CC(C)n1nccc1CNc1ccc2c(c1)CCCC(=O)N2</td>\n",
       "      <td>CC(C)n1nccc1CNc1ccc2c(c1)CCCC(=O)N2</td>\n",
       "      <td>CC(C)n1nccc1CNc1ccc2c(c1)CCCC(=O)N2</td>\n",
       "      <td>SARMNYZIRYTMCY-UHFFFAOYSA-N</td>\n",
       "      <td>SARMNYZIRYTMCY-UHFFFAOYSA-N</td>\n",
       "      <td>SARMNYZIRYTMCY-UHFFFAOYSA-N</td>\n",
       "      <td>SARMNYZIRYTMCY-UHFFFAOYSA-N</td>\n",
       "      <td>1.953100</td>\n",
       "    </tr>\n",
       "    <tr>\n",
       "      <th>4087</th>\n",
       "      <td>CC1(C)Cc2c(cnn2-c2ccncc2)CN(CC23CNCC2C3)C1</td>\n",
       "      <td>CC1(C)Cc2c(cnn2-c2ccncc2)CN(CC23CNCC2C3)C1</td>\n",
       "      <td>CC1(C)Cc2c(cnn2-c2ccncc2)CN(CC23CNCC2C3)C1</td>\n",
       "      <td>CC1(C)Cc2c(cnn2-c2ccncc2)CN(CC23CNCC2C3)C1</td>\n",
       "      <td>ATSFSEWFHQYVHS-UHFFFAOYSA-N</td>\n",
       "      <td>ATSFSEWFHQYVHS-UHFFFAOYSA-N</td>\n",
       "      <td>ATSFSEWFHQYVHS-UHFFFAOYSA-N</td>\n",
       "      <td>ATSFSEWFHQYVHS-UHFFFAOYSA-N</td>\n",
       "      <td>1.713733</td>\n",
       "    </tr>\n",
       "    <tr>\n",
       "      <th>11849</th>\n",
       "      <td>CCn1cnc2c1CCN(Cc1nnc(-c3cc(C)oc3C)o1)C21CCOCC1</td>\n",
       "      <td>CCn1cnc2c1CCN(Cc1nnc(-c3cc(C)oc3C)o1)C21CCOCC1</td>\n",
       "      <td>CCn1cnc2c1CCN(Cc1nnc(-c3cc(C)oc3C)o1)C21CCOCC1</td>\n",
       "      <td>CCn1cnc2c1CCN(Cc1nnc(-c3cc(C)oc3C)o1)C21CCOCC1</td>\n",
       "      <td>KFOOTCLDRDTFDD-UHFFFAOYSA-N</td>\n",
       "      <td>KFOOTCLDRDTFDD-UHFFFAOYSA-N</td>\n",
       "      <td>KFOOTCLDRDTFDD-UHFFFAOYSA-N</td>\n",
       "      <td>KFOOTCLDRDTFDD-UHFFFAOYSA-N</td>\n",
       "      <td>1.900433</td>\n",
       "    </tr>\n",
       "    <tr>\n",
       "      <th>12162</th>\n",
       "      <td>CCn1nccc1CN[C@H]1CCO[C@@H]1c1ccc(OC)nc1</td>\n",
       "      <td>CCn1nccc1CN[C@H]1CCO[C@@H]1c1ccc(OC)nc1</td>\n",
       "      <td>CCn1nccc1CN[C@H]1CCO[C@@H]1c1ccc(OC)nc1</td>\n",
       "      <td>CCn1nccc1CN[C@H]1CCO[C@@H]1c1ccc(OC)nc1</td>\n",
       "      <td>LOBCUXHZFHFWEB-GOEBONIOSA-N</td>\n",
       "      <td>LOBCUXHZFHFWEB-GOEBONIOSA-N</td>\n",
       "      <td>LOBCUXHZFHFWEB-GOEBONIOSA-N</td>\n",
       "      <td>LOBCUXHZFHFWEB-GOEBONIOSA-N</td>\n",
       "      <td>1.943400</td>\n",
       "    </tr>\n",
       "    <tr>\n",
       "      <th>12397</th>\n",
       "      <td>CN(C(=O)C1C[C@@]12CC(C)(C)Oc1ccccc12)C1CCCc2c1...</td>\n",
       "      <td>CN(C(=O)C1C[C@@]12CC(C)(C)Oc1ccccc12)C1CCCc2c1...</td>\n",
       "      <td>CN(C(=O)C1C[C@@]12CC(C)(C)Oc1ccccc12)C1CCCc2c1...</td>\n",
       "      <td>CN(C(=O)C1C[C@@]12CC(C)(C)Oc1ccccc12)C1CCCc2c1...</td>\n",
       "      <td>UCXZWLXNHJJABM-KXXGJQBSSA-N</td>\n",
       "      <td>UCXZWLXNHJJABM-KXXGJQBSSA-N</td>\n",
       "      <td>UCXZWLXNHJJABM-KXXGJQBSSA-N</td>\n",
       "      <td>UCXZWLXNHJJABM-KXXGJQBSSA-N</td>\n",
       "      <td>1.941333</td>\n",
       "    </tr>\n",
       "  </tbody>\n",
       "</table>\n",
       "</div>"
      ],
      "text/plain": [
       "                                          papyrus_SMILES  \\\n",
       "2923                 CC(C)n1nccc1CNc1ccc2c(c1)CCCC(=O)N2   \n",
       "4087          CC1(C)Cc2c(cnn2-c2ccncc2)CN(CC23CNCC2C3)C1   \n",
       "11849     CCn1cnc2c1CCN(Cc1nnc(-c3cc(C)oc3C)o1)C21CCOCC1   \n",
       "12162            CCn1nccc1CN[C@H]1CCO[C@@H]1c1ccc(OC)nc1   \n",
       "12397  CN(C(=O)C1C[C@@]12CC(C)(C)Oc1ccccc12)C1CCCc2c1...   \n",
       "\n",
       "                                        papyrus_SMILES.1  \\\n",
       "2923                 CC(C)n1nccc1CNc1ccc2c(c1)CCCC(=O)N2   \n",
       "4087          CC1(C)Cc2c(cnn2-c2ccncc2)CN(CC23CNCC2C3)C1   \n",
       "11849     CCn1cnc2c1CCN(Cc1nnc(-c3cc(C)oc3C)o1)C21CCOCC1   \n",
       "12162            CCn1nccc1CN[C@H]1CCO[C@@H]1c1ccc(OC)nc1   \n",
       "12397  CN(C(=O)C1C[C@@]12CC(C)(C)Oc1ccccc12)C1CCCc2c1...   \n",
       "\n",
       "                                        papyrus_SMILES.2  \\\n",
       "2923                 CC(C)n1nccc1CNc1ccc2c(c1)CCCC(=O)N2   \n",
       "4087          CC1(C)Cc2c(cnn2-c2ccncc2)CN(CC23CNCC2C3)C1   \n",
       "11849     CCn1cnc2c1CCN(Cc1nnc(-c3cc(C)oc3C)o1)C21CCOCC1   \n",
       "12162            CCn1nccc1CN[C@H]1CCO[C@@H]1c1ccc(OC)nc1   \n",
       "12397  CN(C(=O)C1C[C@@]12CC(C)(C)Oc1ccccc12)C1CCCc2c1...   \n",
       "\n",
       "                                        papyrus_SMILES.3  \\\n",
       "2923                 CC(C)n1nccc1CNc1ccc2c(c1)CCCC(=O)N2   \n",
       "4087          CC1(C)Cc2c(cnn2-c2ccncc2)CN(CC23CNCC2C3)C1   \n",
       "11849     CCn1cnc2c1CCN(Cc1nnc(-c3cc(C)oc3C)o1)C21CCOCC1   \n",
       "12162            CCn1nccc1CN[C@H]1CCO[C@@H]1c1ccc(OC)nc1   \n",
       "12397  CN(C(=O)C1C[C@@]12CC(C)(C)Oc1ccccc12)C1CCCc2c1...   \n",
       "\n",
       "                 papyrus_inchi_key          papyrus_inchi_key.1  \\\n",
       "2923   SARMNYZIRYTMCY-UHFFFAOYSA-N  SARMNYZIRYTMCY-UHFFFAOYSA-N   \n",
       "4087   ATSFSEWFHQYVHS-UHFFFAOYSA-N  ATSFSEWFHQYVHS-UHFFFAOYSA-N   \n",
       "11849  KFOOTCLDRDTFDD-UHFFFAOYSA-N  KFOOTCLDRDTFDD-UHFFFAOYSA-N   \n",
       "12162  LOBCUXHZFHFWEB-GOEBONIOSA-N  LOBCUXHZFHFWEB-GOEBONIOSA-N   \n",
       "12397  UCXZWLXNHJJABM-KXXGJQBSSA-N  UCXZWLXNHJJABM-KXXGJQBSSA-N   \n",
       "\n",
       "               papyrus_inchi_key.2          papyrus_inchi_key.3  \\\n",
       "2923   SARMNYZIRYTMCY-UHFFFAOYSA-N  SARMNYZIRYTMCY-UHFFFAOYSA-N   \n",
       "4087   ATSFSEWFHQYVHS-UHFFFAOYSA-N  ATSFSEWFHQYVHS-UHFFFAOYSA-N   \n",
       "11849  KFOOTCLDRDTFDD-UHFFFAOYSA-N  KFOOTCLDRDTFDD-UHFFFAOYSA-N   \n",
       "12162  LOBCUXHZFHFWEB-GOEBONIOSA-N  LOBCUXHZFHFWEB-GOEBONIOSA-N   \n",
       "12397  UCXZWLXNHJJABM-KXXGJQBSSA-N  UCXZWLXNHJJABM-KXXGJQBSSA-N   \n",
       "\n",
       "       composite_score  \n",
       "2923          1.953100  \n",
       "4087          1.713733  \n",
       "11849         1.900433  \n",
       "12162         1.943400  \n",
       "12397         1.941333  "
      ]
     },
     "execution_count": 16,
     "metadata": {},
     "output_type": "execute_result"
    }
   ],
   "source": [
    "#Check for BBB permeablity, MCL-1 and BCL-2 triple positive hits\n",
    "bbb_double_pos = bbb_info[bbb_info['papyrus_inchi_key'].isin(double_positive['papyrus_inchi_key'])] \n",
    "print(f'Triple positive hits: {len(bbb_double_pos)}')\n",
    "bbb_double_pos.head()"
   ]
  },
  {
   "cell_type": "code",
   "execution_count": 17,
   "metadata": {},
   "outputs": [],
   "source": [
    "bbb_double_pos.to_csv('triple_pos_efflux_submd.csv',index=True)"
   ]
  },
  {
   "cell_type": "code",
   "execution_count": 21,
   "metadata": {},
   "outputs": [
    {
     "name": "stdout",
     "output_type": "stream",
     "text": [
      "BBB permeable and MCL-1 positive hits: 252\n"
     ]
    }
   ],
   "source": [
    "#Check for BBB and MCL-1 positive hits\n",
    "bbb_mcl_inhibitors = bbb_info[bbb_info['papyrus_SMILES'].isin(df_mcl_pos['papyrus_SMILES'])] \n",
    "print(f'BBB permeable and MCL-1 positive hits: {len(bbb_mcl_inhibitors)}')\n",
    "bbb_mcl_inhibitors.to_csv(\"bbb_mcl_inhibitors_460k_efflux_submd.csv\", index=True)"
   ]
  },
  {
   "cell_type": "code",
   "execution_count": 22,
   "metadata": {},
   "outputs": [
    {
     "name": "stdout",
     "output_type": "stream",
     "text": [
      "BBB permeable and BCL-2 positive hits: 942\n"
     ]
    }
   ],
   "source": [
    "#Check for BBB and BCL-2 positive hits\n",
    "\n",
    "bbb_bcl_inhibitors = bbb_info[bbb_info['papyrus_SMILES'].isin(df_bcl_pos['papyrus_SMILES'])] \n",
    "print(f'BBB permeable and BCL-2 positive hits: {len(bbb_bcl_inhibitors)}')\n",
    "bbb_bcl_inhibitors.to_csv(\"bbb_bcl_inhibitors_460k_efflux_submd.csv\", index=True)\n"
   ]
  }
 ],
 "metadata": {
  "kernelspec": {
   "display_name": "pycaret_39",
   "language": "python",
   "name": "python3"
  },
  "language_info": {
   "codemirror_mode": {
    "name": "ipython",
    "version": 3
   },
   "file_extension": ".py",
   "mimetype": "text/x-python",
   "name": "python",
   "nbconvert_exporter": "python",
   "pygments_lexer": "ipython3",
   "version": "3.9.18"
  }
 },
 "nbformat": 4,
 "nbformat_minor": 2
}
