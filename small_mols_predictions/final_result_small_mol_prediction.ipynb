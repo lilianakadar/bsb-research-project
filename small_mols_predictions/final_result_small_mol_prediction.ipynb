{
 "cells": [
  {
   "cell_type": "code",
   "execution_count": null,
   "metadata": {},
   "outputs": [],
   "source": [
    "import pandas as pd\n",
    "import numpy as np\n",
    "import seaborn as sns\n",
    "import matplotlib.pyplot as plt"
   ]
  },
  {
   "cell_type": "code",
   "execution_count": null,
   "metadata": {},
   "outputs": [],
   "source": [
    "#Load all the prediction\n",
    "\n",
    "mcl_info = pd.read_feather('inhibitor_pred_per_target/mcl_prediction.feather')\n",
    "bcl_info = pd.read_feather('inhibitor_pred_per_target/bcl_prediction.feather')\n",
    "\n",
    "bbb_info = pd.read_csv('screening_result/small_mol_bbb_pos_15_efflux_neg.csv')"
   ]
  },
  {
   "cell_type": "markdown",
   "metadata": {},
   "source": [
    "Single positive"
   ]
  },
  {
   "cell_type": "code",
   "execution_count": null,
   "metadata": {},
   "outputs": [],
   "source": [
    "#Check for MCL-1 positive hits\n",
    "\n",
    "specific_value = 1  \n",
    "mcl_pos= (mcl_info['status_mcl'] == specific_value).sum()\n",
    "print(f'MCL-1 positive hits: {mcl_pos}')"
   ]
  },
  {
   "cell_type": "code",
   "execution_count": null,
   "metadata": {},
   "outputs": [],
   "source": [
    "#Check for BCL-2 positive hits\n",
    "\n",
    "specific_value = 1  \n",
    "bcl_pos= (bcl_info['status_bcl'] == specific_value).sum()\n",
    "print(f'BCL-2 positive hits: {bcl_pos}')"
   ]
  },
  {
   "cell_type": "markdown",
   "metadata": {},
   "source": [
    "Double positive"
   ]
  },
  {
   "cell_type": "code",
   "execution_count": null,
   "metadata": {},
   "outputs": [],
   "source": [
    "#Filter for positive predictions\n",
    "\n",
    "df_mcl_pos = mcl_info[mcl_info['status_mcl'] == 1]\n",
    "df_bcl_pos = bcl_info[bcl_info['status_bcl'] == 1]\n",
    "\n",
    "#Check for overlapping molecules: that are targeting both Bcl-2 and Mcl-1\n",
    "double_positive = df_bcl_pos[df_bcl_pos['papyrus_inchi_key'].isin(df_mcl_pos['papyrus_inchi_key'])]   \n",
    "print(f'MCL-1 and BL-2 positive hits: {len(double_positive)}')\n",
    "double_positive.to_csv('screening_result/bcl_mcl_positive.csv', index=True)"
   ]
  },
  {
   "cell_type": "code",
   "execution_count": null,
   "metadata": {},
   "outputs": [],
   "source": [
    "#Check for BBB and MCL-1 positive hits\n",
    "bbb_mcl_inhibitors = bbb_info[bbb_info['papyrus_SMILES'].isin(df_mcl_pos['papyrus_SMILES'])] \n",
    "print(f'BBB permeable and MCL-1 positive hits: {len(bbb_mcl_inhibitors)}')\n",
    "bbb_mcl_inhibitors.to_csv(\"screening_result/bbb_mcl_positive.csv\", index=True)"
   ]
  },
  {
   "cell_type": "code",
   "execution_count": null,
   "metadata": {},
   "outputs": [],
   "source": [
    "#Check for BBB and BCL-2 positive hits\n",
    "\n",
    "bbb_bcl_inhibitors = bbb_info[bbb_info['papyrus_SMILES'].isin(df_bcl_pos['papyrus_SMILES'])] \n",
    "print(f'BBB permeable and BCL-2 positive hits: {len(bbb_bcl_inhibitors)}')\n",
    "bbb_bcl_inhibitors.to_csv(\"screening_result/bbb_bcl_positive.csv\", index=True)"
   ]
  },
  {
   "cell_type": "markdown",
   "metadata": {},
   "source": [
    "Triple positive"
   ]
  },
  {
   "cell_type": "code",
   "execution_count": null,
   "metadata": {},
   "outputs": [],
   "source": [
    "#Check for BBB permeablity, MCL-1 and BCL-2 triple positive hits\n",
    "\n",
    "bbb_double_pos = bbb_info[bbb_info['papyrus_inchi_key'].isin(double_positive['papyrus_inchi_key'])] \n",
    "print(f'Triple positive hits: {len(bbb_double_pos)}')\n",
    "bbb_double_pos.to_csv('screening_result/triple_positive_small_mols.csv')\n"
   ]
  },
  {
   "cell_type": "code",
   "execution_count": null,
   "metadata": {},
   "outputs": [],
   "source": []
  }
 ],
 "metadata": {
  "kernelspec": {
   "display_name": "lily",
   "language": "python",
   "name": "python3"
  },
  "language_info": {
   "codemirror_mode": {
    "name": "ipython",
    "version": 3
   },
   "file_extension": ".py",
   "mimetype": "text/x-python",
   "name": "python",
   "nbconvert_exporter": "python",
   "pygments_lexer": "ipython3",
   "version": "3.9.0"
  }
 },
 "nbformat": 4,
 "nbformat_minor": 2
}
